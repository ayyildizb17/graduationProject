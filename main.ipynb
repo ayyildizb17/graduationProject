{
 "cells": [
  {
   "cell_type": "code",
   "execution_count": 32,
   "metadata": {},
   "outputs": [
    {
     "data": {
      "text/html": [
       "<div>\n",
       "<style scoped>\n",
       "    .dataframe tbody tr th:only-of-type {\n",
       "        vertical-align: middle;\n",
       "    }\n",
       "\n",
       "    .dataframe tbody tr th {\n",
       "        vertical-align: top;\n",
       "    }\n",
       "\n",
       "    .dataframe thead th {\n",
       "        text-align: right;\n",
       "    }\n",
       "</style>\n",
       "<table border=\"1\" class=\"dataframe\">\n",
       "  <thead>\n",
       "    <tr style=\"text-align: right;\">\n",
       "      <th></th>\n",
       "      <th>courses</th>\n",
       "      <th>id_student</th>\n",
       "      <th>gender</th>\n",
       "      <th>region</th>\n",
       "      <th>highest_education</th>\n",
       "      <th>age_band</th>\n",
       "      <th>studied_credits</th>\n",
       "      <th>final_result</th>\n",
       "    </tr>\n",
       "  </thead>\n",
       "  <tbody>\n",
       "    <tr>\n",
       "      <th>0</th>\n",
       "      <td>AAA-2013J</td>\n",
       "      <td>11391</td>\n",
       "      <td>M</td>\n",
       "      <td>East_Anglian_Region</td>\n",
       "      <td>HE_Qualification</td>\n",
       "      <td>55-80</td>\n",
       "      <td>240</td>\n",
       "      <td>Pass</td>\n",
       "    </tr>\n",
       "    <tr>\n",
       "      <th>1</th>\n",
       "      <td>AAA-2013J</td>\n",
       "      <td>28400</td>\n",
       "      <td>F</td>\n",
       "      <td>Scotland</td>\n",
       "      <td>HE_Qualification</td>\n",
       "      <td>35-55</td>\n",
       "      <td>60</td>\n",
       "      <td>Pass</td>\n",
       "    </tr>\n",
       "    <tr>\n",
       "      <th>2</th>\n",
       "      <td>AAA-2013J</td>\n",
       "      <td>30268</td>\n",
       "      <td>F</td>\n",
       "      <td>North_Western_Region</td>\n",
       "      <td>A_Level_or_Equivalent</td>\n",
       "      <td>35-55</td>\n",
       "      <td>60</td>\n",
       "      <td>Withdrawn</td>\n",
       "    </tr>\n",
       "    <tr>\n",
       "      <th>3</th>\n",
       "      <td>AAA-2013J</td>\n",
       "      <td>31604</td>\n",
       "      <td>F</td>\n",
       "      <td>South_East_Region</td>\n",
       "      <td>A_Level_or_Equivalent</td>\n",
       "      <td>35-55</td>\n",
       "      <td>60</td>\n",
       "      <td>Pass</td>\n",
       "    </tr>\n",
       "    <tr>\n",
       "      <th>4</th>\n",
       "      <td>AAA-2013J</td>\n",
       "      <td>32885</td>\n",
       "      <td>F</td>\n",
       "      <td>West_Midlands_Region</td>\n",
       "      <td>Lower_Than_A_Level</td>\n",
       "      <td>0-35</td>\n",
       "      <td>60</td>\n",
       "      <td>Pass</td>\n",
       "    </tr>\n",
       "    <tr>\n",
       "      <th>...</th>\n",
       "      <td>...</td>\n",
       "      <td>...</td>\n",
       "      <td>...</td>\n",
       "      <td>...</td>\n",
       "      <td>...</td>\n",
       "      <td>...</td>\n",
       "      <td>...</td>\n",
       "      <td>...</td>\n",
       "    </tr>\n",
       "    <tr>\n",
       "      <th>32588</th>\n",
       "      <td>GGG-2014J</td>\n",
       "      <td>2640965</td>\n",
       "      <td>F</td>\n",
       "      <td>Wales</td>\n",
       "      <td>Lower_Than_A_Level</td>\n",
       "      <td>0-35</td>\n",
       "      <td>30</td>\n",
       "      <td>Fail</td>\n",
       "    </tr>\n",
       "    <tr>\n",
       "      <th>32589</th>\n",
       "      <td>GGG-2014J</td>\n",
       "      <td>2645731</td>\n",
       "      <td>F</td>\n",
       "      <td>East_Anglian_Region</td>\n",
       "      <td>Lower_Than_A_Level</td>\n",
       "      <td>35-55</td>\n",
       "      <td>30</td>\n",
       "      <td>Distinction</td>\n",
       "    </tr>\n",
       "    <tr>\n",
       "      <th>32590</th>\n",
       "      <td>GGG-2014J</td>\n",
       "      <td>2648187</td>\n",
       "      <td>F</td>\n",
       "      <td>South_Region</td>\n",
       "      <td>A_Level_or_Equivalent</td>\n",
       "      <td>0-35</td>\n",
       "      <td>30</td>\n",
       "      <td>Pass</td>\n",
       "    </tr>\n",
       "    <tr>\n",
       "      <th>32591</th>\n",
       "      <td>GGG-2014J</td>\n",
       "      <td>2679821</td>\n",
       "      <td>F</td>\n",
       "      <td>South_East_Region</td>\n",
       "      <td>Lower_Than_A_Level</td>\n",
       "      <td>35-55</td>\n",
       "      <td>30</td>\n",
       "      <td>Withdrawn</td>\n",
       "    </tr>\n",
       "    <tr>\n",
       "      <th>32592</th>\n",
       "      <td>GGG-2014J</td>\n",
       "      <td>2684003</td>\n",
       "      <td>F</td>\n",
       "      <td>Yorkshire_Region</td>\n",
       "      <td>HE_Qualification</td>\n",
       "      <td>35-55</td>\n",
       "      <td>30</td>\n",
       "      <td>Distinction</td>\n",
       "    </tr>\n",
       "  </tbody>\n",
       "</table>\n",
       "<p>32593 rows × 8 columns</p>\n",
       "</div>"
      ],
      "text/plain": [
       "         courses  id_student gender                region   \n",
       "0      AAA-2013J       11391      M   East_Anglian_Region  \\\n",
       "1      AAA-2013J       28400      F              Scotland   \n",
       "2      AAA-2013J       30268      F  North_Western_Region   \n",
       "3      AAA-2013J       31604      F     South_East_Region   \n",
       "4      AAA-2013J       32885      F  West_Midlands_Region   \n",
       "...          ...         ...    ...                   ...   \n",
       "32588  GGG-2014J     2640965      F                 Wales   \n",
       "32589  GGG-2014J     2645731      F   East_Anglian_Region   \n",
       "32590  GGG-2014J     2648187      F          South_Region   \n",
       "32591  GGG-2014J     2679821      F     South_East_Region   \n",
       "32592  GGG-2014J     2684003      F      Yorkshire_Region   \n",
       "\n",
       "           highest_education age_band  studied_credits final_result  \n",
       "0           HE_Qualification    55-80              240         Pass  \n",
       "1           HE_Qualification    35-55               60         Pass  \n",
       "2      A_Level_or_Equivalent    35-55               60    Withdrawn  \n",
       "3      A_Level_or_Equivalent    35-55               60         Pass  \n",
       "4         Lower_Than_A_Level     0-35               60         Pass  \n",
       "...                      ...      ...              ...          ...  \n",
       "32588     Lower_Than_A_Level     0-35               30         Fail  \n",
       "32589     Lower_Than_A_Level    35-55               30  Distinction  \n",
       "32590  A_Level_or_Equivalent     0-35               30         Pass  \n",
       "32591     Lower_Than_A_Level    35-55               30    Withdrawn  \n",
       "32592       HE_Qualification    35-55               30  Distinction  \n",
       "\n",
       "[32593 rows x 8 columns]"
      ]
     },
     "execution_count": 32,
     "metadata": {},
     "output_type": "execute_result"
    }
   ],
   "source": [
    "import pandas as pd\n",
    "\n",
    "data = pd.read_csv(\"cleanedData.csv\")\n",
    "\n",
    "data['courses'] = data[['code_module', 'code_presentation']].apply('-'.join, axis=1)\n",
    "data = data.replace(' ', '_', regex=True)\n",
    "\n",
    "# keep only relevant columns in our dataset\n",
    "data = data[['courses', 'id_student','gender','region',\n",
    "        'highest_education', 'age_band',\n",
    "        'studied_credits', 'final_result']]\n",
    "\n",
    "data"
   ]
  },
  {
   "cell_type": "code",
   "execution_count": 33,
   "metadata": {},
   "outputs": [],
   "source": [
    "import nltk\n",
    "from random import shuffle\n",
    "\n",
    "tokenized_data = []\n",
    "\n",
    "for i in data.index:\n",
    "    a = str(data['courses'][i] + ' ') + str(data['gender'][i] + ' ') + str(data['region'][i] + ' ') + str(data['highest_education'][i] + ' ') + str(data['age_band'][i] + ' ') + str(data['final_result'][i])\n",
    "    a = a.lower()\n",
    "\n",
    "    split = a.split()    # Split the string into a list of words\n",
    "    shuffle(split)       # This shuffles the list in-place.\n",
    "    a = ' '.join(split)  # Turn the list back into a string\n",
    "    \n",
    "    tokenized_data.append(nltk.word_tokenize(a))"
   ]
  },
  {
   "cell_type": "code",
   "execution_count": 34,
   "metadata": {},
   "outputs": [
    {
     "data": {
      "text/plain": [
       "[['pass',\n",
       "  'aaa-2013j',\n",
       "  'm',\n",
       "  '55-80',\n",
       "  'he_qualification',\n",
       "  'east_anglian_region'],\n",
       " ['aaa-2013j', 'scotland', 'f', 'he_qualification', '35-55', 'pass'],\n",
       " ['withdrawn',\n",
       "  'north_western_region',\n",
       "  'aaa-2013j',\n",
       "  'a_level_or_equivalent',\n",
       "  '35-55',\n",
       "  'f'],\n",
       " ['pass',\n",
       "  'a_level_or_equivalent',\n",
       "  '35-55',\n",
       "  'south_east_region',\n",
       "  'aaa-2013j',\n",
       "  'f'],\n",
       " ['west_midlands_region',\n",
       "  '0-35',\n",
       "  'f',\n",
       "  'pass',\n",
       "  'lower_than_a_level',\n",
       "  'aaa-2013j'],\n",
       " ['wales', '35-55', 'm', 'aaa-2013j', 'a_level_or_equivalent', 'pass'],\n",
       " ['pass', 'he_qualification', '0-35', 'aaa-2013j', 'scotland', 'm'],\n",
       " ['aaa-2013j',\n",
       "  'a_level_or_equivalent',\n",
       "  'north_western_region',\n",
       "  'pass',\n",
       "  '0-35',\n",
       "  'f'],\n",
       " ['0-35',\n",
       "  'pass',\n",
       "  'east_anglian_region',\n",
       "  'a_level_or_equivalent',\n",
       "  'aaa-2013j',\n",
       "  'f'],\n",
       " ['north_region',\n",
       "  'post_graduate_qualification',\n",
       "  '55-80',\n",
       "  'aaa-2013j',\n",
       "  'pass',\n",
       "  'm'],\n",
       " ['lower_than_a_level', 'pass', 'aaa-2013j', 'm', 'south_region', '35-55'],\n",
       " ['east_anglian_region',\n",
       "  'f',\n",
       "  'a_level_or_equivalent',\n",
       "  'aaa-2013j',\n",
       "  '0-35',\n",
       "  'pass'],\n",
       " ['35-55',\n",
       "  'aaa-2013j',\n",
       "  'pass',\n",
       "  'lower_than_a_level',\n",
       "  'east_anglian_region',\n",
       "  'm'],\n",
       " ['aaa-2013j',\n",
       "  'pass',\n",
       "  'f',\n",
       "  'he_qualification',\n",
       "  '0-35',\n",
       "  'north_western_region'],\n",
       " ['m', 'lower_than_a_level', 'pass', 'scotland', 'aaa-2013j', '35-55'],\n",
       " ['aaa-2013j',\n",
       "  'east_anglian_region',\n",
       "  'a_level_or_equivalent',\n",
       "  '0-35',\n",
       "  'withdrawn',\n",
       "  'f'],\n",
       " ['35-55',\n",
       "  'west_midlands_region',\n",
       "  'a_level_or_equivalent',\n",
       "  'aaa-2013j',\n",
       "  'pass',\n",
       "  'f'],\n",
       " ['pass', '35-55', 'he_qualification', 'm', 'aaa-2013j', 'ireland'],\n",
       " ['fail',\n",
       "  'm',\n",
       "  'a_level_or_equivalent',\n",
       "  'aaa-2013j',\n",
       "  '35-55',\n",
       "  'east_anglian_region'],\n",
       " ['35-55',\n",
       "  'aaa-2013j',\n",
       "  'a_level_or_equivalent',\n",
       "  'south_west_region',\n",
       "  'pass',\n",
       "  'm'],\n",
       " ['0-35',\n",
       "  'aaa-2013j',\n",
       "  'a_level_or_equivalent',\n",
       "  'east_midlands_region',\n",
       "  'pass',\n",
       "  'm'],\n",
       " ['aaa-2013j',\n",
       "  '0-35',\n",
       "  'pass',\n",
       "  'he_qualification',\n",
       "  'm',\n",
       "  'north_western_region'],\n",
       " ['lower_than_a_level',\n",
       "  '35-55',\n",
       "  'm',\n",
       "  'aaa-2013j',\n",
       "  'withdrawn',\n",
       "  'south_region'],\n",
       " ['pass', '35-55', 'aaa-2013j', 'm', 'lower_than_a_level', 'wales'],\n",
       " ['m',\n",
       "  'aaa-2013j',\n",
       "  'pass',\n",
       "  'yorkshire_region',\n",
       "  '0-35',\n",
       "  'a_level_or_equivalent'],\n",
       " ['m', '35-55', 'pass', 'south_region', 'aaa-2013j', 'lower_than_a_level'],\n",
       " ['0-35',\n",
       "  'm',\n",
       "  'aaa-2013j',\n",
       "  'a_level_or_equivalent',\n",
       "  'pass',\n",
       "  'north_western_region'],\n",
       " ['0-35', 'aaa-2013j', 'london_region', 'm', 'pass', 'he_qualification'],\n",
       " ['aaa-2013j', 'post_graduate_qualification', 'ireland', '35-55', 'pass', 'm'],\n",
       " ['he_qualification', 'withdrawn', 'aaa-2013j', 'm', '35-55', 'south_region'],\n",
       " ['m',\n",
       "  'pass',\n",
       "  'east_midlands_region',\n",
       "  '0-35',\n",
       "  'aaa-2013j',\n",
       "  'lower_than_a_level'],\n",
       " ['east_anglian_region',\n",
       "  'he_qualification',\n",
       "  'aaa-2013j',\n",
       "  '35-55',\n",
       "  'pass',\n",
       "  'm'],\n",
       " ['east_anglian_region',\n",
       "  'aaa-2013j',\n",
       "  'pass',\n",
       "  'he_qualification',\n",
       "  '35-55',\n",
       "  'f'],\n",
       " ['pass', 'aaa-2013j', 'yorkshire_region', '35-55', 'm', 'lower_than_a_level'],\n",
       " ['35-55',\n",
       "  'post_graduate_qualification',\n",
       "  'f',\n",
       "  'pass',\n",
       "  'aaa-2013j',\n",
       "  'north_region'],\n",
       " ['yorkshire_region', 'pass', 'm', 'he_qualification', 'aaa-2013j', '35-55'],\n",
       " ['wales', 'aaa-2013j', 'pass', 'm', 'he_qualification', '0-35'],\n",
       " ['a_level_or_equivalent',\n",
       "  'pass',\n",
       "  'east_anglian_region',\n",
       "  'aaa-2013j',\n",
       "  'm',\n",
       "  '35-55'],\n",
       " ['0-35',\n",
       "  'east_midlands_region',\n",
       "  'pass',\n",
       "  'm',\n",
       "  'aaa-2013j',\n",
       "  'he_qualification'],\n",
       " ['south_region', 'pass', '35-55', 'm', 'a_level_or_equivalent', 'aaa-2013j'],\n",
       " ['0-35',\n",
       "  'east_midlands_region',\n",
       "  'aaa-2013j',\n",
       "  'f',\n",
       "  'a_level_or_equivalent',\n",
       "  'pass'],\n",
       " ['m',\n",
       "  'aaa-2013j',\n",
       "  '0-35',\n",
       "  'a_level_or_equivalent',\n",
       "  'withdrawn',\n",
       "  'west_midlands_region'],\n",
       " ['f',\n",
       "  'east_anglian_region',\n",
       "  'aaa-2013j',\n",
       "  '35-55',\n",
       "  'lower_than_a_level',\n",
       "  'pass'],\n",
       " ['a_level_or_equivalent',\n",
       "  'south_east_region',\n",
       "  'f',\n",
       "  'aaa-2013j',\n",
       "  'distinction',\n",
       "  '35-55'],\n",
       " ['0-35',\n",
       "  'east_anglian_region',\n",
       "  'aaa-2013j',\n",
       "  'lower_than_a_level',\n",
       "  'withdrawn',\n",
       "  'f'],\n",
       " ['aaa-2013j',\n",
       "  '35-55',\n",
       "  'f',\n",
       "  'withdrawn',\n",
       "  'lower_than_a_level',\n",
       "  'south_east_region'],\n",
       " ['a_level_or_equivalent',\n",
       "  'm',\n",
       "  '35-55',\n",
       "  'aaa-2013j',\n",
       "  'pass',\n",
       "  'south_west_region'],\n",
       " ['0-35',\n",
       "  'a_level_or_equivalent',\n",
       "  'east_midlands_region',\n",
       "  'f',\n",
       "  'aaa-2013j',\n",
       "  'pass'],\n",
       " ['0-35',\n",
       "  'm',\n",
       "  'withdrawn',\n",
       "  'a_level_or_equivalent',\n",
       "  'south_west_region',\n",
       "  'aaa-2013j'],\n",
       " ['pass', 'aaa-2013j', 'north_region', 'f', '35-55', 'a_level_or_equivalent'],\n",
       " ['pass', 'aaa-2013j', 'south_region', '35-55', 'he_qualification', 'f'],\n",
       " ['south_west_region', '0-35', 'aaa-2013j', 'pass', 'm', 'he_qualification'],\n",
       " ['aaa-2013j',\n",
       "  'west_midlands_region',\n",
       "  'fail',\n",
       "  'a_level_or_equivalent',\n",
       "  'f',\n",
       "  '0-35'],\n",
       " ['north_region', 'm', 'lower_than_a_level', '0-35', 'aaa-2013j', 'fail'],\n",
       " ['lower_than_a_level', 'north_region', '0-35', 'withdrawn', 'aaa-2013j', 'f'],\n",
       " ['withdrawn',\n",
       "  'north_western_region',\n",
       "  'f',\n",
       "  '35-55',\n",
       "  'a_level_or_equivalent',\n",
       "  'aaa-2013j'],\n",
       " ['aaa-2013j', 'pass', '0-35', 'a_level_or_equivalent', 'f', 'london_region'],\n",
       " ['35-55', 'pass', 'a_level_or_equivalent', 'm', 'aaa-2013j', 'london_region'],\n",
       " ['aaa-2013j',\n",
       "  'east_midlands_region',\n",
       "  '35-55',\n",
       "  'f',\n",
       "  'a_level_or_equivalent',\n",
       "  'pass'],\n",
       " ['withdrawn',\n",
       "  'east_anglian_region',\n",
       "  'aaa-2013j',\n",
       "  '0-35',\n",
       "  'lower_than_a_level',\n",
       "  'f'],\n",
       " ['aaa-2013j',\n",
       "  '0-35',\n",
       "  'a_level_or_equivalent',\n",
       "  'south_west_region',\n",
       "  'f',\n",
       "  'pass'],\n",
       " ['aaa-2013j',\n",
       "  'withdrawn',\n",
       "  'm',\n",
       "  'east_midlands_region',\n",
       "  'a_level_or_equivalent',\n",
       "  '35-55'],\n",
       " ['pass', 'aaa-2013j', 'a_level_or_equivalent', '0-35', 'scotland', 'm'],\n",
       " ['35-55',\n",
       "  'aaa-2013j',\n",
       "  'yorkshire_region',\n",
       "  'a_level_or_equivalent',\n",
       "  'pass',\n",
       "  'f'],\n",
       " ['west_midlands_region',\n",
       "  'f',\n",
       "  'pass',\n",
       "  '35-55',\n",
       "  'aaa-2013j',\n",
       "  'lower_than_a_level'],\n",
       " ['he_qualification', 'ireland', '35-55', 'aaa-2013j', 'm', 'pass'],\n",
       " ['a_level_or_equivalent', 'ireland', '35-55', 'pass', 'f', 'aaa-2013j'],\n",
       " ['he_qualification',\n",
       "  'east_anglian_region',\n",
       "  'pass',\n",
       "  '55-80',\n",
       "  'm',\n",
       "  'aaa-2013j'],\n",
       " ['m', 'aaa-2013j', 'pass', 'north_region', 'he_qualification', '35-55'],\n",
       " ['aaa-2013j',\n",
       "  'pass',\n",
       "  'm',\n",
       "  'he_qualification',\n",
       "  '35-55',\n",
       "  'north_western_region'],\n",
       " ['north_western_region',\n",
       "  'a_level_or_equivalent',\n",
       "  'f',\n",
       "  'fail',\n",
       "  'aaa-2013j',\n",
       "  '0-35'],\n",
       " ['0-35',\n",
       "  'pass',\n",
       "  'm',\n",
       "  'south_west_region',\n",
       "  'a_level_or_equivalent',\n",
       "  'aaa-2013j'],\n",
       " ['f',\n",
       "  'withdrawn',\n",
       "  'south_west_region',\n",
       "  'aaa-2013j',\n",
       "  'a_level_or_equivalent',\n",
       "  '35-55'],\n",
       " ['a_level_or_equivalent',\n",
       "  'pass',\n",
       "  'south_west_region',\n",
       "  'aaa-2013j',\n",
       "  'f',\n",
       "  '0-35'],\n",
       " ['london_region', 'm', 'aaa-2013j', 'pass', 'a_level_or_equivalent', '0-35'],\n",
       " ['35-55', 'south_west_region', 'he_qualification', 'm', 'pass', 'aaa-2013j'],\n",
       " ['london_region', '0-35', 'he_qualification', 'aaa-2013j', 'fail', 'm'],\n",
       " ['pass', 'm', 'he_qualification', 'scotland', '35-55', 'aaa-2013j'],\n",
       " ['distinction',\n",
       "  'aaa-2013j',\n",
       "  '35-55',\n",
       "  'a_level_or_equivalent',\n",
       "  'south_east_region',\n",
       "  'm'],\n",
       " ['aaa-2013j',\n",
       "  'withdrawn',\n",
       "  'm',\n",
       "  'a_level_or_equivalent',\n",
       "  '35-55',\n",
       "  'yorkshire_region'],\n",
       " ['aaa-2013j', 'a_level_or_equivalent', '0-35', 'pass', 'm', 'scotland'],\n",
       " ['f', 'lower_than_a_level', '0-35', 'south_west_region', 'pass', 'aaa-2013j'],\n",
       " ['aaa-2013j',\n",
       "  '0-35',\n",
       "  'withdrawn',\n",
       "  'm',\n",
       "  'london_region',\n",
       "  'a_level_or_equivalent'],\n",
       " ['pass', 'aaa-2013j', 'lower_than_a_level', 'london_region', '35-55', 'm'],\n",
       " ['withdrawn', 'wales', 'f', 'a_level_or_equivalent', 'aaa-2013j', '0-35'],\n",
       " ['m', 'south_west_region', 'pass', 'he_qualification', 'aaa-2013j', '35-55'],\n",
       " ['0-35',\n",
       "  'east_anglian_region',\n",
       "  'a_level_or_equivalent',\n",
       "  'aaa-2013j',\n",
       "  'fail',\n",
       "  'm'],\n",
       " ['london_region',\n",
       "  'a_level_or_equivalent',\n",
       "  'aaa-2013j',\n",
       "  'distinction',\n",
       "  'f',\n",
       "  '35-55'],\n",
       " ['he_qualification', 'fail', 'aaa-2013j', '0-35', 'm', 'ireland'],\n",
       " ['he_qualification', '0-35', 'pass', 'london_region', 'aaa-2013j', 'm'],\n",
       " ['lower_than_a_level',\n",
       "  'pass',\n",
       "  '0-35',\n",
       "  'aaa-2013j',\n",
       "  'm',\n",
       "  'east_midlands_region'],\n",
       " ['pass',\n",
       "  '0-35',\n",
       "  'aaa-2013j',\n",
       "  'a_level_or_equivalent',\n",
       "  'm',\n",
       "  'west_midlands_region'],\n",
       " ['0-35',\n",
       "  'aaa-2013j',\n",
       "  'east_midlands_region',\n",
       "  'm',\n",
       "  'a_level_or_equivalent',\n",
       "  'pass'],\n",
       " ['a_level_or_equivalent', 'london_region', 'pass', '0-35', 'm', 'aaa-2013j'],\n",
       " ['0-35',\n",
       "  'withdrawn',\n",
       "  'aaa-2013j',\n",
       "  'a_level_or_equivalent',\n",
       "  'm',\n",
       "  'yorkshire_region'],\n",
       " ['scotland', 'post_graduate_qualification', 'm', 'aaa-2013j', 'pass', '0-35'],\n",
       " ['m', '55-80', 'aaa-2013j', 'pass', 'he_qualification', 'south_region'],\n",
       " ['he_qualification', '0-35', 'pass', 'm', 'aaa-2013j', 'london_region'],\n",
       " ['m', 'south_region', '0-35', 'aaa-2013j', 'pass', 'a_level_or_equivalent'],\n",
       " ['pass',\n",
       "  '35-55',\n",
       "  'he_qualification',\n",
       "  'east_anglian_region',\n",
       "  'aaa-2013j',\n",
       "  'm'],\n",
       " ['east_midlands_region',\n",
       "  '35-55',\n",
       "  'he_qualification',\n",
       "  'fail',\n",
       "  'aaa-2013j',\n",
       "  'f'],\n",
       " ['35-55', 'he_qualification', 'pass', 'london_region', 'm', 'aaa-2013j'],\n",
       " ['m',\n",
       "  '35-55',\n",
       "  'a_level_or_equivalent',\n",
       "  'aaa-2013j',\n",
       "  'south_west_region',\n",
       "  'pass'],\n",
       " ['north_western_region',\n",
       "  'lower_than_a_level',\n",
       "  'm',\n",
       "  '0-35',\n",
       "  'aaa-2013j',\n",
       "  'pass'],\n",
       " ['wales', 'lower_than_a_level', '35-55', 'pass', 'aaa-2013j', 'm'],\n",
       " ['m',\n",
       "  'he_qualification',\n",
       "  'pass',\n",
       "  '0-35',\n",
       "  'aaa-2013j',\n",
       "  'north_western_region'],\n",
       " ['pass',\n",
       "  '0-35',\n",
       "  'west_midlands_region',\n",
       "  'f',\n",
       "  'lower_than_a_level',\n",
       "  'aaa-2013j'],\n",
       " ['aaa-2013j',\n",
       "  'pass',\n",
       "  'f',\n",
       "  'lower_than_a_level',\n",
       "  '35-55',\n",
       "  'east_anglian_region'],\n",
       " ['f',\n",
       "  '35-55',\n",
       "  'aaa-2013j',\n",
       "  'a_level_or_equivalent',\n",
       "  'withdrawn',\n",
       "  'london_region'],\n",
       " ['aaa-2013j',\n",
       "  'pass',\n",
       "  'm',\n",
       "  '35-55',\n",
       "  'a_level_or_equivalent',\n",
       "  'east_midlands_region'],\n",
       " ['a_level_or_equivalent',\n",
       "  'f',\n",
       "  '35-55',\n",
       "  'aaa-2013j',\n",
       "  'north_western_region',\n",
       "  'pass'],\n",
       " ['35-55',\n",
       "  'fail',\n",
       "  'east_anglian_region',\n",
       "  'm',\n",
       "  'aaa-2013j',\n",
       "  'a_level_or_equivalent'],\n",
       " ['aaa-2013j',\n",
       "  'withdrawn',\n",
       "  'm',\n",
       "  'east_anglian_region',\n",
       "  '0-35',\n",
       "  'a_level_or_equivalent'],\n",
       " ['scotland', 'aaa-2013j', 'm', 'a_level_or_equivalent', 'pass', '35-55'],\n",
       " ['a_level_or_equivalent',\n",
       "  'aaa-2013j',\n",
       "  '0-35',\n",
       "  'south_east_region',\n",
       "  'withdrawn',\n",
       "  'f'],\n",
       " ['distinction',\n",
       "  'aaa-2013j',\n",
       "  '0-35',\n",
       "  'lower_than_a_level',\n",
       "  'm',\n",
       "  'london_region'],\n",
       " ['a_level_or_equivalent', 'f', 'pass', 'aaa-2013j', 'scotland', '0-35'],\n",
       " ['lower_than_a_level', '35-55', 'aaa-2013j', 'm', 'fail', 'wales'],\n",
       " ['he_qualification',\n",
       "  '0-35',\n",
       "  'm',\n",
       "  'north_western_region',\n",
       "  'fail',\n",
       "  'aaa-2013j'],\n",
       " ['a_level_or_equivalent',\n",
       "  'aaa-2013j',\n",
       "  'south_west_region',\n",
       "  'pass',\n",
       "  '35-55',\n",
       "  'm'],\n",
       " ['south_east_region',\n",
       "  '35-55',\n",
       "  'pass',\n",
       "  'a_level_or_equivalent',\n",
       "  'aaa-2013j',\n",
       "  'm'],\n",
       " ['0-35',\n",
       "  'm',\n",
       "  'a_level_or_equivalent',\n",
       "  'pass',\n",
       "  'aaa-2013j',\n",
       "  'east_anglian_region'],\n",
       " ['m', 'aaa-2013j', 'wales', 'a_level_or_equivalent', 'pass', '0-35'],\n",
       " ['m',\n",
       "  'north_western_region',\n",
       "  'a_level_or_equivalent',\n",
       "  'aaa-2013j',\n",
       "  'pass',\n",
       "  '0-35'],\n",
       " ['35-55',\n",
       "  'a_level_or_equivalent',\n",
       "  'm',\n",
       "  'aaa-2013j',\n",
       "  'distinction',\n",
       "  'south_east_region'],\n",
       " ['south_east_region',\n",
       "  'a_level_or_equivalent',\n",
       "  '35-55',\n",
       "  'aaa-2013j',\n",
       "  'withdrawn',\n",
       "  'f'],\n",
       " ['pass',\n",
       "  'a_level_or_equivalent',\n",
       "  'm',\n",
       "  '0-35',\n",
       "  'east_midlands_region',\n",
       "  'aaa-2013j'],\n",
       " ['m', 'aaa-2013j', '55-80', 'he_qualification', 'south_east_region', 'pass'],\n",
       " ['aaa-2013j',\n",
       "  '0-35',\n",
       "  'south_east_region',\n",
       "  'm',\n",
       "  'pass',\n",
       "  'a_level_or_equivalent'],\n",
       " ['35-55',\n",
       "  'fail',\n",
       "  'm',\n",
       "  'south_east_region',\n",
       "  'aaa-2013j',\n",
       "  'a_level_or_equivalent'],\n",
       " ['m',\n",
       "  'distinction',\n",
       "  '55-80',\n",
       "  'aaa-2013j',\n",
       "  'south_region',\n",
       "  'post_graduate_qualification'],\n",
       " ['0-35', 'f', 'pass', 'south_east_region', 'aaa-2013j', 'he_qualification'],\n",
       " ['west_midlands_region',\n",
       "  'pass',\n",
       "  'm',\n",
       "  'aaa-2013j',\n",
       "  'a_level_or_equivalent',\n",
       "  '35-55'],\n",
       " ['fail',\n",
       "  'f',\n",
       "  'aaa-2013j',\n",
       "  '0-35',\n",
       "  'a_level_or_equivalent',\n",
       "  'east_anglian_region'],\n",
       " ['fail',\n",
       "  'a_level_or_equivalent',\n",
       "  'm',\n",
       "  'north_western_region',\n",
       "  'aaa-2013j',\n",
       "  '0-35'],\n",
       " ['aaa-2013j',\n",
       "  '0-35',\n",
       "  'a_level_or_equivalent',\n",
       "  'pass',\n",
       "  'm',\n",
       "  'west_midlands_region'],\n",
       " ['withdrawn', 'lower_than_a_level', 'aaa-2013j', 'wales', '0-35', 'f'],\n",
       " ['35-55',\n",
       "  'pass',\n",
       "  'a_level_or_equivalent',\n",
       "  'west_midlands_region',\n",
       "  'aaa-2013j',\n",
       "  'm'],\n",
       " ['m',\n",
       "  'aaa-2013j',\n",
       "  'a_level_or_equivalent',\n",
       "  'pass',\n",
       "  '35-55',\n",
       "  'east_anglian_region'],\n",
       " ['f', 'a_level_or_equivalent', '0-35', 'pass', 'aaa-2013j', 'london_region'],\n",
       " ['0-35',\n",
       "  'pass',\n",
       "  'he_qualification',\n",
       "  'f',\n",
       "  'aaa-2013j',\n",
       "  'east_midlands_region'],\n",
       " ['a_level_or_equivalent',\n",
       "  'm',\n",
       "  '0-35',\n",
       "  'west_midlands_region',\n",
       "  'pass',\n",
       "  'aaa-2013j'],\n",
       " ['pass',\n",
       "  'm',\n",
       "  'south_west_region',\n",
       "  'a_level_or_equivalent',\n",
       "  '55-80',\n",
       "  'aaa-2013j'],\n",
       " ['distinction',\n",
       "  'm',\n",
       "  'aaa-2013j',\n",
       "  'south_region',\n",
       "  'post_graduate_qualification',\n",
       "  '55-80'],\n",
       " ['a_level_or_equivalent', 'm', 'south_region', 'aaa-2013j', '0-35', 'pass'],\n",
       " ['f', '0-35', 'aaa-2013j', 'he_qualification', 'east_anglian_region', 'pass'],\n",
       " ['a_level_or_equivalent',\n",
       "  '0-35',\n",
       "  'east_midlands_region',\n",
       "  'aaa-2013j',\n",
       "  'f',\n",
       "  'pass'],\n",
       " ['55-80', 'aaa-2013j', 'south_region', 'he_qualification', 'pass', 'm'],\n",
       " ['he_qualification',\n",
       "  'm',\n",
       "  'pass',\n",
       "  'east_anglian_region',\n",
       "  'aaa-2013j',\n",
       "  '35-55'],\n",
       " ['south_west_region',\n",
       "  'pass',\n",
       "  'a_level_or_equivalent',\n",
       "  'aaa-2013j',\n",
       "  'f',\n",
       "  '35-55'],\n",
       " ['0-35',\n",
       "  'pass',\n",
       "  'south_east_region',\n",
       "  'aaa-2013j',\n",
       "  'm',\n",
       "  'a_level_or_equivalent'],\n",
       " ['south_region', 'he_qualification', 'withdrawn', 'f', 'aaa-2013j', '35-55'],\n",
       " ['aaa-2013j',\n",
       "  'pass',\n",
       "  'f',\n",
       "  'a_level_or_equivalent',\n",
       "  '35-55',\n",
       "  'east_anglian_region'],\n",
       " ['0-35', 'pass', 'a_level_or_equivalent', 'scotland', 'aaa-2013j', 'm'],\n",
       " ['pass', 'm', 'scotland', 'he_qualification', '0-35', 'aaa-2013j'],\n",
       " ['f', 'london_region', 'a_level_or_equivalent', 'aaa-2013j', '0-35', 'fail'],\n",
       " ['aaa-2013j',\n",
       "  '0-35',\n",
       "  'f',\n",
       "  'withdrawn',\n",
       "  'south_west_region',\n",
       "  'a_level_or_equivalent'],\n",
       " ['south_east_region',\n",
       "  '0-35',\n",
       "  'f',\n",
       "  'a_level_or_equivalent',\n",
       "  'aaa-2013j',\n",
       "  'withdrawn'],\n",
       " ['a_level_or_equivalent',\n",
       "  'pass',\n",
       "  'm',\n",
       "  '0-35',\n",
       "  'east_anglian_region',\n",
       "  'aaa-2013j'],\n",
       " ['0-35', 'north_region', 'm', 'pass', 'a_level_or_equivalent', 'aaa-2013j'],\n",
       " ['m',\n",
       "  'east_anglian_region',\n",
       "  'aaa-2013j',\n",
       "  '0-35',\n",
       "  'lower_than_a_level',\n",
       "  'fail'],\n",
       " ['withdrawn',\n",
       "  'he_qualification',\n",
       "  'f',\n",
       "  '0-35',\n",
       "  'west_midlands_region',\n",
       "  'aaa-2013j'],\n",
       " ['55-80', 'aaa-2013j', 'lower_than_a_level', 'm', 'pass', 'scotland'],\n",
       " ['0-35', 'he_qualification', 'm', 'pass', 'yorkshire_region', 'aaa-2013j'],\n",
       " ['he_qualification', 'ireland', 'aaa-2013j', '35-55', 'pass', 'm'],\n",
       " ['m',\n",
       "  '0-35',\n",
       "  'aaa-2013j',\n",
       "  'yorkshire_region',\n",
       "  'a_level_or_equivalent',\n",
       "  'fail'],\n",
       " ['east_anglian_region',\n",
       "  '0-35',\n",
       "  'aaa-2013j',\n",
       "  'pass',\n",
       "  'm',\n",
       "  'a_level_or_equivalent'],\n",
       " ['distinction',\n",
       "  'aaa-2013j',\n",
       "  '0-35',\n",
       "  'm',\n",
       "  'a_level_or_equivalent',\n",
       "  'yorkshire_region'],\n",
       " ['aaa-2013j',\n",
       "  'a_level_or_equivalent',\n",
       "  '0-35',\n",
       "  'pass',\n",
       "  'east_anglian_region',\n",
       "  'm'],\n",
       " ['aaa-2013j', 'he_qualification', '35-55', 'f', 'scotland', 'fail'],\n",
       " ['aaa-2013j',\n",
       "  'm',\n",
       "  'he_qualification',\n",
       "  '35-55',\n",
       "  'pass',\n",
       "  'north_western_region'],\n",
       " ['m', 'he_qualification', 'aaa-2013j', 'withdrawn', 'south_region', '35-55'],\n",
       " ['aaa-2013j',\n",
       "  'yorkshire_region',\n",
       "  '0-35',\n",
       "  'm',\n",
       "  'a_level_or_equivalent',\n",
       "  'fail'],\n",
       " ['east_anglian_region',\n",
       "  '35-55',\n",
       "  'm',\n",
       "  'fail',\n",
       "  'aaa-2013j',\n",
       "  'lower_than_a_level'],\n",
       " ['london_region', 'f', 'a_level_or_equivalent', 'aaa-2013j', '0-35', 'pass'],\n",
       " ['35-55',\n",
       "  'm',\n",
       "  'lower_than_a_level',\n",
       "  'pass',\n",
       "  'east_anglian_region',\n",
       "  'aaa-2013j'],\n",
       " ['pass', 'm', 'south_west_region', 'aaa-2013j', '0-35', 'he_qualification'],\n",
       " ['0-35',\n",
       "  'south_west_region',\n",
       "  'pass',\n",
       "  'a_level_or_equivalent',\n",
       "  'f',\n",
       "  'aaa-2013j'],\n",
       " ['he_qualification', 'aaa-2013j', '35-55', 'm', 'wales', 'fail'],\n",
       " ['aaa-2013j', 'lower_than_a_level', 'm', 'pass', '0-35', 'yorkshire_region'],\n",
       " ['distinction', 'he_qualification', 'm', 'aaa-2013j', 'north_region', '0-35'],\n",
       " ['f', 'aaa-2013j', '35-55', 'pass', 'south_region', 'a_level_or_equivalent'],\n",
       " ['0-35',\n",
       "  'aaa-2013j',\n",
       "  'east_midlands_region',\n",
       "  'a_level_or_equivalent',\n",
       "  'pass',\n",
       "  'm'],\n",
       " ['m',\n",
       "  '0-35',\n",
       "  'a_level_or_equivalent',\n",
       "  'aaa-2013j',\n",
       "  'pass',\n",
       "  'yorkshire_region'],\n",
       " ['0-35', 'm', 'aaa-2013j', 'pass', 'lower_than_a_level', 'ireland'],\n",
       " ['m',\n",
       "  'yorkshire_region',\n",
       "  'pass',\n",
       "  'a_level_or_equivalent',\n",
       "  '0-35',\n",
       "  'aaa-2013j'],\n",
       " ['f', 'aaa-2013j', 'lower_than_a_level', 'london_region', '35-55', 'pass'],\n",
       " ['aaa-2013j',\n",
       "  'a_level_or_equivalent',\n",
       "  'pass',\n",
       "  'south_west_region',\n",
       "  'm',\n",
       "  '35-55'],\n",
       " ['scotland', 'm', 'aaa-2013j', 'a_level_or_equivalent', 'withdrawn', '0-35'],\n",
       " ['m',\n",
       "  'west_midlands_region',\n",
       "  'a_level_or_equivalent',\n",
       "  '0-35',\n",
       "  'aaa-2013j',\n",
       "  'fail'],\n",
       " ['north_western_region',\n",
       "  '35-55',\n",
       "  'f',\n",
       "  'aaa-2013j',\n",
       "  'a_level_or_equivalent',\n",
       "  'pass'],\n",
       " ['north_western_region',\n",
       "  'a_level_or_equivalent',\n",
       "  'aaa-2013j',\n",
       "  'm',\n",
       "  'pass',\n",
       "  '0-35'],\n",
       " ['pass', '0-35', 'yorkshire_region', 'm', 'aaa-2013j', 'he_qualification'],\n",
       " ['aaa-2013j', 'fail', '0-35', 'lower_than_a_level', 'm', 'yorkshire_region'],\n",
       " ['lower_than_a_level', 'f', 'aaa-2013j', 'south_east_region', 'pass', '0-35'],\n",
       " ['pass',\n",
       "  'south_west_region',\n",
       "  '35-55',\n",
       "  'aaa-2013j',\n",
       "  'lower_than_a_level',\n",
       "  'm'],\n",
       " ['lower_than_a_level', 'm', 'wales', '35-55', 'aaa-2013j', 'pass'],\n",
       " ['0-35', 'a_level_or_equivalent', 'pass', 'aaa-2013j', 'm', 'north_region'],\n",
       " ['aaa-2013j', 'm', '0-35', 'scotland', 'withdrawn', 'a_level_or_equivalent'],\n",
       " ['yorkshire_region',\n",
       "  'aaa-2013j',\n",
       "  '0-35',\n",
       "  'a_level_or_equivalent',\n",
       "  'pass',\n",
       "  'm'],\n",
       " ['he_qualification',\n",
       "  'm',\n",
       "  '35-55',\n",
       "  'withdrawn',\n",
       "  'west_midlands_region',\n",
       "  'aaa-2013j'],\n",
       " ['0-35', 'fail', 'scotland', 'm', 'aaa-2013j', 'a_level_or_equivalent'],\n",
       " ['pass',\n",
       "  'a_level_or_equivalent',\n",
       "  'aaa-2013j',\n",
       "  'north_western_region',\n",
       "  'f',\n",
       "  '0-35'],\n",
       " ['a_level_or_equivalent',\n",
       "  'f',\n",
       "  'aaa-2013j',\n",
       "  '0-35',\n",
       "  'south_east_region',\n",
       "  'pass'],\n",
       " ['london_region', 'pass', 'a_level_or_equivalent', 'm', 'aaa-2013j', '0-35'],\n",
       " ['south_west_region',\n",
       "  'aaa-2013j',\n",
       "  'withdrawn',\n",
       "  'he_qualification',\n",
       "  'm',\n",
       "  '0-35'],\n",
       " ['london_region',\n",
       "  'aaa-2013j',\n",
       "  'he_qualification',\n",
       "  '0-35',\n",
       "  'm',\n",
       "  'distinction'],\n",
       " ['35-55',\n",
       "  'he_qualification',\n",
       "  'aaa-2013j',\n",
       "  'm',\n",
       "  'withdrawn',\n",
       "  'south_east_region'],\n",
       " ['aaa-2013j',\n",
       "  'south_west_region',\n",
       "  'a_level_or_equivalent',\n",
       "  'pass',\n",
       "  'f',\n",
       "  '0-35'],\n",
       " ['aaa-2013j', 'fail', 'a_level_or_equivalent', 'north_region', 'f', '0-35'],\n",
       " ['aaa-2013j', 'he_qualification', 'pass', 'south_east_region', '0-35', 'm'],\n",
       " ['aaa-2013j',\n",
       "  'm',\n",
       "  'north_western_region',\n",
       "  'pass',\n",
       "  'he_qualification',\n",
       "  '35-55'],\n",
       " ['0-35', 'london_region', 'aaa-2013j', 'a_level_or_equivalent', 'pass', 'm'],\n",
       " ['m', 'he_qualification', '0-35', 'aaa-2013j', 'south_east_region', 'pass'],\n",
       " ['north_western_region',\n",
       "  'm',\n",
       "  '0-35',\n",
       "  'aaa-2013j',\n",
       "  'pass',\n",
       "  'he_qualification'],\n",
       " ['aaa-2013j', 'm', '0-35', 'pass', 'he_qualification', 'south_east_region'],\n",
       " ['west_midlands_region',\n",
       "  'fail',\n",
       "  'm',\n",
       "  '0-35',\n",
       "  'he_qualification',\n",
       "  'aaa-2013j'],\n",
       " ['0-35', 'aaa-2013j', 'he_qualification', 'withdrawn', 'f', 'scotland'],\n",
       " ['he_qualification',\n",
       "  'west_midlands_region',\n",
       "  '0-35',\n",
       "  'pass',\n",
       "  'aaa-2013j',\n",
       "  'm'],\n",
       " ['ireland', 'aaa-2013j', '0-35', 'he_qualification', 'm', 'pass'],\n",
       " ['0-35',\n",
       "  'm',\n",
       "  'aaa-2013j',\n",
       "  'a_level_or_equivalent',\n",
       "  'east_anglian_region',\n",
       "  'fail'],\n",
       " ['a_level_or_equivalent',\n",
       "  'south_west_region',\n",
       "  'aaa-2013j',\n",
       "  'm',\n",
       "  '0-35',\n",
       "  'pass'],\n",
       " ['aaa-2013j',\n",
       "  'south_region',\n",
       "  'pass',\n",
       "  'post_graduate_qualification',\n",
       "  '35-55',\n",
       "  'm'],\n",
       " ['aaa-2013j', 'm', 'he_qualification', 'north_region', '55-80', 'withdrawn'],\n",
       " ['fail',\n",
       "  'm',\n",
       "  '35-55',\n",
       "  'scotland',\n",
       "  'post_graduate_qualification',\n",
       "  'aaa-2013j'],\n",
       " ['m', 'he_qualification', 'south_region', 'aaa-2013j', '55-80', 'pass'],\n",
       " ['55-80',\n",
       "  'aaa-2013j',\n",
       "  'west_midlands_region',\n",
       "  'distinction',\n",
       "  'm',\n",
       "  'a_level_or_equivalent'],\n",
       " ['f',\n",
       "  '55-80',\n",
       "  'lower_than_a_level',\n",
       "  'withdrawn',\n",
       "  'aaa-2013j',\n",
       "  'south_region'],\n",
       " ['aaa-2013j', 'pass', 'south_region', 'lower_than_a_level', 'm', '55-80'],\n",
       " ['a_level_or_equivalent',\n",
       "  'm',\n",
       "  'west_midlands_region',\n",
       "  '55-80',\n",
       "  'aaa-2013j',\n",
       "  'distinction'],\n",
       " ['pass',\n",
       "  'a_level_or_equivalent',\n",
       "  '35-55',\n",
       "  'aaa-2013j',\n",
       "  'f',\n",
       "  'east_anglian_region'],\n",
       " ['south_west_region',\n",
       "  'pass',\n",
       "  'aaa-2013j',\n",
       "  '35-55',\n",
       "  'f',\n",
       "  'a_level_or_equivalent'],\n",
       " ['35-55',\n",
       "  'north_western_region',\n",
       "  'aaa-2013j',\n",
       "  'pass',\n",
       "  'he_qualification',\n",
       "  'm'],\n",
       " ['f',\n",
       "  'pass',\n",
       "  'a_level_or_equivalent',\n",
       "  '35-55',\n",
       "  'aaa-2013j',\n",
       "  'east_anglian_region'],\n",
       " ['aaa-2013j',\n",
       "  'south_west_region',\n",
       "  '35-55',\n",
       "  'a_level_or_equivalent',\n",
       "  'm',\n",
       "  'withdrawn'],\n",
       " ['aaa-2013j',\n",
       "  'pass',\n",
       "  '35-55',\n",
       "  'he_qualification',\n",
       "  'f',\n",
       "  'west_midlands_region'],\n",
       " ['35-55', 'm', 'he_qualification', 'aaa-2013j', 'pass', 'south_region'],\n",
       " ['lower_than_a_level', 'london_region', 'pass', '35-55', 'aaa-2013j', 'f'],\n",
       " ['pass', 'm', 'scotland', 'aaa-2013j', '55-80', 'he_qualification'],\n",
       " ['aaa-2013j',\n",
       "  '35-55',\n",
       "  'yorkshire_region',\n",
       "  'm',\n",
       "  'a_level_or_equivalent',\n",
       "  'withdrawn'],\n",
       " ['35-55',\n",
       "  'm',\n",
       "  'a_level_or_equivalent',\n",
       "  'aaa-2013j',\n",
       "  'fail',\n",
       "  'west_midlands_region'],\n",
       " ['pass',\n",
       "  'f',\n",
       "  'east_midlands_region',\n",
       "  '35-55',\n",
       "  'he_qualification',\n",
       "  'aaa-2013j'],\n",
       " ['f',\n",
       "  'aaa-2013j',\n",
       "  'yorkshire_region',\n",
       "  'a_level_or_equivalent',\n",
       "  'fail',\n",
       "  '35-55'],\n",
       " ['a_level_or_equivalent',\n",
       "  'm',\n",
       "  'withdrawn',\n",
       "  'south_west_region',\n",
       "  '35-55',\n",
       "  'aaa-2013j'],\n",
       " ['pass',\n",
       "  'he_qualification',\n",
       "  'aaa-2013j',\n",
       "  '35-55',\n",
       "  'm',\n",
       "  'west_midlands_region'],\n",
       " ['f',\n",
       "  'east_anglian_region',\n",
       "  '35-55',\n",
       "  'lower_than_a_level',\n",
       "  'aaa-2013j',\n",
       "  'fail'],\n",
       " ['m', 'london_region', '35-55', 'aaa-2013j', 'a_level_or_equivalent', 'pass'],\n",
       " ['35-55',\n",
       "  'f',\n",
       "  'aaa-2013j',\n",
       "  'lower_than_a_level',\n",
       "  'pass',\n",
       "  'south_east_region'],\n",
       " ['pass', 'aaa-2013j', 'lower_than_a_level', 'london_region', '35-55', 'm'],\n",
       " ['fail', 'south_region', 'he_qualification', 'm', '35-55', 'aaa-2013j'],\n",
       " ['a_level_or_equivalent',\n",
       "  'm',\n",
       "  '35-55',\n",
       "  'distinction',\n",
       "  'aaa-2013j',\n",
       "  'north_western_region'],\n",
       " ['west_midlands_region',\n",
       "  'm',\n",
       "  '35-55',\n",
       "  'a_level_or_equivalent',\n",
       "  'pass',\n",
       "  'aaa-2013j'],\n",
       " ['35-55',\n",
       "  'aaa-2013j',\n",
       "  'north_western_region',\n",
       "  'lower_than_a_level',\n",
       "  'f',\n",
       "  'withdrawn'],\n",
       " ['scotland', 'f', '35-55', 'pass', 'he_qualification', 'aaa-2013j'],\n",
       " ['aaa-2013j',\n",
       "  'a_level_or_equivalent',\n",
       "  '35-55',\n",
       "  'm',\n",
       "  'east_anglian_region',\n",
       "  'pass'],\n",
       " ['south_region',\n",
       "  'm',\n",
       "  'withdrawn',\n",
       "  'lower_than_a_level',\n",
       "  'aaa-2013j',\n",
       "  '35-55'],\n",
       " ['scotland', '35-55', 'a_level_or_equivalent', 'f', 'withdrawn', 'aaa-2013j'],\n",
       " ['55-80', 'pass', 'aaa-2013j', 'he_qualification', 'm', 'south_east_region'],\n",
       " ['m', 'he_qualification', '35-55', 'ireland', 'pass', 'aaa-2013j'],\n",
       " ['aaa-2013j', 'a_level_or_equivalent', 'scotland', 'm', 'pass', '35-55'],\n",
       " ['35-55',\n",
       "  'lower_than_a_level',\n",
       "  'aaa-2013j',\n",
       "  'm',\n",
       "  'south_west_region',\n",
       "  'pass'],\n",
       " ['35-55',\n",
       "  'south_west_region',\n",
       "  'aaa-2013j',\n",
       "  'm',\n",
       "  'pass',\n",
       "  'lower_than_a_level'],\n",
       " ['m',\n",
       "  'a_level_or_equivalent',\n",
       "  'pass',\n",
       "  'aaa-2013j',\n",
       "  '35-55',\n",
       "  'yorkshire_region'],\n",
       " ['a_level_or_equivalent', 'aaa-2013j', 'f', 'south_region', '35-55', 'pass'],\n",
       " ['a_level_or_equivalent',\n",
       "  'aaa-2013j',\n",
       "  'pass',\n",
       "  'east_midlands_region',\n",
       "  'f',\n",
       "  '0-35'],\n",
       " ['m', 'aaa-2013j', 'pass', '35-55', 'a_level_or_equivalent', 'south_region'],\n",
       " ['pass',\n",
       "  '35-55',\n",
       "  'aaa-2013j',\n",
       "  'east_anglian_region',\n",
       "  'f',\n",
       "  'lower_than_a_level'],\n",
       " ['west_midlands_region',\n",
       "  '35-55',\n",
       "  'm',\n",
       "  'aaa-2013j',\n",
       "  'withdrawn',\n",
       "  'lower_than_a_level'],\n",
       " ['pass', 'ireland', '35-55', 'lower_than_a_level', 'm', 'aaa-2013j'],\n",
       " ['a_level_or_equivalent',\n",
       "  'east_anglian_region',\n",
       "  'pass',\n",
       "  'aaa-2013j',\n",
       "  '0-35',\n",
       "  'f'],\n",
       " ['35-55',\n",
       "  'aaa-2013j',\n",
       "  'm',\n",
       "  'lower_than_a_level',\n",
       "  'pass',\n",
       "  'north_western_region'],\n",
       " ['aaa-2013j',\n",
       "  'south_west_region',\n",
       "  'lower_than_a_level',\n",
       "  'f',\n",
       "  'pass',\n",
       "  '35-55'],\n",
       " ['fail',\n",
       "  'aaa-2013j',\n",
       "  'f',\n",
       "  'a_level_or_equivalent',\n",
       "  'east_anglian_region',\n",
       "  '0-35'],\n",
       " ['a_level_or_equivalent',\n",
       "  'm',\n",
       "  'london_region',\n",
       "  'aaa-2013j',\n",
       "  'withdrawn',\n",
       "  '35-55'],\n",
       " ['35-55',\n",
       "  'london_region',\n",
       "  'withdrawn',\n",
       "  'lower_than_a_level',\n",
       "  'f',\n",
       "  'aaa-2013j'],\n",
       " ['a_level_or_equivalent', 'south_region', 'aaa-2013j', '35-55', 'pass', 'f'],\n",
       " ['aaa-2013j',\n",
       "  '0-35',\n",
       "  'a_level_or_equivalent',\n",
       "  'west_midlands_region',\n",
       "  'pass',\n",
       "  'f'],\n",
       " ['aaa-2013j',\n",
       "  'lower_than_a_level',\n",
       "  'south_west_region',\n",
       "  '35-55',\n",
       "  'fail',\n",
       "  'f'],\n",
       " ['m',\n",
       "  'pass',\n",
       "  '35-55',\n",
       "  'aaa-2013j',\n",
       "  'lower_than_a_level',\n",
       "  'west_midlands_region'],\n",
       " ['aaa-2013j',\n",
       "  'distinction',\n",
       "  '35-55',\n",
       "  'north_western_region',\n",
       "  'lower_than_a_level',\n",
       "  'f'],\n",
       " ['m',\n",
       "  'aaa-2013j',\n",
       "  'a_level_or_equivalent',\n",
       "  'london_region',\n",
       "  'withdrawn',\n",
       "  '35-55'],\n",
       " ['lower_than_a_level', 'pass', 'aaa-2013j', '35-55', 'south_region', 'f'],\n",
       " ['m',\n",
       "  'aaa-2013j',\n",
       "  'north_western_region',\n",
       "  '55-80',\n",
       "  'he_qualification',\n",
       "  'pass'],\n",
       " ['aaa-2013j', '35-55', 'withdrawn', 'm', 'scotland', 'a_level_or_equivalent'],\n",
       " ['f',\n",
       "  'aaa-2013j',\n",
       "  'yorkshire_region',\n",
       "  'a_level_or_equivalent',\n",
       "  'pass',\n",
       "  '0-35'],\n",
       " ['lower_than_a_level',\n",
       "  '0-35',\n",
       "  'aaa-2013j',\n",
       "  'west_midlands_region',\n",
       "  'pass',\n",
       "  'f'],\n",
       " ['aaa-2013j',\n",
       "  'a_level_or_equivalent',\n",
       "  '0-35',\n",
       "  'f',\n",
       "  'fail',\n",
       "  'north_western_region'],\n",
       " ['a_level_or_equivalent',\n",
       "  'f',\n",
       "  'yorkshire_region',\n",
       "  'aaa-2013j',\n",
       "  'pass',\n",
       "  '35-55'],\n",
       " ['a_level_or_equivalent', 'aaa-2013j', 'london_region', 'f', '35-55', 'pass'],\n",
       " ['east_anglian_region',\n",
       "  'aaa-2013j',\n",
       "  'f',\n",
       "  '35-55',\n",
       "  'pass',\n",
       "  'a_level_or_equivalent'],\n",
       " ['f',\n",
       "  'pass',\n",
       "  '35-55',\n",
       "  'north_western_region',\n",
       "  'he_qualification',\n",
       "  'aaa-2013j'],\n",
       " ['pass', 'a_level_or_equivalent', 'm', '0-35', 'scotland', 'aaa-2013j'],\n",
       " ['f',\n",
       "  'a_level_or_equivalent',\n",
       "  'west_midlands_region',\n",
       "  'pass',\n",
       "  '35-55',\n",
       "  'aaa-2013j'],\n",
       " ['35-55',\n",
       "  'aaa-2013j',\n",
       "  'a_level_or_equivalent',\n",
       "  'south_region',\n",
       "  'withdrawn',\n",
       "  'f'],\n",
       " ['aaa-2013j',\n",
       "  '0-35',\n",
       "  'f',\n",
       "  'a_level_or_equivalent',\n",
       "  'pass',\n",
       "  'east_midlands_region'],\n",
       " ['pass', 'lower_than_a_level', 'south_region', 'aaa-2013j', '35-55', 'm'],\n",
       " ['south_region', '0-35', 'm', 'a_level_or_equivalent', 'aaa-2013j', 'pass'],\n",
       " ['east_midlands_region',\n",
       "  '35-55',\n",
       "  'f',\n",
       "  'he_qualification',\n",
       "  'aaa-2013j',\n",
       "  'withdrawn'],\n",
       " ['withdrawn', 'wales', '35-55', 'a_level_or_equivalent', 'aaa-2013j', 'm'],\n",
       " ['withdrawn', 'he_qualification', '35-55', 'f', 'scotland', 'aaa-2013j'],\n",
       " ['pass',\n",
       "  'aaa-2013j',\n",
       "  '35-55',\n",
       "  'lower_than_a_level',\n",
       "  'f',\n",
       "  'east_anglian_region'],\n",
       " ['f',\n",
       "  'lower_than_a_level',\n",
       "  'distinction',\n",
       "  'london_region',\n",
       "  'aaa-2013j',\n",
       "  '0-35'],\n",
       " ['aaa-2013j', '35-55', 'lower_than_a_level', 'm', 'fail', 'yorkshire_region'],\n",
       " ['aaa-2013j',\n",
       "  'a_level_or_equivalent',\n",
       "  'yorkshire_region',\n",
       "  'f',\n",
       "  'fail',\n",
       "  '0-35'],\n",
       " ['aaa-2013j', '0-35', 'fail', 'north_region', 'f', 'he_qualification'],\n",
       " ['a_level_or_equivalent',\n",
       "  'f',\n",
       "  'aaa-2013j',\n",
       "  '0-35',\n",
       "  'east_anglian_region',\n",
       "  'withdrawn'],\n",
       " ['he_qualification', 'pass', 'f', 'scotland', 'aaa-2013j', '0-35'],\n",
       " ['withdrawn',\n",
       "  'he_qualification',\n",
       "  'south_east_region',\n",
       "  '0-35',\n",
       "  'm',\n",
       "  'aaa-2013j'],\n",
       " ['east_anglian_region',\n",
       "  'pass',\n",
       "  'aaa-2013j',\n",
       "  'f',\n",
       "  '0-35',\n",
       "  'a_level_or_equivalent'],\n",
       " ['f', 'aaa-2013j', 'london_region', 'pass', 'lower_than_a_level', '35-55'],\n",
       " ['0-35',\n",
       "  'f',\n",
       "  'a_level_or_equivalent',\n",
       "  'aaa-2013j',\n",
       "  'east_midlands_region',\n",
       "  'pass'],\n",
       " ['0-35',\n",
       "  'withdrawn',\n",
       "  'south_region',\n",
       "  'aaa-2013j',\n",
       "  'm',\n",
       "  'a_level_or_equivalent'],\n",
       " ['south_region', 'f', '0-35', 'a_level_or_equivalent', 'aaa-2013j', 'fail'],\n",
       " ['aaa-2013j', '0-35', 'withdrawn', 'm', 'scotland', 'he_qualification'],\n",
       " ['m',\n",
       "  'lower_than_a_level',\n",
       "  'aaa-2013j',\n",
       "  '35-55',\n",
       "  'distinction',\n",
       "  'south_west_region'],\n",
       " ['pass', '35-55', 'aaa-2013j', 'f', 'a_level_or_equivalent', 'south_region'],\n",
       " ['m',\n",
       "  'withdrawn',\n",
       "  'london_region',\n",
       "  'aaa-2013j',\n",
       "  'a_level_or_equivalent',\n",
       "  '35-55'],\n",
       " ['pass', '0-35', 'aaa-2013j', 'a_level_or_equivalent', 'north_region', 'f'],\n",
       " ['east_midlands_region',\n",
       "  'a_level_or_equivalent',\n",
       "  'pass',\n",
       "  '0-35',\n",
       "  'f',\n",
       "  'aaa-2013j'],\n",
       " ['m', 'fail', 'scotland', 'lower_than_a_level', '35-55', 'aaa-2013j'],\n",
       " ['aaa-2013j', 'pass', 'lower_than_a_level', 'm', 'south_region', '35-55'],\n",
       " ['lower_than_a_level', '35-55', 'pass', 'aaa-2013j', 'london_region', 'm'],\n",
       " ['pass', 'm', 'he_qualification', 'aaa-2013j', '55-80', 'scotland'],\n",
       " ['south_region', 'aaa-2013j', 'm', 'he_qualification', '55-80', 'fail'],\n",
       " ['fail', 'f', 'yorkshire_region', '35-55', 'aaa-2013j', 'lower_than_a_level'],\n",
       " ['scotland', 'he_qualification', 'withdrawn', 'f', 'aaa-2013j', '55-80'],\n",
       " ['0-35',\n",
       "  'north_western_region',\n",
       "  'pass',\n",
       "  'a_level_or_equivalent',\n",
       "  'm',\n",
       "  'aaa-2013j'],\n",
       " ['wales', 'pass', '35-55', 'm', 'lower_than_a_level', 'aaa-2013j'],\n",
       " ['0-35', 'aaa-2013j', 'pass', 'm', 'lower_than_a_level', 'south_region'],\n",
       " ['f', 'east_anglian_region', 'he_qualification', 'pass', '0-35', 'aaa-2013j'],\n",
       " ['aaa-2013j',\n",
       "  'pass',\n",
       "  '0-35',\n",
       "  'north_western_region',\n",
       "  'f',\n",
       "  'lower_than_a_level'],\n",
       " ['he_qualification', 'aaa-2013j', '35-55', 'pass', 'm', 'south_east_region'],\n",
       " ['a_level_or_equivalent',\n",
       "  'aaa-2013j',\n",
       "  'east_midlands_region',\n",
       "  'm',\n",
       "  '0-35',\n",
       "  'pass'],\n",
       " ['pass', 'f', 'london_region', 'lower_than_a_level', 'aaa-2013j', '0-35'],\n",
       " ['north_western_region',\n",
       "  'pass',\n",
       "  'aaa-2013j',\n",
       "  '55-80',\n",
       "  'm',\n",
       "  'a_level_or_equivalent'],\n",
       " ['north_western_region',\n",
       "  'f',\n",
       "  'he_qualification',\n",
       "  'pass',\n",
       "  '35-55',\n",
       "  'aaa-2013j'],\n",
       " ['f',\n",
       "  'east_anglian_region',\n",
       "  '0-35',\n",
       "  'aaa-2013j',\n",
       "  'a_level_or_equivalent',\n",
       "  'pass'],\n",
       " ['he_qualification',\n",
       "  'south_region',\n",
       "  'aaa-2013j',\n",
       "  'm',\n",
       "  '55-80',\n",
       "  'distinction'],\n",
       " ['withdrawn',\n",
       "  'west_midlands_region',\n",
       "  'f',\n",
       "  '0-35',\n",
       "  'aaa-2013j',\n",
       "  'lower_than_a_level'],\n",
       " ['35-55', 'aaa-2013j', 'pass', 'he_qualification', 'f', 'north_region'],\n",
       " ['pass', 'f', '0-35', 'lower_than_a_level', 'aaa-2013j', 'south_region'],\n",
       " ['withdrawn', 'f', 'aaa-2013j', '35-55', 'south_region', 'he_qualification'],\n",
       " ['he_qualification', 'pass', 'aaa-2013j', '35-55', 'south_region', 'f'],\n",
       " ['m', '55-80', 'pass', 'yorkshire_region', 'he_qualification', 'aaa-2013j'],\n",
       " ['pass', 'aaa-2013j', 'm', '0-35', 'south_west_region', 'lower_than_a_level'],\n",
       " ['aaa-2013j',\n",
       "  'pass',\n",
       "  '0-35',\n",
       "  'a_level_or_equivalent',\n",
       "  'm',\n",
       "  'east_anglian_region'],\n",
       " ['f', 'aaa-2013j', '0-35', 'pass', 'a_level_or_equivalent', 'south_region'],\n",
       " ['a_level_or_equivalent', '35-55', 'south_region', 'pass', 'aaa-2013j', 'f'],\n",
       " ['south_region',\n",
       "  'withdrawn',\n",
       "  'aaa-2013j',\n",
       "  'a_level_or_equivalent',\n",
       "  'm',\n",
       "  '0-35'],\n",
       " ['ireland', 'aaa-2013j', '35-55', 'pass', 'he_qualification', 'm'],\n",
       " ['lower_than_a_level', 'pass', 'yorkshire_region', 'm', 'aaa-2013j', '35-55'],\n",
       " ['withdrawn',\n",
       "  'a_level_or_equivalent',\n",
       "  'aaa-2013j',\n",
       "  'm',\n",
       "  'north_western_region',\n",
       "  '0-35'],\n",
       " ['0-35',\n",
       "  'aaa-2013j',\n",
       "  'west_midlands_region',\n",
       "  'pass',\n",
       "  'a_level_or_equivalent',\n",
       "  'f'],\n",
       " ['pass',\n",
       "  'f',\n",
       "  'aaa-2013j',\n",
       "  'lower_than_a_level',\n",
       "  '35-55',\n",
       "  'east_anglian_region'],\n",
       " ['pass',\n",
       "  'f',\n",
       "  'aaa-2013j',\n",
       "  'a_level_or_equivalent',\n",
       "  'south_west_region',\n",
       "  '0-35'],\n",
       " ['aaa-2013j',\n",
       "  'a_level_or_equivalent',\n",
       "  'f',\n",
       "  'east_anglian_region',\n",
       "  'pass',\n",
       "  '35-55'],\n",
       " ['scotland', 'aaa-2013j', '0-35', 'f', 'a_level_or_equivalent', 'pass'],\n",
       " ['pass',\n",
       "  '0-35',\n",
       "  'west_midlands_region',\n",
       "  'aaa-2013j',\n",
       "  'a_level_or_equivalent',\n",
       "  'm'],\n",
       " ['east_midlands_region',\n",
       "  'aaa-2013j',\n",
       "  'f',\n",
       "  '0-35',\n",
       "  'pass',\n",
       "  'a_level_or_equivalent'],\n",
       " ['35-55', 'aaa-2013j', 'f', 'pass', 'london_region', 'lower_than_a_level'],\n",
       " ['pass',\n",
       "  'yorkshire_region',\n",
       "  'f',\n",
       "  'aaa-2013j',\n",
       "  '0-35',\n",
       "  'a_level_or_equivalent'],\n",
       " ['west_midlands_region',\n",
       "  'a_level_or_equivalent',\n",
       "  'aaa-2013j',\n",
       "  'fail',\n",
       "  '0-35',\n",
       "  'm'],\n",
       " ['pass',\n",
       "  'east_midlands_region',\n",
       "  'm',\n",
       "  'aaa-2013j',\n",
       "  '0-35',\n",
       "  'a_level_or_equivalent'],\n",
       " ['a_level_or_equivalent',\n",
       "  'north_western_region',\n",
       "  '35-55',\n",
       "  'aaa-2013j',\n",
       "  'f',\n",
       "  'pass'],\n",
       " ['35-55',\n",
       "  'south_east_region',\n",
       "  'pass',\n",
       "  'aaa-2013j',\n",
       "  'm',\n",
       "  'lower_than_a_level'],\n",
       " ['35-55',\n",
       "  'east_midlands_region',\n",
       "  'pass',\n",
       "  'aaa-2013j',\n",
       "  'm',\n",
       "  'lower_than_a_level'],\n",
       " ['f',\n",
       "  '35-55',\n",
       "  'aaa-2013j',\n",
       "  'pass',\n",
       "  'a_level_or_equivalent',\n",
       "  'south_west_region'],\n",
       " ['f',\n",
       "  'south_west_region',\n",
       "  '0-35',\n",
       "  'aaa-2013j',\n",
       "  'pass',\n",
       "  'a_level_or_equivalent'],\n",
       " ['35-55',\n",
       "  'lower_than_a_level',\n",
       "  'east_anglian_region',\n",
       "  'm',\n",
       "  'aaa-2013j',\n",
       "  'distinction'],\n",
       " ['m', '35-55', 'london_region', 'pass', 'aaa-2013j', 'a_level_or_equivalent'],\n",
       " ['35-55', 'he_qualification', 'south_east_region', 'm', 'aaa-2013j', 'pass'],\n",
       " ['north_western_region',\n",
       "  'm',\n",
       "  '0-35',\n",
       "  'pass',\n",
       "  'a_level_or_equivalent',\n",
       "  'aaa-2013j'],\n",
       " ['a_level_or_equivalent',\n",
       "  'fail',\n",
       "  'aaa-2013j',\n",
       "  '0-35',\n",
       "  'yorkshire_region',\n",
       "  'm'],\n",
       " ['he_qualification', '55-80', 'pass', 'm', 'aaa-2013j', 'london_region'],\n",
       " ['f', '0-35', 'fail', 'aaa-2013j', 'north_region', 'he_qualification'],\n",
       " ['a_level_or_equivalent', 'f', 'pass', 'aaa-2013j', '0-35', 'south_region'],\n",
       " ['lower_than_a_level',\n",
       "  'pass',\n",
       "  'aaa-2013j',\n",
       "  'east_midlands_region',\n",
       "  'f',\n",
       "  '0-35'],\n",
       " ['0-35',\n",
       "  'east_anglian_region',\n",
       "  'a_level_or_equivalent',\n",
       "  'pass',\n",
       "  'aaa-2013j',\n",
       "  'm'],\n",
       " ['aaa-2013j',\n",
       "  'east_anglian_region',\n",
       "  '35-55',\n",
       "  'distinction',\n",
       "  'a_level_or_equivalent',\n",
       "  'm'],\n",
       " ['aaa-2013j',\n",
       "  'a_level_or_equivalent',\n",
       "  'distinction',\n",
       "  'f',\n",
       "  'west_midlands_region',\n",
       "  '0-35'],\n",
       " ['south_region', '35-55', 'm', 'aaa-2013j', 'a_level_or_equivalent', 'pass'],\n",
       " ['pass',\n",
       "  '35-55',\n",
       "  'east_anglian_region',\n",
       "  'a_level_or_equivalent',\n",
       "  'm',\n",
       "  'aaa-2013j'],\n",
       " ['aaa-2013j',\n",
       "  'pass',\n",
       "  'm',\n",
       "  'lower_than_a_level',\n",
       "  '0-35',\n",
       "  'east_midlands_region'],\n",
       " ['scotland', 'aaa-2014j', 'm', 'pass', 'he_qualification', '55-80'],\n",
       " ['south_region', 'pass', '0-35', 'aaa-2014j', 'lower_than_a_level', 'f'],\n",
       " ['distinction',\n",
       "  'f',\n",
       "  'east_anglian_region',\n",
       "  '35-55',\n",
       "  'aaa-2014j',\n",
       "  'a_level_or_equivalent'],\n",
       " ['yorkshire_region', 'm', 'lower_than_a_level', 'pass', 'aaa-2014j', '35-55'],\n",
       " ['f',\n",
       "  'a_level_or_equivalent',\n",
       "  'aaa-2014j',\n",
       "  'pass',\n",
       "  '0-35',\n",
       "  'south_west_region'],\n",
       " ['35-55', 'north_region', 'pass', 'aaa-2014j', 'm', 'he_qualification'],\n",
       " ['lower_than_a_level', '35-55', 'f', 'yorkshire_region', 'pass', 'aaa-2014j'],\n",
       " ['a_level_or_equivalent',\n",
       "  'west_midlands_region',\n",
       "  '0-35',\n",
       "  'aaa-2014j',\n",
       "  'pass',\n",
       "  'f'],\n",
       " ['he_qualification',\n",
       "  'aaa-2014j',\n",
       "  'east_anglian_region',\n",
       "  '55-80',\n",
       "  'm',\n",
       "  'pass'],\n",
       " ['wales', 'a_level_or_equivalent', 'aaa-2014j', 'f', '0-35', 'pass'],\n",
       " ['east_midlands_region',\n",
       "  'pass',\n",
       "  'aaa-2014j',\n",
       "  '0-35',\n",
       "  'f',\n",
       "  'a_level_or_equivalent'],\n",
       " ['m',\n",
       "  'aaa-2014j',\n",
       "  'a_level_or_equivalent',\n",
       "  'pass',\n",
       "  '35-55',\n",
       "  'south_east_region'],\n",
       " ['0-35',\n",
       "  'aaa-2014j',\n",
       "  'east_anglian_region',\n",
       "  'fail',\n",
       "  'f',\n",
       "  'a_level_or_equivalent'],\n",
       " ['aaa-2014j', 'f', 'he_qualification', '0-35', 'pass', 'scotland'],\n",
       " ['north_western_region',\n",
       "  'm',\n",
       "  'a_level_or_equivalent',\n",
       "  'aaa-2014j',\n",
       "  'pass',\n",
       "  '0-35'],\n",
       " ['35-55',\n",
       "  'm',\n",
       "  'withdrawn',\n",
       "  'aaa-2014j',\n",
       "  'lower_than_a_level',\n",
       "  'south_region'],\n",
       " ['aaa-2014j', 'south_west_region', 'f', 'lower_than_a_level', '0-35', 'pass'],\n",
       " ['pass', 'aaa-2014j', 'scotland', 'm', 'a_level_or_equivalent', '35-55'],\n",
       " ['aaa-2014j', 'pass', 'm', 'lower_than_a_level', '35-55', 'london_region'],\n",
       " ['35-55',\n",
       "  'aaa-2014j',\n",
       "  'm',\n",
       "  'south_east_region',\n",
       "  'withdrawn',\n",
       "  'lower_than_a_level'],\n",
       " ['lower_than_a_level', 'pass', 'm', '35-55', 'aaa-2014j', 'south_region'],\n",
       " ['lower_than_a_level',\n",
       "  'm',\n",
       "  'south_east_region',\n",
       "  'aaa-2014j',\n",
       "  'withdrawn',\n",
       "  '0-35'],\n",
       " ['35-55',\n",
       "  'aaa-2014j',\n",
       "  'lower_than_a_level',\n",
       "  'f',\n",
       "  'pass',\n",
       "  'east_anglian_region'],\n",
       " ['0-35', 'pass', 'london_region', 'f', 'he_qualification', 'aaa-2014j'],\n",
       " ['aaa-2014j', 'pass', 'm', 'london_region', '55-80', 'he_qualification'],\n",
       " ['pass', 'aaa-2014j', '0-35', 'he_qualification', 'f', 'south_region'],\n",
       " ['m', 'wales', 'aaa-2014j', 'fail', '0-35', 'a_level_or_equivalent'],\n",
       " ['london_region', 'aaa-2014j', 'f', 'a_level_or_equivalent', '35-55', 'pass'],\n",
       " ['35-55',\n",
       "  'withdrawn',\n",
       "  'a_level_or_equivalent',\n",
       "  'f',\n",
       "  'aaa-2014j',\n",
       "  'south_west_region'],\n",
       " ['pass',\n",
       "  '35-55',\n",
       "  'south_west_region',\n",
       "  'aaa-2014j',\n",
       "  'a_level_or_equivalent',\n",
       "  'f'],\n",
       " ['south_east_region',\n",
       "  '0-35',\n",
       "  'f',\n",
       "  'distinction',\n",
       "  'aaa-2014j',\n",
       "  'a_level_or_equivalent'],\n",
       " ['he_qualification', 'pass', 'm', 'south_region', '35-55', 'aaa-2014j'],\n",
       " ['west_midlands_region',\n",
       "  'withdrawn',\n",
       "  '0-35',\n",
       "  'aaa-2014j',\n",
       "  'm',\n",
       "  'a_level_or_equivalent'],\n",
       " ['35-55',\n",
       "  'pass',\n",
       "  'east_anglian_region',\n",
       "  'f',\n",
       "  'a_level_or_equivalent',\n",
       "  'aaa-2014j'],\n",
       " ['35-55', 'aaa-2014j', 'pass', 'f', 'south_region', 'a_level_or_equivalent'],\n",
       " ['aaa-2014j',\n",
       "  '0-35',\n",
       "  'a_level_or_equivalent',\n",
       "  'm',\n",
       "  'pass',\n",
       "  'south_east_region'],\n",
       " ['a_level_or_equivalent',\n",
       "  'east_anglian_region',\n",
       "  'm',\n",
       "  'aaa-2014j',\n",
       "  'pass',\n",
       "  '35-55'],\n",
       " ['pass', '35-55', 'a_level_or_equivalent', 'f', 'aaa-2014j', 'south_region'],\n",
       " ['aaa-2014j', 'm', 'north_region', 'pass', '0-35', 'lower_than_a_level'],\n",
       " ['east_anglian_region',\n",
       "  'lower_than_a_level',\n",
       "  'aaa-2014j',\n",
       "  '0-35',\n",
       "  'withdrawn',\n",
       "  'f'],\n",
       " ['aaa-2014j',\n",
       "  '35-55',\n",
       "  'south_east_region',\n",
       "  'lower_than_a_level',\n",
       "  'f',\n",
       "  'pass'],\n",
       " ['distinction',\n",
       "  'aaa-2014j',\n",
       "  'lower_than_a_level',\n",
       "  'm',\n",
       "  'east_anglian_region',\n",
       "  '35-55'],\n",
       " ['south_east_region',\n",
       "  'm',\n",
       "  '35-55',\n",
       "  'fail',\n",
       "  'a_level_or_equivalent',\n",
       "  'aaa-2014j'],\n",
       " ['a_level_or_equivalent',\n",
       "  '0-35',\n",
       "  'south_west_region',\n",
       "  'pass',\n",
       "  'aaa-2014j',\n",
       "  'm'],\n",
       " ['a_level_or_equivalent', 'fail', 'm', 'scotland', '35-55', 'aaa-2014j'],\n",
       " ['35-55',\n",
       "  'lower_than_a_level',\n",
       "  'pass',\n",
       "  'east_anglian_region',\n",
       "  'm',\n",
       "  'aaa-2014j'],\n",
       " ['north_region', 'pass', 'lower_than_a_level', '0-35', 'm', 'aaa-2014j'],\n",
       " ['pass',\n",
       "  'f',\n",
       "  'north_western_region',\n",
       "  'aaa-2014j',\n",
       "  'a_level_or_equivalent',\n",
       "  '35-55'],\n",
       " ['35-55', 'aaa-2014j', 'f', 'scotland', 'pass', 'a_level_or_equivalent'],\n",
       " ['m',\n",
       "  'west_midlands_region',\n",
       "  '0-35',\n",
       "  'pass',\n",
       "  'aaa-2014j',\n",
       "  'a_level_or_equivalent'],\n",
       " ['a_level_or_equivalent', 'wales', '0-35', 'aaa-2014j', 'f', 'withdrawn'],\n",
       " ['lower_than_a_level', 'withdrawn', '0-35', 'south_region', 'aaa-2014j', 'f'],\n",
       " ['east_anglian_region',\n",
       "  'f',\n",
       "  'lower_than_a_level',\n",
       "  '0-35',\n",
       "  'aaa-2014j',\n",
       "  'pass'],\n",
       " ['withdrawn',\n",
       "  'a_level_or_equivalent',\n",
       "  'aaa-2014j',\n",
       "  'f',\n",
       "  'south_east_region',\n",
       "  '0-35'],\n",
       " ['withdrawn',\n",
       "  '35-55',\n",
       "  'm',\n",
       "  'aaa-2014j',\n",
       "  'east_midlands_region',\n",
       "  'a_level_or_equivalent'],\n",
       " ['pass',\n",
       "  'east_anglian_region',\n",
       "  'a_level_or_equivalent',\n",
       "  '0-35',\n",
       "  'f',\n",
       "  'aaa-2014j'],\n",
       " ['f', 'fail', '0-35', 'aaa-2014j', 'wales', 'a_level_or_equivalent'],\n",
       " ['he_qualification', 'm', 'aaa-2014j', 'pass', 'south_west_region', '55-80'],\n",
       " ['pass', '35-55', 'm', 'aaa-2014j', 'north_region', 'a_level_or_equivalent'],\n",
       " ['35-55',\n",
       "  'f',\n",
       "  'pass',\n",
       "  'south_east_region',\n",
       "  'aaa-2014j',\n",
       "  'lower_than_a_level'],\n",
       " ['35-55',\n",
       "  'f',\n",
       "  'a_level_or_equivalent',\n",
       "  'east_midlands_region',\n",
       "  'pass',\n",
       "  'aaa-2014j'],\n",
       " ['aaa-2014j', '35-55', 'london_region', 'pass', 'a_level_or_equivalent', 'm'],\n",
       " ['east_anglian_region',\n",
       "  '35-55',\n",
       "  'he_qualification',\n",
       "  'withdrawn',\n",
       "  'aaa-2014j',\n",
       "  'f'],\n",
       " ['m', '0-35', 'wales', 'pass', 'lower_than_a_level', 'aaa-2014j'],\n",
       " ['m', 'yorkshire_region', 'fail', 'lower_than_a_level', '35-55', 'aaa-2014j'],\n",
       " ['m',\n",
       "  'yorkshire_region',\n",
       "  '35-55',\n",
       "  'pass',\n",
       "  'a_level_or_equivalent',\n",
       "  'aaa-2014j'],\n",
       " ['east_anglian_region',\n",
       "  'm',\n",
       "  'a_level_or_equivalent',\n",
       "  'aaa-2014j',\n",
       "  'pass',\n",
       "  '35-55'],\n",
       " ['he_qualification',\n",
       "  'east_midlands_region',\n",
       "  'pass',\n",
       "  '35-55',\n",
       "  'm',\n",
       "  'aaa-2014j'],\n",
       " ['m', 'aaa-2014j', 'a_level_or_equivalent', 'south_region', 'pass', '0-35'],\n",
       " ['pass', 'aaa-2014j', '35-55', 'he_qualification', 'm', 'south_west_region'],\n",
       " ['scotland',\n",
       "  'a_level_or_equivalent',\n",
       "  '35-55',\n",
       "  'm',\n",
       "  'distinction',\n",
       "  'aaa-2014j'],\n",
       " ['aaa-2014j', 'he_qualification', 'm', '0-35', 'pass', 'yorkshire_region'],\n",
       " ['lower_than_a_level', 'south_region', '35-55', 'pass', 'aaa-2014j', 'm'],\n",
       " ['east_midlands_region',\n",
       "  '35-55',\n",
       "  'pass',\n",
       "  'f',\n",
       "  'aaa-2014j',\n",
       "  'lower_than_a_level'],\n",
       " ['0-35',\n",
       "  'pass',\n",
       "  'yorkshire_region',\n",
       "  'a_level_or_equivalent',\n",
       "  'aaa-2014j',\n",
       "  'm'],\n",
       " ['m',\n",
       "  'aaa-2014j',\n",
       "  'west_midlands_region',\n",
       "  'pass',\n",
       "  '0-35',\n",
       "  'a_level_or_equivalent'],\n",
       " ['aaa-2014j',\n",
       "  'a_level_or_equivalent',\n",
       "  '0-35',\n",
       "  'yorkshire_region',\n",
       "  'm',\n",
       "  'pass'],\n",
       " ['lower_than_a_level', 'aaa-2014j', 'fail', 'south_west_region', '0-35', 'f'],\n",
       " ['f',\n",
       "  '0-35',\n",
       "  'a_level_or_equivalent',\n",
       "  'pass',\n",
       "  'south_east_region',\n",
       "  'aaa-2014j'],\n",
       " ['aaa-2014j',\n",
       "  'f',\n",
       "  'distinction',\n",
       "  'a_level_or_equivalent',\n",
       "  '0-35',\n",
       "  'west_midlands_region'],\n",
       " ['35-55',\n",
       "  'a_level_or_equivalent',\n",
       "  'pass',\n",
       "  'yorkshire_region',\n",
       "  'f',\n",
       "  'aaa-2014j'],\n",
       " ['a_level_or_equivalent', '35-55', 'wales', 'distinction', 'aaa-2014j', 'm'],\n",
       " ['distinction',\n",
       "  'm',\n",
       "  'a_level_or_equivalent',\n",
       "  '35-55',\n",
       "  'aaa-2014j',\n",
       "  'south_west_region'],\n",
       " ['withdrawn',\n",
       "  'f',\n",
       "  'aaa-2014j',\n",
       "  'london_region',\n",
       "  '35-55',\n",
       "  'a_level_or_equivalent'],\n",
       " ['0-35', 'm', 'pass', 'aaa-2014j', 'south_east_region', 'lower_than_a_level'],\n",
       " ['35-55',\n",
       "  'pass',\n",
       "  'east_anglian_region',\n",
       "  'aaa-2014j',\n",
       "  'a_level_or_equivalent',\n",
       "  'm'],\n",
       " ['lower_than_a_level',\n",
       "  'aaa-2014j',\n",
       "  '35-55',\n",
       "  'east_anglian_region',\n",
       "  'm',\n",
       "  'pass'],\n",
       " ['m',\n",
       "  '35-55',\n",
       "  'distinction',\n",
       "  'lower_than_a_level',\n",
       "  'aaa-2014j',\n",
       "  'north_region'],\n",
       " ['south_region', '0-35', 'aaa-2014j', 'pass', 'f', 'a_level_or_equivalent'],\n",
       " ['m',\n",
       "  'fail',\n",
       "  'aaa-2014j',\n",
       "  '0-35',\n",
       "  'a_level_or_equivalent',\n",
       "  'east_anglian_region'],\n",
       " ['aaa-2014j',\n",
       "  'lower_than_a_level',\n",
       "  '35-55',\n",
       "  'm',\n",
       "  'east_midlands_region',\n",
       "  'pass'],\n",
       " ['0-35',\n",
       "  'lower_than_a_level',\n",
       "  'east_anglian_region',\n",
       "  'm',\n",
       "  'aaa-2014j',\n",
       "  'withdrawn'],\n",
       " ['a_level_or_equivalent',\n",
       "  'f',\n",
       "  'aaa-2014j',\n",
       "  '0-35',\n",
       "  'london_region',\n",
       "  'withdrawn'],\n",
       " ['f', '0-35', 'pass', 'aaa-2014j', 'east_anglian_region', 'he_qualification'],\n",
       " ['aaa-2014j',\n",
       "  'fail',\n",
       "  'east_midlands_region',\n",
       "  '35-55',\n",
       "  'f',\n",
       "  'a_level_or_equivalent'],\n",
       " ['f',\n",
       "  '0-35',\n",
       "  'withdrawn',\n",
       "  'aaa-2014j',\n",
       "  'south_east_region',\n",
       "  'a_level_or_equivalent'],\n",
       " ['pass', 'aaa-2014j', 'east_anglian_region', '0-35', 'f', 'he_qualification'],\n",
       " ['a_level_or_equivalent',\n",
       "  '0-35',\n",
       "  'aaa-2014j',\n",
       "  'pass',\n",
       "  'west_midlands_region',\n",
       "  'f'],\n",
       " ['pass', 'east_anglian_region', 'm', '0-35', 'he_qualification', 'aaa-2014j'],\n",
       " ['f',\n",
       "  'east_anglian_region',\n",
       "  'a_level_or_equivalent',\n",
       "  'pass',\n",
       "  'aaa-2014j',\n",
       "  '35-55'],\n",
       " ['0-35', 'aaa-2014j', 'pass', 'm', 'a_level_or_equivalent', 'scotland'],\n",
       " ['a_level_or_equivalent', 'm', 'scotland', '35-55', 'pass', 'aaa-2014j'],\n",
       " ['scotland', 'aaa-2014j', '0-35', 'fail', 'a_level_or_equivalent', 'm'],\n",
       " ['east_midlands_region',\n",
       "  'pass',\n",
       "  'm',\n",
       "  'he_qualification',\n",
       "  'aaa-2014j',\n",
       "  '35-55'],\n",
       " ['pass', 'scotland', 'aaa-2014j', 'he_qualification', 'f', '35-55'],\n",
       " ['pass', 'm', 'a_level_or_equivalent', '0-35', 'aaa-2014j', 'south_region'],\n",
       " ['pass',\n",
       "  '0-35',\n",
       "  'south_east_region',\n",
       "  'aaa-2014j',\n",
       "  'a_level_or_equivalent',\n",
       "  'm'],\n",
       " ['a_level_or_equivalent',\n",
       "  'pass',\n",
       "  'south_west_region',\n",
       "  '35-55',\n",
       "  'f',\n",
       "  'aaa-2014j'],\n",
       " ['north_western_region',\n",
       "  'm',\n",
       "  'pass',\n",
       "  'aaa-2014j',\n",
       "  'a_level_or_equivalent',\n",
       "  '35-55'],\n",
       " ['wales', '35-55', 'aaa-2014j', 'a_level_or_equivalent', 'fail', 'm'],\n",
       " ['fail',\n",
       "  'east_anglian_region',\n",
       "  'm',\n",
       "  'aaa-2014j',\n",
       "  '0-35',\n",
       "  'a_level_or_equivalent'],\n",
       " ['aaa-2014j', '55-80', 'south_region', 'pass', 'm', 'he_qualification'],\n",
       " ['scotland', 'a_level_or_equivalent', 'm', 'pass', '35-55', 'aaa-2014j'],\n",
       " ['m', '35-55', 'a_level_or_equivalent', 'scotland', 'fail', 'aaa-2014j'],\n",
       " ['yorkshire_region',\n",
       "  '0-35',\n",
       "  'f',\n",
       "  'pass',\n",
       "  'aaa-2014j',\n",
       "  'a_level_or_equivalent'],\n",
       " ['0-35',\n",
       "  'a_level_or_equivalent',\n",
       "  'pass',\n",
       "  'aaa-2014j',\n",
       "  'm',\n",
       "  'south_west_region'],\n",
       " ['distinction',\n",
       "  'm',\n",
       "  'south_east_region',\n",
       "  'aaa-2014j',\n",
       "  '0-35',\n",
       "  'a_level_or_equivalent'],\n",
       " ['f', 'a_level_or_equivalent', 'ireland', '35-55', 'pass', 'aaa-2014j'],\n",
       " ['he_qualification', 'aaa-2014j', 'pass', '0-35', 'scotland', 'f'],\n",
       " ['0-35',\n",
       "  'aaa-2014j',\n",
       "  'west_midlands_region',\n",
       "  'pass',\n",
       "  'f',\n",
       "  'a_level_or_equivalent'],\n",
       " ['m', 'south_region', 'aaa-2014j', 'pass', 'a_level_or_equivalent', '0-35'],\n",
       " ['aaa-2014j', 'pass', 'f', 'a_level_or_equivalent', '35-55', 'south_region'],\n",
       " ['f', '35-55', 'london_region', 'aaa-2014j', 'pass', 'a_level_or_equivalent'],\n",
       " ['aaa-2014j',\n",
       "  'pass',\n",
       "  'south_west_region',\n",
       "  'a_level_or_equivalent',\n",
       "  '35-55',\n",
       "  'm'],\n",
       " ['0-35',\n",
       "  'm',\n",
       "  'a_level_or_equivalent',\n",
       "  'aaa-2014j',\n",
       "  'east_anglian_region',\n",
       "  'fail'],\n",
       " ['aaa-2014j', 'scotland', 'm', '35-55', 'pass', 'he_qualification'],\n",
       " ['0-35',\n",
       "  'pass',\n",
       "  'a_level_or_equivalent',\n",
       "  'm',\n",
       "  'aaa-2014j',\n",
       "  'yorkshire_region'],\n",
       " ['35-55',\n",
       "  'm',\n",
       "  'a_level_or_equivalent',\n",
       "  'aaa-2014j',\n",
       "  'distinction',\n",
       "  'scotland'],\n",
       " ['pass',\n",
       "  'f',\n",
       "  'a_level_or_equivalent',\n",
       "  'aaa-2014j',\n",
       "  'west_midlands_region',\n",
       "  '0-35'],\n",
       " ['f',\n",
       "  'a_level_or_equivalent',\n",
       "  '0-35',\n",
       "  'withdrawn',\n",
       "  'aaa-2014j',\n",
       "  'west_midlands_region'],\n",
       " ['yorkshire_region',\n",
       "  'pass',\n",
       "  'a_level_or_equivalent',\n",
       "  '35-55',\n",
       "  'aaa-2014j',\n",
       "  'm'],\n",
       " ['aaa-2014j',\n",
       "  'f',\n",
       "  'east_anglian_region',\n",
       "  '0-35',\n",
       "  'a_level_or_equivalent',\n",
       "  'withdrawn'],\n",
       " ['fail',\n",
       "  'f',\n",
       "  'a_level_or_equivalent',\n",
       "  '0-35',\n",
       "  'east_anglian_region',\n",
       "  'aaa-2014j'],\n",
       " ['pass', 'aaa-2014j', 'south_west_region', '0-35', 'm', 'lower_than_a_level'],\n",
       " ['aaa-2014j',\n",
       "  'distinction',\n",
       "  'he_qualification',\n",
       "  'south_region',\n",
       "  '35-55',\n",
       "  'f'],\n",
       " ['aaa-2014j', 'a_level_or_equivalent', 'wales', 'pass', '0-35', 'm'],\n",
       " ['fail', 'aaa-2014j', 'he_qualification', 'london_region', 'm', '0-35'],\n",
       " ['m',\n",
       "  'south_west_region',\n",
       "  'aaa-2014j',\n",
       "  'pass',\n",
       "  'a_level_or_equivalent',\n",
       "  '0-35'],\n",
       " ['a_level_or_equivalent',\n",
       "  'aaa-2014j',\n",
       "  'pass',\n",
       "  'south_east_region',\n",
       "  '0-35',\n",
       "  'f'],\n",
       " ['yorkshire_region',\n",
       "  '0-35',\n",
       "  'f',\n",
       "  'aaa-2014j',\n",
       "  'withdrawn',\n",
       "  'a_level_or_equivalent'],\n",
       " ['a_level_or_equivalent',\n",
       "  'pass',\n",
       "  '35-55',\n",
       "  'aaa-2014j',\n",
       "  'm',\n",
       "  'east_midlands_region'],\n",
       " ['m',\n",
       "  'aaa-2014j',\n",
       "  'east_anglian_region',\n",
       "  'withdrawn',\n",
       "  'he_qualification',\n",
       "  '0-35'],\n",
       " ['he_qualification',\n",
       "  'aaa-2014j',\n",
       "  'west_midlands_region',\n",
       "  '0-35',\n",
       "  'pass',\n",
       "  'f'],\n",
       " ['m', 'aaa-2014j', 'he_qualification', 'pass', '0-35', 'south_region'],\n",
       " ['north_region', 'aaa-2014j', 'f', 'a_level_or_equivalent', 'pass', '0-35'],\n",
       " ['pass',\n",
       "  'a_level_or_equivalent',\n",
       "  'east_anglian_region',\n",
       "  'aaa-2014j',\n",
       "  'f',\n",
       "  '35-55'],\n",
       " ['scotland', 'aaa-2014j', 'he_qualification', 'withdrawn', 'm', '35-55'],\n",
       " ['east_midlands_region',\n",
       "  'pass',\n",
       "  'm',\n",
       "  'a_level_or_equivalent',\n",
       "  'aaa-2014j',\n",
       "  '35-55'],\n",
       " ['aaa-2014j',\n",
       "  'pass',\n",
       "  'south_west_region',\n",
       "  'a_level_or_equivalent',\n",
       "  '0-35',\n",
       "  'm'],\n",
       " ['east_anglian_region',\n",
       "  'pass',\n",
       "  'lower_than_a_level',\n",
       "  'aaa-2014j',\n",
       "  'm',\n",
       "  '0-35'],\n",
       " ['0-35',\n",
       "  'pass',\n",
       "  'a_level_or_equivalent',\n",
       "  'aaa-2014j',\n",
       "  'east_midlands_region',\n",
       "  'f'],\n",
       " ['south_region', 'a_level_or_equivalent', '35-55', 'aaa-2014j', 'pass', 'm'],\n",
       " ['0-35', 'aaa-2014j', 'a_level_or_equivalent', 'f', 'wales', 'fail'],\n",
       " ['m',\n",
       "  'aaa-2014j',\n",
       "  'north_western_region',\n",
       "  'he_qualification',\n",
       "  '0-35',\n",
       "  'pass'],\n",
       " ['south_region', 'aaa-2014j', 'm', 'lower_than_a_level', 'pass', '0-35'],\n",
       " ['f',\n",
       "  '35-55',\n",
       "  'he_qualification',\n",
       "  'pass',\n",
       "  'east_anglian_region',\n",
       "  'aaa-2014j'],\n",
       " ['withdrawn',\n",
       "  '0-35',\n",
       "  'west_midlands_region',\n",
       "  'm',\n",
       "  'aaa-2014j',\n",
       "  'a_level_or_equivalent'],\n",
       " ['aaa-2014j', 'm', '0-35', 'pass', 'he_qualification', 'scotland'],\n",
       " ['a_level_or_equivalent', 'aaa-2014j', '0-35', 'pass', 'f', 'south_region'],\n",
       " ['0-35', 'ireland', 'm', 'he_qualification', 'aaa-2014j', 'pass'],\n",
       " ['london_region', '0-35', 'aaa-2014j', 'm', 'a_level_or_equivalent', 'pass'],\n",
       " ['east_anglian_region',\n",
       "  'distinction',\n",
       "  'aaa-2014j',\n",
       "  '0-35',\n",
       "  'm',\n",
       "  'a_level_or_equivalent'],\n",
       " ['f',\n",
       "  'a_level_or_equivalent',\n",
       "  '0-35',\n",
       "  'aaa-2014j',\n",
       "  'withdrawn',\n",
       "  'north_western_region'],\n",
       " ['lower_than_a_level', 'pass', 'm', 'aaa-2014j', 'south_region', '0-35'],\n",
       " ['south_region',\n",
       "  '0-35',\n",
       "  'f',\n",
       "  'a_level_or_equivalent',\n",
       "  'withdrawn',\n",
       "  'aaa-2014j'],\n",
       " ['aaa-2014j', 'm', 'scotland', '0-35', 'a_level_or_equivalent', 'pass'],\n",
       " ['he_qualification',\n",
       "  '55-80',\n",
       "  'pass',\n",
       "  'aaa-2014j',\n",
       "  'east_anglian_region',\n",
       "  'm'],\n",
       " ['he_qualification', 'scotland', 'aaa-2014j', 'pass', '0-35', 'm'],\n",
       " ['aaa-2014j',\n",
       "  '35-55',\n",
       "  'east_anglian_region',\n",
       "  'pass',\n",
       "  'lower_than_a_level',\n",
       "  'f'],\n",
       " ['m', 'aaa-2014j', '35-55', 'fail', 'he_qualification', 'scotland'],\n",
       " ['f',\n",
       "  'a_level_or_equivalent',\n",
       "  'withdrawn',\n",
       "  'aaa-2014j',\n",
       "  'south_region',\n",
       "  '35-55'],\n",
       " ['aaa-2014j',\n",
       "  'a_level_or_equivalent',\n",
       "  '35-55',\n",
       "  'south_west_region',\n",
       "  'f',\n",
       "  'fail'],\n",
       " ['a_level_or_equivalent', '0-35', 'aaa-2014j', 'pass', 'm', 'scotland'],\n",
       " ['he_qualification',\n",
       "  '35-55',\n",
       "  'south_region',\n",
       "  'distinction',\n",
       "  'm',\n",
       "  'aaa-2014j'],\n",
       " ['fail', 'lower_than_a_level', 'f', 'south_region', '0-35', 'aaa-2014j'],\n",
       " ['fail', 'aaa-2014j', 'lower_than_a_level', '0-35', 'south_region', 'f'],\n",
       " ['south_west_region',\n",
       "  '0-35',\n",
       "  'f',\n",
       "  'a_level_or_equivalent',\n",
       "  'aaa-2014j',\n",
       "  'pass'],\n",
       " ['he_qualification',\n",
       "  'f',\n",
       "  'aaa-2014j',\n",
       "  '0-35',\n",
       "  'east_midlands_region',\n",
       "  'pass'],\n",
       " ['south_east_region',\n",
       "  'pass',\n",
       "  'aaa-2014j',\n",
       "  'm',\n",
       "  'lower_than_a_level',\n",
       "  '35-55'],\n",
       " ['f', 'pass', 'aaa-2014j', '0-35', 'london_region', 'a_level_or_equivalent'],\n",
       " ['a_level_or_equivalent',\n",
       "  '0-35',\n",
       "  'pass',\n",
       "  'west_midlands_region',\n",
       "  'aaa-2014j',\n",
       "  'm'],\n",
       " ['a_level_or_equivalent',\n",
       "  '35-55',\n",
       "  'aaa-2014j',\n",
       "  'm',\n",
       "  'pass',\n",
       "  'west_midlands_region'],\n",
       " ['east_anglian_region',\n",
       "  'f',\n",
       "  'aaa-2014j',\n",
       "  'pass',\n",
       "  '0-35',\n",
       "  'a_level_or_equivalent'],\n",
       " ['north_western_region',\n",
       "  'pass',\n",
       "  'lower_than_a_level',\n",
       "  '35-55',\n",
       "  'aaa-2014j',\n",
       "  'f'],\n",
       " ['pass',\n",
       "  'a_level_or_equivalent',\n",
       "  '0-35',\n",
       "  'aaa-2014j',\n",
       "  'south_east_region',\n",
       "  'f'],\n",
       " ['a_level_or_equivalent',\n",
       "  'm',\n",
       "  'south_west_region',\n",
       "  'aaa-2014j',\n",
       "  '35-55',\n",
       "  'pass'],\n",
       " ['m',\n",
       "  'he_qualification',\n",
       "  '55-80',\n",
       "  'aaa-2014j',\n",
       "  'south_east_region',\n",
       "  'distinction'],\n",
       " ['pass', 'aaa-2014j', '35-55', 'south_east_region', 'he_qualification', 'm'],\n",
       " ['a_level_or_equivalent',\n",
       "  'east_anglian_region',\n",
       "  '0-35',\n",
       "  'aaa-2014j',\n",
       "  'pass',\n",
       "  'm'],\n",
       " ['a_level_or_equivalent',\n",
       "  'north_western_region',\n",
       "  'pass',\n",
       "  '35-55',\n",
       "  'f',\n",
       "  'aaa-2014j'],\n",
       " ['0-35', 'pass', 'aaa-2014j', 'a_level_or_equivalent', 'm', 'ireland'],\n",
       " ['aaa-2014j',\n",
       "  'he_qualification',\n",
       "  'm',\n",
       "  '35-55',\n",
       "  'fail',\n",
       "  'west_midlands_region'],\n",
       " ['ireland', 'aaa-2014j', 'a_level_or_equivalent', 'm', 'fail', '0-35'],\n",
       " ['pass', 'f', '0-35', 'north_region', 'aaa-2014j', 'a_level_or_equivalent'],\n",
       " ['he_qualification', 'pass', 'aaa-2014j', 'm', 'london_region', '0-35'],\n",
       " ['ireland', '0-35', 'distinction', 'aaa-2014j', 'm', 'lower_than_a_level'],\n",
       " ['east_anglian_region',\n",
       "  'a_level_or_equivalent',\n",
       "  'fail',\n",
       "  'aaa-2014j',\n",
       "  '0-35',\n",
       "  'm'],\n",
       " ['m',\n",
       "  'south_east_region',\n",
       "  '35-55',\n",
       "  'a_level_or_equivalent',\n",
       "  'pass',\n",
       "  'aaa-2014j'],\n",
       " ['a_level_or_equivalent',\n",
       "  'west_midlands_region',\n",
       "  'aaa-2014j',\n",
       "  'withdrawn',\n",
       "  '0-35',\n",
       "  'f'],\n",
       " ['south_west_region', 'aaa-2014j', 'pass', 'he_qualification', 'f', '0-35'],\n",
       " ['pass', 'south_west_region', 'm', 'aaa-2014j', '0-35', 'he_qualification'],\n",
       " ['a_level_or_equivalent',\n",
       "  'aaa-2014j',\n",
       "  'pass',\n",
       "  'south_west_region',\n",
       "  '0-35',\n",
       "  'm'],\n",
       " ['ireland', '0-35', 'aaa-2014j', 'm', 'pass', 'a_level_or_equivalent'],\n",
       " ['fail',\n",
       "  '0-35',\n",
       "  'm',\n",
       "  'west_midlands_region',\n",
       "  'lower_than_a_level',\n",
       "  'aaa-2014j'],\n",
       " ['m',\n",
       "  '0-35',\n",
       "  'a_level_or_equivalent',\n",
       "  'aaa-2014j',\n",
       "  'withdrawn',\n",
       "  'south_region'],\n",
       " ['withdrawn',\n",
       "  'aaa-2014j',\n",
       "  'he_qualification',\n",
       "  'm',\n",
       "  '35-55',\n",
       "  'south_east_region'],\n",
       " ['35-55',\n",
       "  'aaa-2014j',\n",
       "  'he_qualification',\n",
       "  'f',\n",
       "  'east_anglian_region',\n",
       "  'pass'],\n",
       " ['distinction', 'a_level_or_equivalent', 'aaa-2014j', 'wales', 'm', '0-35'],\n",
       " ['0-35',\n",
       "  'a_level_or_equivalent',\n",
       "  'fail',\n",
       "  'east_midlands_region',\n",
       "  'm',\n",
       "  'aaa-2014j'],\n",
       " ['a_level_or_equivalent',\n",
       "  'aaa-2014j',\n",
       "  '0-35',\n",
       "  'f',\n",
       "  'yorkshire_region',\n",
       "  'pass'],\n",
       " ['a_level_or_equivalent',\n",
       "  'south_west_region',\n",
       "  'f',\n",
       "  'aaa-2014j',\n",
       "  'pass',\n",
       "  '0-35'],\n",
       " ['pass', 'aaa-2014j', 'east_anglian_region', 'f', 'he_qualification', '0-35'],\n",
       " ['f',\n",
       "  '0-35',\n",
       "  'withdrawn',\n",
       "  'a_level_or_equivalent',\n",
       "  'london_region',\n",
       "  'aaa-2014j'],\n",
       " ['m',\n",
       "  'south_west_region',\n",
       "  'pass',\n",
       "  '35-55',\n",
       "  'aaa-2014j',\n",
       "  'a_level_or_equivalent'],\n",
       " ['m',\n",
       "  'pass',\n",
       "  '0-35',\n",
       "  'a_level_or_equivalent',\n",
       "  'south_east_region',\n",
       "  'aaa-2014j'],\n",
       " ['f',\n",
       "  'yorkshire_region',\n",
       "  '0-35',\n",
       "  'pass',\n",
       "  'aaa-2014j',\n",
       "  'a_level_or_equivalent'],\n",
       " ['lower_than_a_level',\n",
       "  'aaa-2014j',\n",
       "  'm',\n",
       "  'london_region',\n",
       "  '0-35',\n",
       "  'withdrawn'],\n",
       " ['pass', 'he_qualification', 'aaa-2014j', 'scotland', 'f', '0-35'],\n",
       " ['withdrawn', 'aaa-2014j', 'f', 'scotland', '0-35', 'he_qualification'],\n",
       " ['distinction',\n",
       "  '0-35',\n",
       "  'he_qualification',\n",
       "  'aaa-2014j',\n",
       "  'west_midlands_region',\n",
       "  'm'],\n",
       " ['lower_than_a_level',\n",
       "  'fail',\n",
       "  'm',\n",
       "  '35-55',\n",
       "  'south_west_region',\n",
       "  'aaa-2014j'],\n",
       " ['pass', 'south_region', 'aaa-2014j', '0-35', 'm', 'he_qualification'],\n",
       " ['fail', '0-35', 'he_qualification', 'scotland', 'aaa-2014j', 'f'],\n",
       " ['a_level_or_equivalent', 'pass', 'london_region', '35-55', 'm', 'aaa-2014j'],\n",
       " ['aaa-2014j', 'm', '0-35', 'london_region', 'pass', 'he_qualification'],\n",
       " ['a_level_or_equivalent',\n",
       "  'withdrawn',\n",
       "  'south_region',\n",
       "  'f',\n",
       "  'aaa-2014j',\n",
       "  '0-35'],\n",
       " ['f',\n",
       "  'a_level_or_equivalent',\n",
       "  'withdrawn',\n",
       "  'aaa-2014j',\n",
       "  '0-35',\n",
       "  'north_western_region'],\n",
       " ['distinction',\n",
       "  'east_midlands_region',\n",
       "  'f',\n",
       "  'aaa-2014j',\n",
       "  'he_qualification',\n",
       "  '35-55'],\n",
       " ['pass', '0-35', 'a_level_or_equivalent', 'aaa-2014j', 'm', 'wales'],\n",
       " ['0-35',\n",
       "  'west_midlands_region',\n",
       "  'he_qualification',\n",
       "  'pass',\n",
       "  'f',\n",
       "  'aaa-2014j'],\n",
       " ['m', '0-35', 'pass', 'aaa-2014j', 'he_qualification', 'yorkshire_region'],\n",
       " ['0-35', 'he_qualification', 'aaa-2014j', 'm', 'withdrawn', 'south_region'],\n",
       " ['fail',\n",
       "  'he_qualification',\n",
       "  'east_anglian_region',\n",
       "  'aaa-2014j',\n",
       "  'f',\n",
       "  '35-55'],\n",
       " ['0-35', 'aaa-2014j', 'he_qualification', 'f', 'scotland', 'pass'],\n",
       " ['withdrawn',\n",
       "  'f',\n",
       "  '0-35',\n",
       "  'a_level_or_equivalent',\n",
       "  'aaa-2014j',\n",
       "  'london_region'],\n",
       " ['he_qualification', 'pass', 'aaa-2014j', 'f', 'scotland', '0-35'],\n",
       " ['aaa-2014j', 'north_region', 'he_qualification', 'm', 'withdrawn', '55-80'],\n",
       " ['f', '35-55', 'aaa-2014j', 'he_qualification', 'south_region', 'withdrawn'],\n",
       " ['aaa-2014j',\n",
       "  'south_east_region',\n",
       "  'f',\n",
       "  'withdrawn',\n",
       "  'a_level_or_equivalent',\n",
       "  '35-55'],\n",
       " ['m',\n",
       "  'pass',\n",
       "  'a_level_or_equivalent',\n",
       "  'east_anglian_region',\n",
       "  'aaa-2014j',\n",
       "  '0-35'],\n",
       " ['aaa-2014j', 'he_qualification', 'pass', '0-35', 'm', 'south_region'],\n",
       " ['m',\n",
       "  'aaa-2014j',\n",
       "  'withdrawn',\n",
       "  '0-35',\n",
       "  'south_east_region',\n",
       "  'a_level_or_equivalent'],\n",
       " ['south_east_region',\n",
       "  'f',\n",
       "  '0-35',\n",
       "  'withdrawn',\n",
       "  'aaa-2014j',\n",
       "  'he_qualification'],\n",
       " ['aaa-2014j',\n",
       "  'east_anglian_region',\n",
       "  'withdrawn',\n",
       "  '0-35',\n",
       "  'm',\n",
       "  'a_level_or_equivalent'],\n",
       " ['he_qualification', 'pass', 'aaa-2014j', 'south_region', 'f', '0-35'],\n",
       " ['north_region', 'm', 'a_level_or_equivalent', 'aaa-2014j', 'pass', '0-35'],\n",
       " ['m',\n",
       "  'aaa-2014j',\n",
       "  'south_west_region',\n",
       "  'he_qualification',\n",
       "  '0-35',\n",
       "  'withdrawn'],\n",
       " ['withdrawn',\n",
       "  'aaa-2014j',\n",
       "  'm',\n",
       "  '0-35',\n",
       "  'a_level_or_equivalent',\n",
       "  'yorkshire_region'],\n",
       " ['m', 'scotland', '0-35', 'he_qualification', 'aaa-2014j', 'withdrawn'],\n",
       " ['pass', 'south_east_region', 'm', '0-35', 'he_qualification', 'aaa-2014j'],\n",
       " ['m', 'wales', '0-35', 'a_level_or_equivalent', 'fail', 'aaa-2014j'],\n",
       " ['north_region', 'he_qualification', 'aaa-2014j', '0-35', 'pass', 'm'],\n",
       " ['pass', 'yorkshire_region', 'm', 'aaa-2014j', 'he_qualification', '0-35'],\n",
       " ['f', '0-35', 'ireland', 'pass', 'aaa-2014j', 'lower_than_a_level'],\n",
       " ['withdrawn', 'he_qualification', 'south_region', '0-35', 'aaa-2014j', 'm'],\n",
       " ['lower_than_a_level',\n",
       "  'withdrawn',\n",
       "  '55-80',\n",
       "  'f',\n",
       "  'south_region',\n",
       "  'aaa-2014j'],\n",
       " ['fail',\n",
       "  'south_west_region',\n",
       "  'a_level_or_equivalent',\n",
       "  '55-80',\n",
       "  'm',\n",
       "  'aaa-2014j'],\n",
       " ['aaa-2014j', 'a_level_or_equivalent', '55-80', 'pass', 'f', 'south_region'],\n",
       " ['aaa-2014j', 'lower_than_a_level', 'm', '35-55', 'wales', 'pass'],\n",
       " ['south_region', 'aaa-2014j', '35-55', 'pass', 'a_level_or_equivalent', 'f'],\n",
       " ['aaa-2014j',\n",
       "  'm',\n",
       "  '55-80',\n",
       "  'he_qualification',\n",
       "  'south_west_region',\n",
       "  'withdrawn'],\n",
       " ['pass', 'm', 'he_qualification', 'aaa-2014j', '35-55', 'south_west_region'],\n",
       " ['m', 'pass', 'london_region', '55-80', 'he_qualification', 'aaa-2014j'],\n",
       " ['yorkshire_region',\n",
       "  'pass',\n",
       "  'a_level_or_equivalent',\n",
       "  'aaa-2014j',\n",
       "  '35-55',\n",
       "  'm'],\n",
       " ['withdrawn',\n",
       "  'south_region',\n",
       "  '55-80',\n",
       "  'f',\n",
       "  'a_level_or_equivalent',\n",
       "  'aaa-2014j'],\n",
       " ['aaa-2014j',\n",
       "  'withdrawn',\n",
       "  'a_level_or_equivalent',\n",
       "  'south_west_region',\n",
       "  'm',\n",
       "  '35-55'],\n",
       " ['withdrawn',\n",
       "  'aaa-2014j',\n",
       "  'f',\n",
       "  'east_anglian_region',\n",
       "  '35-55',\n",
       "  'he_qualification'],\n",
       " ['a_level_or_equivalent',\n",
       "  'east_midlands_region',\n",
       "  'pass',\n",
       "  'm',\n",
       "  '35-55',\n",
       "  'aaa-2014j'],\n",
       " ['lower_than_a_level',\n",
       "  'aaa-2014j',\n",
       "  'f',\n",
       "  'pass',\n",
       "  '35-55',\n",
       "  'east_anglian_region'],\n",
       " ['f',\n",
       "  'pass',\n",
       "  'west_midlands_region',\n",
       "  '35-55',\n",
       "  'a_level_or_equivalent',\n",
       "  'aaa-2014j'],\n",
       " ['aaa-2014j', 'a_level_or_equivalent', '35-55', 'wales', 'm', 'pass'],\n",
       " ['a_level_or_equivalent',\n",
       "  'f',\n",
       "  'east_midlands_region',\n",
       "  '35-55',\n",
       "  'aaa-2014j',\n",
       "  'distinction'],\n",
       " ['east_midlands_region',\n",
       "  '35-55',\n",
       "  'f',\n",
       "  'aaa-2014j',\n",
       "  'pass',\n",
       "  'a_level_or_equivalent'],\n",
       " ['aaa-2014j',\n",
       "  'a_level_or_equivalent',\n",
       "  'distinction',\n",
       "  'south_east_region',\n",
       "  '35-55',\n",
       "  'm'],\n",
       " ['55-80', 'he_qualification', 'm', 'withdrawn', 'aaa-2014j', 'london_region'],\n",
       " ['scotland', 'f', 'withdrawn', '35-55', 'a_level_or_equivalent', 'aaa-2014j'],\n",
       " ['f',\n",
       "  'south_east_region',\n",
       "  'aaa-2014j',\n",
       "  '35-55',\n",
       "  'lower_than_a_level',\n",
       "  'withdrawn'],\n",
       " ['a_level_or_equivalent', 'm', 'pass', 'south_region', 'aaa-2014j', '35-55'],\n",
       " ['aaa-2014j',\n",
       "  'pass',\n",
       "  'south_east_region',\n",
       "  'lower_than_a_level',\n",
       "  '35-55',\n",
       "  'm'],\n",
       " ['north_western_region',\n",
       "  '35-55',\n",
       "  'a_level_or_equivalent',\n",
       "  'f',\n",
       "  'pass',\n",
       "  'aaa-2014j'],\n",
       " ['london_region', 'pass', 'm', 'a_level_or_equivalent', '35-55', 'aaa-2014j'],\n",
       " ['35-55', 'scotland', 'm', 'pass', 'aaa-2014j', 'a_level_or_equivalent'],\n",
       " ['scotland', '35-55', 'aaa-2014j', 'f', 'he_qualification', 'fail'],\n",
       " ['35-55',\n",
       "  'withdrawn',\n",
       "  'f',\n",
       "  'aaa-2014j',\n",
       "  'yorkshire_region',\n",
       "  'lower_than_a_level'],\n",
       " ['35-55', 'aaa-2014j', 'pass', 'lower_than_a_level', 'm', 'london_region'],\n",
       " ['f',\n",
       "  'a_level_or_equivalent',\n",
       "  'pass',\n",
       "  'south_east_region',\n",
       "  '35-55',\n",
       "  'aaa-2014j'],\n",
       " ['35-55', 'f', 'aaa-2014j', 'a_level_or_equivalent', 'south_region', 'pass'],\n",
       " ['west_midlands_region',\n",
       "  'aaa-2014j',\n",
       "  '35-55',\n",
       "  'm',\n",
       "  'pass',\n",
       "  'lower_than_a_level'],\n",
       " ['pass',\n",
       "  'lower_than_a_level',\n",
       "  '35-55',\n",
       "  'm',\n",
       "  'south_east_region',\n",
       "  'aaa-2014j'],\n",
       " ['pass', 'aaa-2014j', '0-35', 'scotland', 'f', 'a_level_or_equivalent'],\n",
       " ['north_western_region',\n",
       "  'he_qualification',\n",
       "  'aaa-2014j',\n",
       "  'fail',\n",
       "  'm',\n",
       "  '35-55'],\n",
       " ['m', 'lower_than_a_level', 'aaa-2014j', '35-55', 'london_region', 'pass'],\n",
       " ['35-55', 'fail', 'aaa-2014j', 'london_region', 'lower_than_a_level', 'f'],\n",
       " ['he_qualification', 'f', 'pass', 'north_region', 'aaa-2014j', '35-55'],\n",
       " ['pass', 'aaa-2014j', 'scotland', 'm', 'a_level_or_equivalent', '35-55'],\n",
       " ['m', 'a_level_or_equivalent', 'aaa-2014j', '35-55', 'pass', 'london_region'],\n",
       " ['east_midlands_region',\n",
       "  '35-55',\n",
       "  'aaa-2014j',\n",
       "  'lower_than_a_level',\n",
       "  'pass',\n",
       "  'f'],\n",
       " ['35-55', 'ireland', 'aaa-2014j', 'withdrawn', 'a_level_or_equivalent', 'f'],\n",
       " ['south_west_region',\n",
       "  'f',\n",
       "  'withdrawn',\n",
       "  '35-55',\n",
       "  'aaa-2014j',\n",
       "  'lower_than_a_level'],\n",
       " ['lower_than_a_level', 'aaa-2014j', 'south_west_region', 'pass', 'f', '0-35'],\n",
       " ['35-55',\n",
       "  'withdrawn',\n",
       "  'aaa-2014j',\n",
       "  'lower_than_a_level',\n",
       "  'm',\n",
       "  'south_west_region'],\n",
       " ['lower_than_a_level',\n",
       "  'fail',\n",
       "  'west_midlands_region',\n",
       "  'aaa-2014j',\n",
       "  '0-35',\n",
       "  'f'],\n",
       " ['m',\n",
       "  'aaa-2014j',\n",
       "  '35-55',\n",
       "  'pass',\n",
       "  'lower_than_a_level',\n",
       "  'south_west_region'],\n",
       " ['m',\n",
       "  'north_western_region',\n",
       "  'aaa-2014j',\n",
       "  'a_level_or_equivalent',\n",
       "  '35-55',\n",
       "  'distinction'],\n",
       " ['a_level_or_equivalent',\n",
       "  '0-35',\n",
       "  'f',\n",
       "  'west_midlands_region',\n",
       "  'aaa-2014j',\n",
       "  'withdrawn'],\n",
       " ['a_level_or_equivalent',\n",
       "  'f',\n",
       "  'aaa-2014j',\n",
       "  'west_midlands_region',\n",
       "  'pass',\n",
       "  '35-55'],\n",
       " ['a_level_or_equivalent',\n",
       "  'pass',\n",
       "  'aaa-2014j',\n",
       "  'f',\n",
       "  '35-55',\n",
       "  'west_midlands_region'],\n",
       " ['a_level_or_equivalent',\n",
       "  '35-55',\n",
       "  'london_region',\n",
       "  'withdrawn',\n",
       "  'aaa-2014j',\n",
       "  'm'],\n",
       " ['a_level_or_equivalent', 'pass', 'wales', 'aaa-2014j', '35-55', 'm'],\n",
       " ['lower_than_a_level', 'london_region', 'pass', 'm', 'aaa-2014j', '35-55'],\n",
       " ['35-55',\n",
       "  'm',\n",
       "  'aaa-2014j',\n",
       "  'east_midlands_region',\n",
       "  'a_level_or_equivalent',\n",
       "  'pass'],\n",
       " ['0-35',\n",
       "  'a_level_or_equivalent',\n",
       "  'f',\n",
       "  'east_anglian_region',\n",
       "  'aaa-2014j',\n",
       "  'pass'],\n",
       " ['a_level_or_equivalent',\n",
       "  'north_western_region',\n",
       "  '0-35',\n",
       "  'aaa-2014j',\n",
       "  'f',\n",
       "  'distinction'],\n",
       " ['he_qualification',\n",
       "  'south_east_region',\n",
       "  '0-35',\n",
       "  'm',\n",
       "  'aaa-2014j',\n",
       "  'withdrawn'],\n",
       " ['35-55', 'aaa-2014j', 'm', 'london_region', 'pass', 'a_level_or_equivalent'],\n",
       " ['aaa-2014j',\n",
       "  '35-55',\n",
       "  'east_anglian_region',\n",
       "  'f',\n",
       "  'a_level_or_equivalent',\n",
       "  'pass'],\n",
       " ['pass',\n",
       "  'f',\n",
       "  'lower_than_a_level',\n",
       "  'east_midlands_region',\n",
       "  '35-55',\n",
       "  'aaa-2014j'],\n",
       " ['lower_than_a_level',\n",
       "  'm',\n",
       "  '35-55',\n",
       "  'pass',\n",
       "  'aaa-2014j',\n",
       "  'east_anglian_region'],\n",
       " ['south_west_region',\n",
       "  'aaa-2014j',\n",
       "  '35-55',\n",
       "  'lower_than_a_level',\n",
       "  'fail',\n",
       "  'f'],\n",
       " ['pass', 'aaa-2014j', 'he_qualification', 'scotland', 'm', '0-35'],\n",
       " ['a_level_or_equivalent', 'm', 'london_region', 'aaa-2014j', 'fail', '35-55'],\n",
       " ['he_qualification',\n",
       "  'aaa-2014j',\n",
       "  'pass',\n",
       "  'f',\n",
       "  'east_anglian_region',\n",
       "  '35-55'],\n",
       " ['m',\n",
       "  'pass',\n",
       "  'aaa-2014j',\n",
       "  'north_western_region',\n",
       "  '0-35',\n",
       "  'a_level_or_equivalent'],\n",
       " ['f', 'fail', '0-35', 'south_region', 'a_level_or_equivalent', 'aaa-2014j'],\n",
       " ['pass',\n",
       "  'west_midlands_region',\n",
       "  'm',\n",
       "  '0-35',\n",
       "  'he_qualification',\n",
       "  'aaa-2014j'],\n",
       " ['55-80', 'he_qualification', 'fail', 'f', 'scotland', 'aaa-2014j'],\n",
       " ['south_east_region',\n",
       "  'a_level_or_equivalent',\n",
       "  '35-55',\n",
       "  'aaa-2014j',\n",
       "  'pass',\n",
       "  'f'],\n",
       " ['f', '35-55', 'a_level_or_equivalent', 'scotland', 'withdrawn', 'aaa-2014j'],\n",
       " ['aaa-2014j', 'he_qualification', '0-35', 'yorkshire_region', 'pass', 'm'],\n",
       " ['pass',\n",
       "  '0-35',\n",
       "  'f',\n",
       "  'aaa-2014j',\n",
       "  'a_level_or_equivalent',\n",
       "  'north_western_region'],\n",
       " ['35-55',\n",
       "  'f',\n",
       "  'north_western_region',\n",
       "  'a_level_or_equivalent',\n",
       "  'aaa-2014j',\n",
       "  'withdrawn'],\n",
       " ['pass',\n",
       "  'west_midlands_region',\n",
       "  'aaa-2014j',\n",
       "  'a_level_or_equivalent',\n",
       "  'm',\n",
       "  '0-35'],\n",
       " ['a_level_or_equivalent',\n",
       "  'm',\n",
       "  'aaa-2014j',\n",
       "  'west_midlands_region',\n",
       "  'distinction',\n",
       "  '35-55'],\n",
       " ['aaa-2014j',\n",
       "  'pass',\n",
       "  'lower_than_a_level',\n",
       "  '35-55',\n",
       "  'east_anglian_region',\n",
       "  'f'],\n",
       " ['a_level_or_equivalent', 'f', 'aaa-2014j', 'pass', '35-55', 'south_region'],\n",
       " ['pass',\n",
       "  'f',\n",
       "  'south_west_region',\n",
       "  '35-55',\n",
       "  'a_level_or_equivalent',\n",
       "  'aaa-2014j'],\n",
       " ['withdrawn',\n",
       "  'east_midlands_region',\n",
       "  'aaa-2014j',\n",
       "  '35-55',\n",
       "  'he_qualification',\n",
       "  'f'],\n",
       " ['55-80', 'he_qualification', 'withdrawn', 'scotland', 'aaa-2014j', 'm'],\n",
       " ['0-35',\n",
       "  'a_level_or_equivalent',\n",
       "  'f',\n",
       "  'aaa-2014j',\n",
       "  'south_east_region',\n",
       "  'pass'],\n",
       " ['withdrawn',\n",
       "  'south_east_region',\n",
       "  'lower_than_a_level',\n",
       "  'm',\n",
       "  'aaa-2014j',\n",
       "  '0-35'],\n",
       " ['0-35', 'south_region', 'a_level_or_equivalent', 'm', 'aaa-2014j', 'pass'],\n",
       " ['f', 'aaa-2014j', 'south_west_region', 'fail', '35-55', 'he_qualification'],\n",
       " ['35-55',\n",
       "  'north_western_region',\n",
       "  'aaa-2014j',\n",
       "  'a_level_or_equivalent',\n",
       "  'm',\n",
       "  'fail'],\n",
       " ['pass', 'm', 'lower_than_a_level', 'aaa-2014j', 'north_region', '35-55'],\n",
       " ['lower_than_a_level',\n",
       "  'f',\n",
       "  'east_anglian_region',\n",
       "  '35-55',\n",
       "  'pass',\n",
       "  'aaa-2014j'],\n",
       " ['east_anglian_region',\n",
       "  'a_level_or_equivalent',\n",
       "  '0-35',\n",
       "  'pass',\n",
       "  'f',\n",
       "  'aaa-2014j'],\n",
       " ['aaa-2014j',\n",
       "  'f',\n",
       "  '35-55',\n",
       "  'lower_than_a_level',\n",
       "  'fail',\n",
       "  'east_midlands_region'],\n",
       " ['55-80',\n",
       "  'm',\n",
       "  'a_level_or_equivalent',\n",
       "  'aaa-2014j',\n",
       "  'south_west_region',\n",
       "  'pass'],\n",
       " ['pass',\n",
       "  '35-55',\n",
       "  'aaa-2014j',\n",
       "  'm',\n",
       "  'west_midlands_region',\n",
       "  'he_qualification'],\n",
       " ['f',\n",
       "  'lower_than_a_level',\n",
       "  'fail',\n",
       "  'aaa-2014j',\n",
       "  '35-55',\n",
       "  'north_western_region'],\n",
       " ['north_region', 'aaa-2014j', '0-35', 'a_level_or_equivalent', 'fail', 'm'],\n",
       " ['aaa-2014j', 'london_region', 'f', 'fail', 'a_level_or_equivalent', '0-35'],\n",
       " ['lower_than_a_level',\n",
       "  'withdrawn',\n",
       "  'east_midlands_region',\n",
       "  'f',\n",
       "  'aaa-2014j',\n",
       "  '35-55'],\n",
       " ['a_level_or_equivalent',\n",
       "  'south_west_region',\n",
       "  'aaa-2014j',\n",
       "  '35-55',\n",
       "  'm',\n",
       "  'pass'],\n",
       " ['pass',\n",
       "  'a_level_or_equivalent',\n",
       "  'aaa-2014j',\n",
       "  'f',\n",
       "  '35-55',\n",
       "  'yorkshire_region'],\n",
       " ['aaa-2014j',\n",
       "  'east_midlands_region',\n",
       "  '35-55',\n",
       "  'distinction',\n",
       "  'f',\n",
       "  'lower_than_a_level'],\n",
       " ['a_level_or_equivalent',\n",
       "  'pass',\n",
       "  'aaa-2014j',\n",
       "  'f',\n",
       "  'south_east_region',\n",
       "  '35-55'],\n",
       " ['35-55',\n",
       "  'm',\n",
       "  'west_midlands_region',\n",
       "  'aaa-2014j',\n",
       "  'pass',\n",
       "  'lower_than_a_level'],\n",
       " ['f',\n",
       "  'pass',\n",
       "  'lower_than_a_level',\n",
       "  '35-55',\n",
       "  'aaa-2014j',\n",
       "  'east_anglian_region'],\n",
       " ['m',\n",
       "  '35-55',\n",
       "  'a_level_or_equivalent',\n",
       "  'north_western_region',\n",
       "  'aaa-2014j',\n",
       "  'pass'],\n",
       " ['aaa-2014j', 'he_qualification', 'pass', 'scotland', '55-80', 'm'],\n",
       " ['yorkshire_region', 'aaa-2014j', 'lower_than_a_level', 'm', 'pass', '35-55'],\n",
       " ['f',\n",
       "  'withdrawn',\n",
       "  'north_western_region',\n",
       "  '35-55',\n",
       "  'aaa-2014j',\n",
       "  'a_level_or_equivalent'],\n",
       " ['aaa-2014j',\n",
       "  'm',\n",
       "  'lower_than_a_level',\n",
       "  '35-55',\n",
       "  'pass',\n",
       "  'north_western_region'],\n",
       " ['south_region', 'aaa-2014j', 'fail', 'f', '35-55', 'a_level_or_equivalent'],\n",
       " ['f',\n",
       "  '0-35',\n",
       "  'fail',\n",
       "  'east_anglian_region',\n",
       "  'bbb-2013b',\n",
       "  'lower_than_a_level'],\n",
       " ['0-35',\n",
       "  'bbb-2013b',\n",
       "  'f',\n",
       "  'east_anglian_region',\n",
       "  'lower_than_a_level',\n",
       "  'pass'],\n",
       " ['0-35', 'scotland', 'withdrawn', 'lower_than_a_level', 'm', 'bbb-2013b'],\n",
       " ['fail', 'south_region', 'bbb-2013b', 'lower_than_a_level', 'm', '0-35'],\n",
       " ['bbb-2013b', '35-55', 'm', 'north_region', 'pass', 'a_level_or_equivalent'],\n",
       " ['f',\n",
       "  'london_region',\n",
       "  'a_level_or_equivalent',\n",
       "  'bbb-2013b',\n",
       "  'withdrawn',\n",
       "  '0-35'],\n",
       " ['pass', 'ireland', '35-55', 'a_level_or_equivalent', 'bbb-2013b', 'f'],\n",
       " ['fail', '35-55', 'bbb-2013b', 'a_level_or_equivalent', 'm', 'scotland'],\n",
       " ['f',\n",
       "  'lower_than_a_level',\n",
       "  'yorkshire_region',\n",
       "  'withdrawn',\n",
       "  'bbb-2013b',\n",
       "  '0-35'],\n",
       " ['a_level_or_equivalent',\n",
       "  '35-55',\n",
       "  'm',\n",
       "  'west_midlands_region',\n",
       "  'withdrawn',\n",
       "  'bbb-2013b'],\n",
       " ['bbb-2013b',\n",
       "  'east_midlands_region',\n",
       "  'f',\n",
       "  'lower_than_a_level',\n",
       "  'withdrawn',\n",
       "  '0-35'],\n",
       " ['a_level_or_equivalent', 'f', '0-35', 'bbb-2013b', 'london_region', 'pass'],\n",
       " ['0-35',\n",
       "  'bbb-2013b',\n",
       "  'f',\n",
       "  'lower_than_a_level',\n",
       "  'fail',\n",
       "  'east_anglian_region'],\n",
       " ['0-35', 'lower_than_a_level', 'distinction', 'bbb-2013b', 'scotland', 'f'],\n",
       " ['bbb-2013b', 'lower_than_a_level', 'scotland', '0-35', 'f', 'fail'],\n",
       " ['bbb-2013b',\n",
       "  '35-55',\n",
       "  'withdrawn',\n",
       "  'f',\n",
       "  'east_midlands_region',\n",
       "  'lower_than_a_level'],\n",
       " ['f',\n",
       "  'a_level_or_equivalent',\n",
       "  '0-35',\n",
       "  'fail',\n",
       "  'west_midlands_region',\n",
       "  'bbb-2013b'],\n",
       " ['fail',\n",
       "  'bbb-2013b',\n",
       "  'a_level_or_equivalent',\n",
       "  '0-35',\n",
       "  'north_western_region',\n",
       "  'f'],\n",
       " ['bbb-2013b',\n",
       "  'he_qualification',\n",
       "  'distinction',\n",
       "  'south_east_region',\n",
       "  'f',\n",
       "  '35-55'],\n",
       " ['bbb-2013b',\n",
       "  '0-35',\n",
       "  'fail',\n",
       "  'a_level_or_equivalent',\n",
       "  'f',\n",
       "  'north_western_region'],\n",
       " ['bbb-2013b',\n",
       "  'withdrawn',\n",
       "  'm',\n",
       "  '35-55',\n",
       "  'south_east_region',\n",
       "  'a_level_or_equivalent'],\n",
       " ['0-35',\n",
       "  'bbb-2013b',\n",
       "  'north_region',\n",
       "  'f',\n",
       "  'lower_than_a_level',\n",
       "  'distinction'],\n",
       " ['0-35',\n",
       "  'north_western_region',\n",
       "  'f',\n",
       "  'bbb-2013b',\n",
       "  'lower_than_a_level',\n",
       "  'pass'],\n",
       " ['bbb-2013b',\n",
       "  'f',\n",
       "  'east_anglian_region',\n",
       "  'pass',\n",
       "  'lower_than_a_level',\n",
       "  '35-55'],\n",
       " ['0-35',\n",
       "  'lower_than_a_level',\n",
       "  'fail',\n",
       "  'f',\n",
       "  'east_anglian_region',\n",
       "  'bbb-2013b'],\n",
       " ['bbb-2013b', 'f', 'london_region', 'lower_than_a_level', 'fail', '35-55'],\n",
       " ['f', '0-35', 'pass', 'lower_than_a_level', 'bbb-2013b', 'wales'],\n",
       " ['lower_than_a_level',\n",
       "  'bbb-2013b',\n",
       "  '0-35',\n",
       "  'east_anglian_region',\n",
       "  'f',\n",
       "  'pass'],\n",
       " ['he_qualification', 'f', '35-55', 'london_region', 'pass', 'bbb-2013b'],\n",
       " ['wales', '0-35', 'a_level_or_equivalent', 'bbb-2013b', 'distinction', 'm'],\n",
       " ['north_western_region',\n",
       "  '35-55',\n",
       "  'f',\n",
       "  'a_level_or_equivalent',\n",
       "  'pass',\n",
       "  'bbb-2013b'],\n",
       " ['wales', 'f', 'he_qualification', 'withdrawn', '35-55', 'bbb-2013b'],\n",
       " ['a_level_or_equivalent',\n",
       "  '0-35',\n",
       "  'west_midlands_region',\n",
       "  'bbb-2013b',\n",
       "  'f',\n",
       "  'withdrawn'],\n",
       " ['35-55',\n",
       "  'a_level_or_equivalent',\n",
       "  'pass',\n",
       "  'm',\n",
       "  'east_midlands_region',\n",
       "  'bbb-2013b'],\n",
       " ['london_region',\n",
       "  'lower_than_a_level',\n",
       "  '0-35',\n",
       "  'withdrawn',\n",
       "  'f',\n",
       "  'bbb-2013b'],\n",
       " ['a_level_or_equivalent',\n",
       "  'yorkshire_region',\n",
       "  'f',\n",
       "  'bbb-2013b',\n",
       "  '35-55',\n",
       "  'pass'],\n",
       " ['bbb-2013b',\n",
       "  '0-35',\n",
       "  'f',\n",
       "  'lower_than_a_level',\n",
       "  'east_anglian_region',\n",
       "  'withdrawn'],\n",
       " ['0-35',\n",
       "  'east_anglian_region',\n",
       "  'f',\n",
       "  'pass',\n",
       "  'a_level_or_equivalent',\n",
       "  'bbb-2013b'],\n",
       " ['distinction', 'f', 'bbb-2013b', '35-55', 'wales', 'he_qualification'],\n",
       " ['f',\n",
       "  'pass',\n",
       "  '0-35',\n",
       "  'lower_than_a_level',\n",
       "  'east_anglian_region',\n",
       "  'bbb-2013b'],\n",
       " ['0-35', 'bbb-2013b', 'fail', 'south_region', 'lower_than_a_level', 'f'],\n",
       " ['f', 'lower_than_a_level', 'withdrawn', 'bbb-2013b', 'south_region', '0-35'],\n",
       " ['f', 'pass', 'north_region', 'bbb-2013b', '0-35', 'a_level_or_equivalent'],\n",
       " ['scotland', 'bbb-2013b', 'pass', '35-55', 'f', 'he_qualification'],\n",
       " ['bbb-2013b',\n",
       "  '35-55',\n",
       "  'f',\n",
       "  'east_anglian_region',\n",
       "  'withdrawn',\n",
       "  'a_level_or_equivalent'],\n",
       " ['f',\n",
       "  '35-55',\n",
       "  'bbb-2013b',\n",
       "  'distinction',\n",
       "  'lower_than_a_level',\n",
       "  'south_east_region'],\n",
       " ['pass', '35-55', 'bbb-2013b', 'lower_than_a_level', 'f', 'south_region'],\n",
       " ['0-35', 'ireland', 'pass', 'f', 'a_level_or_equivalent', 'bbb-2013b'],\n",
       " ['0-35', 'wales', 'distinction', 'f', 'he_qualification', 'bbb-2013b'],\n",
       " ['f',\n",
       "  'pass',\n",
       "  '0-35',\n",
       "  'east_anglian_region',\n",
       "  'bbb-2013b',\n",
       "  'a_level_or_equivalent'],\n",
       " ['f', 'he_qualification', 'bbb-2013b', 'scotland', '35-55', 'distinction'],\n",
       " ['london_region', '35-55', 'a_level_or_equivalent', 'fail', 'bbb-2013b', 'm'],\n",
       " ['35-55', 'fail', 'f', 'bbb-2013b', 'london_region', 'lower_than_a_level'],\n",
       " ['0-35', 'wales', 'f', 'bbb-2013b', 'lower_than_a_level', 'fail'],\n",
       " ['0-35',\n",
       "  'f',\n",
       "  'bbb-2013b',\n",
       "  'a_level_or_equivalent',\n",
       "  'withdrawn',\n",
       "  'east_midlands_region'],\n",
       " ['a_level_or_equivalent',\n",
       "  'east_anglian_region',\n",
       "  'pass',\n",
       "  '35-55',\n",
       "  'f',\n",
       "  'bbb-2013b'],\n",
       " ['35-55', 'a_level_or_equivalent', 'f', 'pass', 'bbb-2013b', 'scotland'],\n",
       " ['bbb-2013b',\n",
       "  'west_midlands_region',\n",
       "  'fail',\n",
       "  '0-35',\n",
       "  'lower_than_a_level',\n",
       "  'f'],\n",
       " ['bbb-2013b', 'a_level_or_equivalent', 'f', 'scotland', '0-35', 'withdrawn'],\n",
       " ['lower_than_a_level',\n",
       "  'f',\n",
       "  'yorkshire_region',\n",
       "  'withdrawn',\n",
       "  '35-55',\n",
       "  'bbb-2013b'],\n",
       " ['35-55', 'he_qualification', 'yorkshire_region', 'bbb-2013b', 'pass', 'f'],\n",
       " ['wales', 'f', 'bbb-2013b', '0-35', 'fail', 'lower_than_a_level'],\n",
       " ['lower_than_a_level', 'bbb-2013b', 'f', 'scotland', '35-55', 'fail'],\n",
       " ['withdrawn',\n",
       "  'bbb-2013b',\n",
       "  'east_midlands_region',\n",
       "  'a_level_or_equivalent',\n",
       "  'f',\n",
       "  '0-35'],\n",
       " ['bbb-2013b',\n",
       "  'fail',\n",
       "  'lower_than_a_level',\n",
       "  'east_anglian_region',\n",
       "  '35-55',\n",
       "  'f'],\n",
       " ['bbb-2013b',\n",
       "  '0-35',\n",
       "  'distinction',\n",
       "  'a_level_or_equivalent',\n",
       "  'london_region',\n",
       "  'f'],\n",
       " ['west_midlands_region',\n",
       "  '35-55',\n",
       "  'withdrawn',\n",
       "  'lower_than_a_level',\n",
       "  'bbb-2013b',\n",
       "  'f'],\n",
       " ['0-35',\n",
       "  'east_midlands_region',\n",
       "  'm',\n",
       "  'pass',\n",
       "  'bbb-2013b',\n",
       "  'a_level_or_equivalent'],\n",
       " ['m',\n",
       "  'south_west_region',\n",
       "  'bbb-2013b',\n",
       "  'fail',\n",
       "  '0-35',\n",
       "  'a_level_or_equivalent'],\n",
       " ['east_midlands_region',\n",
       "  'bbb-2013b',\n",
       "  'pass',\n",
       "  'a_level_or_equivalent',\n",
       "  '0-35',\n",
       "  'f'],\n",
       " ['f',\n",
       "  'lower_than_a_level',\n",
       "  'withdrawn',\n",
       "  'east_anglian_region',\n",
       "  '0-35',\n",
       "  'bbb-2013b'],\n",
       " ['bbb-2013b',\n",
       "  'a_level_or_equivalent',\n",
       "  '0-35',\n",
       "  'west_midlands_region',\n",
       "  'm',\n",
       "  'pass'],\n",
       " ['f',\n",
       "  '35-55',\n",
       "  'north_western_region',\n",
       "  'pass',\n",
       "  'bbb-2013b',\n",
       "  'lower_than_a_level'],\n",
       " ['f',\n",
       "  '35-55',\n",
       "  'bbb-2013b',\n",
       "  'distinction',\n",
       "  'south_west_region',\n",
       "  'lower_than_a_level'],\n",
       " ['lower_than_a_level',\n",
       "  'west_midlands_region',\n",
       "  '0-35',\n",
       "  'withdrawn',\n",
       "  'f',\n",
       "  'bbb-2013b'],\n",
       " ['pass', 'f', 'south_east_region', 'bbb-2013b', 'lower_than_a_level', '0-35'],\n",
       " ['0-35',\n",
       "  'bbb-2013b',\n",
       "  'f',\n",
       "  'fail',\n",
       "  'a_level_or_equivalent',\n",
       "  'yorkshire_region'],\n",
       " ['he_qualification',\n",
       "  '0-35',\n",
       "  'pass',\n",
       "  'north_western_region',\n",
       "  'f',\n",
       "  'bbb-2013b'],\n",
       " ['bbb-2013b',\n",
       "  'west_midlands_region',\n",
       "  'withdrawn',\n",
       "  '0-35',\n",
       "  'lower_than_a_level',\n",
       "  'f'],\n",
       " ['bbb-2013b', 'pass', 'london_region', '35-55', 'f', 'a_level_or_equivalent'],\n",
       " ['north_western_region',\n",
       "  'fail',\n",
       "  'bbb-2013b',\n",
       "  'lower_than_a_level',\n",
       "  'f',\n",
       "  '0-35'],\n",
       " ['wales', 'bbb-2013b', 'pass', 'a_level_or_equivalent', 'm', '35-55'],\n",
       " ['f',\n",
       "  'bbb-2013b',\n",
       "  '0-35',\n",
       "  'withdrawn',\n",
       "  'a_level_or_equivalent',\n",
       "  'east_anglian_region'],\n",
       " ['f',\n",
       "  'lower_than_a_level',\n",
       "  'withdrawn',\n",
       "  'east_anglian_region',\n",
       "  'bbb-2013b',\n",
       "  '35-55'],\n",
       " ['0-35',\n",
       "  'f',\n",
       "  'west_midlands_region',\n",
       "  'bbb-2013b',\n",
       "  'fail',\n",
       "  'lower_than_a_level'],\n",
       " ['0-35', 'fail', 'bbb-2013b', 'london_region', 'a_level_or_equivalent', 'f'],\n",
       " ['north_western_region',\n",
       "  'f',\n",
       "  '0-35',\n",
       "  'fail',\n",
       "  'bbb-2013b',\n",
       "  'lower_than_a_level'],\n",
       " ['bbb-2013b', 'a_level_or_equivalent', 'withdrawn', 'ireland', '0-35', 'f'],\n",
       " ['withdrawn', 'lower_than_a_level', 'f', '0-35', 'wales', 'bbb-2013b'],\n",
       " ['south_west_region',\n",
       "  '0-35',\n",
       "  'withdrawn',\n",
       "  'bbb-2013b',\n",
       "  'f',\n",
       "  'a_level_or_equivalent'],\n",
       " ['35-55',\n",
       "  'f',\n",
       "  'pass',\n",
       "  'lower_than_a_level',\n",
       "  'bbb-2013b',\n",
       "  'east_anglian_region'],\n",
       " ['f',\n",
       "  'bbb-2013b',\n",
       "  'south_west_region',\n",
       "  '35-55',\n",
       "  'fail',\n",
       "  'a_level_or_equivalent'],\n",
       " ['lower_than_a_level',\n",
       "  'bbb-2013b',\n",
       "  'withdrawn',\n",
       "  '35-55',\n",
       "  'west_midlands_region',\n",
       "  'f'],\n",
       " ['pass', 'scotland', 'f', 'lower_than_a_level', 'bbb-2013b', '35-55'],\n",
       " ['bbb-2013b', 'f', 'yorkshire_region', 'he_qualification', '35-55', 'fail'],\n",
       " ['35-55',\n",
       "  'north_western_region',\n",
       "  'withdrawn',\n",
       "  'a_level_or_equivalent',\n",
       "  'f',\n",
       "  'bbb-2013b'],\n",
       " ['yorkshire_region', '0-35', 'f', 'fail', 'bbb-2013b', 'lower_than_a_level'],\n",
       " ['north_western_region',\n",
       "  'fail',\n",
       "  'lower_than_a_level',\n",
       "  'bbb-2013b',\n",
       "  '35-55',\n",
       "  'f'],\n",
       " ['m',\n",
       "  'south_east_region',\n",
       "  'distinction',\n",
       "  'bbb-2013b',\n",
       "  '0-35',\n",
       "  'lower_than_a_level'],\n",
       " ['wales', 'pass', '35-55', 'm', 'a_level_or_equivalent', 'bbb-2013b'],\n",
       " ['35-55', 'pass', 'wales', 'lower_than_a_level', 'f', 'bbb-2013b'],\n",
       " ['he_qualification', 'pass', 'bbb-2013b', 'london_region', 'f', '35-55'],\n",
       " ['lower_than_a_level', 'yorkshire_region', '35-55', 'pass', 'bbb-2013b', 'm'],\n",
       " ['bbb-2013b', 'he_qualification', '0-35', 'scotland', 'pass', 'f'],\n",
       " ['withdrawn',\n",
       "  'f',\n",
       "  'bbb-2013b',\n",
       "  'a_level_or_equivalent',\n",
       "  'south_west_region',\n",
       "  '0-35'],\n",
       " ['london_region', 'fail', '0-35', 'he_qualification', 'f', 'bbb-2013b'],\n",
       " ['fail',\n",
       "  'a_level_or_equivalent',\n",
       "  'bbb-2013b',\n",
       "  'south_west_region',\n",
       "  '0-35',\n",
       "  'f'],\n",
       " ['lower_than_a_level',\n",
       "  'west_midlands_region',\n",
       "  'bbb-2013b',\n",
       "  'f',\n",
       "  '0-35',\n",
       "  'pass'],\n",
       " ['0-35',\n",
       "  'a_level_or_equivalent',\n",
       "  'f',\n",
       "  'east_anglian_region',\n",
       "  'fail',\n",
       "  'bbb-2013b'],\n",
       " ['london_region',\n",
       "  '0-35',\n",
       "  'a_level_or_equivalent',\n",
       "  'f',\n",
       "  'bbb-2013b',\n",
       "  'distinction'],\n",
       " ['lower_than_a_level', 'bbb-2013b', 'f', '35-55', 'scotland', 'fail'],\n",
       " ['a_level_or_equivalent', '35-55', 'bbb-2013b', 'wales', 'fail', 'm'],\n",
       " ['pass',\n",
       "  'bbb-2013b',\n",
       "  'f',\n",
       "  'a_level_or_equivalent',\n",
       "  'south_east_region',\n",
       "  '0-35'],\n",
       " ['f',\n",
       "  'south_region',\n",
       "  '35-55',\n",
       "  'lower_than_a_level',\n",
       "  'withdrawn',\n",
       "  'bbb-2013b'],\n",
       " ['35-55',\n",
       "  'withdrawn',\n",
       "  'a_level_or_equivalent',\n",
       "  'f',\n",
       "  'bbb-2013b',\n",
       "  'yorkshire_region'],\n",
       " ['a_level_or_equivalent',\n",
       "  'bbb-2013b',\n",
       "  'east_anglian_region',\n",
       "  '0-35',\n",
       "  'f',\n",
       "  'distinction'],\n",
       " ['lower_than_a_level',\n",
       "  'distinction',\n",
       "  'f',\n",
       "  'bbb-2013b',\n",
       "  '0-35',\n",
       "  'west_midlands_region'],\n",
       " ['a_level_or_equivalent',\n",
       "  'east_anglian_region',\n",
       "  'bbb-2013b',\n",
       "  '0-35',\n",
       "  'f',\n",
       "  'withdrawn'],\n",
       " ['0-35',\n",
       "  'north_western_region',\n",
       "  'bbb-2013b',\n",
       "  'f',\n",
       "  'lower_than_a_level',\n",
       "  'withdrawn'],\n",
       " ['bbb-2013b', '0-35', 'pass', 'lower_than_a_level', 'wales', 'f'],\n",
       " ['0-35',\n",
       "  'withdrawn',\n",
       "  'west_midlands_region',\n",
       "  'f',\n",
       "  'bbb-2013b',\n",
       "  'lower_than_a_level'],\n",
       " ['0-35',\n",
       "  'f',\n",
       "  'bbb-2013b',\n",
       "  'north_western_region',\n",
       "  'fail',\n",
       "  'lower_than_a_level'],\n",
       " ['a_level_or_equivalent', 'bbb-2013b', '0-35', 'north_region', 'fail', 'm'],\n",
       " ['fail',\n",
       "  'f',\n",
       "  'north_western_region',\n",
       "  '0-35',\n",
       "  'a_level_or_equivalent',\n",
       "  'bbb-2013b'],\n",
       " ['withdrawn',\n",
       "  'north_western_region',\n",
       "  '0-35',\n",
       "  'lower_than_a_level',\n",
       "  'f',\n",
       "  'bbb-2013b'],\n",
       " ['lower_than_a_level',\n",
       "  '35-55',\n",
       "  'bbb-2013b',\n",
       "  'north_western_region',\n",
       "  'f',\n",
       "  'fail'],\n",
       " ['south_east_region', 'lower_than_a_level', 'fail', 'bbb-2013b', 'm', '0-35'],\n",
       " ['yorkshire_region',\n",
       "  'f',\n",
       "  'pass',\n",
       "  'a_level_or_equivalent',\n",
       "  '0-35',\n",
       "  'bbb-2013b'],\n",
       " ['pass',\n",
       "  'east_midlands_region',\n",
       "  'a_level_or_equivalent',\n",
       "  'bbb-2013b',\n",
       "  'f',\n",
       "  '35-55'],\n",
       " ['lower_than_a_level', 'scotland', 'bbb-2013b', 'pass', '0-35', 'f'],\n",
       " ['bbb-2013b', 'a_level_or_equivalent', 'f', 'scotland', 'fail', '0-35'],\n",
       " ['f',\n",
       "  'bbb-2013b',\n",
       "  'withdrawn',\n",
       "  '35-55',\n",
       "  'a_level_or_equivalent',\n",
       "  'london_region'],\n",
       " ['withdrawn',\n",
       "  'north_region',\n",
       "  'a_level_or_equivalent',\n",
       "  'bbb-2013b',\n",
       "  '0-35',\n",
       "  'f'],\n",
       " ['pass',\n",
       "  '0-35',\n",
       "  'f',\n",
       "  'lower_than_a_level',\n",
       "  'west_midlands_region',\n",
       "  'bbb-2013b'],\n",
       " ['lower_than_a_level', 'bbb-2013b', 'pass', '35-55', 'london_region', 'f'],\n",
       " ['35-55',\n",
       "  'withdrawn',\n",
       "  'lower_than_a_level',\n",
       "  'east_anglian_region',\n",
       "  'bbb-2013b',\n",
       "  'f'],\n",
       " ['bbb-2013b',\n",
       "  'a_level_or_equivalent',\n",
       "  'f',\n",
       "  '0-35',\n",
       "  'withdrawn',\n",
       "  'south_region'],\n",
       " ['bbb-2013b',\n",
       "  'east_midlands_region',\n",
       "  'withdrawn',\n",
       "  'lower_than_a_level',\n",
       "  '0-35',\n",
       "  'm'],\n",
       " ['lower_than_a_level',\n",
       "  '0-35',\n",
       "  'north_western_region',\n",
       "  'withdrawn',\n",
       "  'f',\n",
       "  'bbb-2013b'],\n",
       " ['south_region', 'fail', 'a_level_or_equivalent', 'bbb-2013b', 'f', '0-35'],\n",
       " ['0-35', 'a_level_or_equivalent', 'pass', 'f', 'north_region', 'bbb-2013b'],\n",
       " ['35-55', 'ireland', 'lower_than_a_level', 'pass', 'f', 'bbb-2013b'],\n",
       " ['f',\n",
       "  'lower_than_a_level',\n",
       "  'bbb-2013b',\n",
       "  '0-35',\n",
       "  'south_west_region',\n",
       "  'withdrawn'],\n",
       " ['f',\n",
       "  '35-55',\n",
       "  'withdrawn',\n",
       "  'north_western_region',\n",
       "  'bbb-2013b',\n",
       "  'lower_than_a_level'],\n",
       " ['north_western_region',\n",
       "  '0-35',\n",
       "  'f',\n",
       "  'bbb-2013b',\n",
       "  'lower_than_a_level',\n",
       "  'withdrawn'],\n",
       " ['0-35',\n",
       "  'pass',\n",
       "  'a_level_or_equivalent',\n",
       "  'f',\n",
       "  'bbb-2013b',\n",
       "  'west_midlands_region'],\n",
       " ['ireland', 'f', '35-55', 'lower_than_a_level', 'bbb-2013b', 'fail'],\n",
       " ['0-35',\n",
       "  'withdrawn',\n",
       "  'yorkshire_region',\n",
       "  'lower_than_a_level',\n",
       "  'bbb-2013b',\n",
       "  'f'],\n",
       " ['withdrawn',\n",
       "  'bbb-2013b',\n",
       "  'f',\n",
       "  'a_level_or_equivalent',\n",
       "  '0-35',\n",
       "  'south_region'],\n",
       " ['south_west_region', 'fail', '0-35', 'f', 'bbb-2013b', 'lower_than_a_level'],\n",
       " ['0-35', 'a_level_or_equivalent', 'north_region', 'bbb-2013b', 'f', 'pass'],\n",
       " ['f', 'ireland', 'lower_than_a_level', 'bbb-2013b', 'pass', '35-55'],\n",
       " ['lower_than_a_level',\n",
       "  'pass',\n",
       "  '35-55',\n",
       "  'bbb-2013b',\n",
       "  'south_west_region',\n",
       "  'f'],\n",
       " ['south_east_region',\n",
       "  'bbb-2013b',\n",
       "  '0-35',\n",
       "  'a_level_or_equivalent',\n",
       "  'pass',\n",
       "  'f'],\n",
       " ['m', 'lower_than_a_level', '35-55', 'bbb-2013b', 'fail', 'london_region'],\n",
       " ['west_midlands_region',\n",
       "  '0-35',\n",
       "  'bbb-2013b',\n",
       "  'distinction',\n",
       "  'a_level_or_equivalent',\n",
       "  'f'],\n",
       " ['scotland', 'f', '0-35', 'he_qualification', 'pass', 'bbb-2013b'],\n",
       " ['a_level_or_equivalent',\n",
       "  'pass',\n",
       "  'south_east_region',\n",
       "  'bbb-2013b',\n",
       "  'f',\n",
       "  '0-35'],\n",
       " ['0-35',\n",
       "  'fail',\n",
       "  'f',\n",
       "  'east_midlands_region',\n",
       "  'a_level_or_equivalent',\n",
       "  'bbb-2013b'],\n",
       " ['0-35', 'bbb-2013b', 'pass', 'f', 'wales', 'lower_than_a_level'],\n",
       " ['f', 'a_level_or_equivalent', 'bbb-2013b', 'pass', 'south_region', '0-35'],\n",
       " ['fail',\n",
       "  'west_midlands_region',\n",
       "  'f',\n",
       "  'he_qualification',\n",
       "  '0-35',\n",
       "  'bbb-2013b'],\n",
       " ['f', 'wales', '35-55', 'he_qualification', 'bbb-2013b', 'pass'],\n",
       " ['bbb-2013b', 'lower_than_a_level', 'fail', 'f', '0-35', 'south_west_region'],\n",
       " ['m',\n",
       "  'west_midlands_region',\n",
       "  'bbb-2013b',\n",
       "  'he_qualification',\n",
       "  'withdrawn',\n",
       "  '35-55'],\n",
       " ['0-35', 'pass', 'bbb-2013b', 'a_level_or_equivalent', 'ireland', 'f'],\n",
       " ['f',\n",
       "  'pass',\n",
       "  'west_midlands_region',\n",
       "  '35-55',\n",
       "  'bbb-2013b',\n",
       "  'lower_than_a_level'],\n",
       " ['0-35',\n",
       "  'bbb-2013b',\n",
       "  'pass',\n",
       "  'f',\n",
       "  'lower_than_a_level',\n",
       "  'east_anglian_region'],\n",
       " ['lower_than_a_level',\n",
       "  'south_west_region',\n",
       "  'bbb-2013b',\n",
       "  'withdrawn',\n",
       "  'f',\n",
       "  '0-35'],\n",
       " ['m',\n",
       "  'withdrawn',\n",
       "  'lower_than_a_level',\n",
       "  '0-35',\n",
       "  'east_midlands_region',\n",
       "  'bbb-2013b'],\n",
       " ['f', 'south_region', 'lower_than_a_level', 'fail', 'bbb-2013b', '0-35'],\n",
       " ['pass', '0-35', 'f', 'london_region', 'bbb-2013b', 'a_level_or_equivalent'],\n",
       " ['wales', 'a_level_or_equivalent', '0-35', 'withdrawn', 'm', 'bbb-2013b'],\n",
       " ['bbb-2013b', 'pass', 'scotland', 'a_level_or_equivalent', 'f', '0-35'],\n",
       " ['east_midlands_region',\n",
       "  '35-55',\n",
       "  'bbb-2013b',\n",
       "  'a_level_or_equivalent',\n",
       "  'withdrawn',\n",
       "  'f'],\n",
       " ['a_level_or_equivalent', '0-35', 'north_region', 'f', 'pass', 'bbb-2013b'],\n",
       " ['he_qualification',\n",
       "  '35-55',\n",
       "  'pass',\n",
       "  'east_anglian_region',\n",
       "  'f',\n",
       "  'bbb-2013b'],\n",
       " ['pass', 'bbb-2013b', 'f', 'north_region', 'a_level_or_equivalent', '0-35'],\n",
       " ['south_region',\n",
       "  'f',\n",
       "  '35-55',\n",
       "  'withdrawn',\n",
       "  'bbb-2013b',\n",
       "  'a_level_or_equivalent'],\n",
       " ['m',\n",
       "  'south_region',\n",
       "  '35-55',\n",
       "  'bbb-2013b',\n",
       "  'withdrawn',\n",
       "  'lower_than_a_level'],\n",
       " ['f',\n",
       "  'withdrawn',\n",
       "  'east_anglian_region',\n",
       "  'bbb-2013b',\n",
       "  '0-35',\n",
       "  'a_level_or_equivalent'],\n",
       " ['pass', 'south_region', 'lower_than_a_level', 'f', '0-35', 'bbb-2013b'],\n",
       " ['withdrawn',\n",
       "  'bbb-2013b',\n",
       "  '35-55',\n",
       "  'lower_than_a_level',\n",
       "  'm',\n",
       "  'north_region'],\n",
       " ['lower_than_a_level', '0-35', 'london_region', 'pass', 'bbb-2013b', 'f'],\n",
       " ['pass',\n",
       "  'lower_than_a_level',\n",
       "  'bbb-2013b',\n",
       "  'm',\n",
       "  '35-55',\n",
       "  'south_east_region'],\n",
       " ['pass',\n",
       "  'bbb-2013b',\n",
       "  'lower_than_a_level',\n",
       "  '0-35',\n",
       "  'east_midlands_region',\n",
       "  'f'],\n",
       " ['bbb-2013b',\n",
       "  'f',\n",
       "  'east_anglian_region',\n",
       "  'lower_than_a_level',\n",
       "  '0-35',\n",
       "  'withdrawn'],\n",
       " ['bbb-2013b', 'lower_than_a_level', 'fail', '35-55', 'yorkshire_region', 'f'],\n",
       " ['0-35',\n",
       "  'distinction',\n",
       "  'f',\n",
       "  'south_region',\n",
       "  'a_level_or_equivalent',\n",
       "  'bbb-2013b'],\n",
       " ['f',\n",
       "  'pass',\n",
       "  'a_level_or_equivalent',\n",
       "  'bbb-2013b',\n",
       "  '35-55',\n",
       "  'south_west_region'],\n",
       " ['south_east_region',\n",
       "  'f',\n",
       "  'a_level_or_equivalent',\n",
       "  'bbb-2013b',\n",
       "  'pass',\n",
       "  '35-55'],\n",
       " ['pass', 'bbb-2013b', 'wales', '0-35', 'f', 'a_level_or_equivalent'],\n",
       " ['fail', 'london_region', 'bbb-2013b', 'lower_than_a_level', '0-35', 'f'],\n",
       " ['35-55',\n",
       "  'distinction',\n",
       "  'bbb-2013b',\n",
       "  'f',\n",
       "  'south_region',\n",
       "  'post_graduate_qualification'],\n",
       " ['f', 'scotland', '0-35', 'a_level_or_equivalent', 'bbb-2013b', 'fail'],\n",
       " ['f', 'lower_than_a_level', 'withdrawn', '0-35', 'bbb-2013b', 'wales'],\n",
       " ['west_midlands_region',\n",
       "  'a_level_or_equivalent',\n",
       "  'bbb-2013b',\n",
       "  '0-35',\n",
       "  'f',\n",
       "  'fail'],\n",
       " ['bbb-2013b', 'f', 'wales', 'lower_than_a_level', 'withdrawn', '35-55'],\n",
       " ['bbb-2013b',\n",
       "  '0-35',\n",
       "  'pass',\n",
       "  'a_level_or_equivalent',\n",
       "  'f',\n",
       "  'east_anglian_region'],\n",
       " ['yorkshire_region', 'bbb-2013b', 'f', '0-35', 'lower_than_a_level', 'pass'],\n",
       " ['fail', 'a_level_or_equivalent', 'f', '0-35', 'bbb-2013b', 'london_region'],\n",
       " ['he_qualification', 'bbb-2013b', 'scotland', 'pass', '0-35', 'm'],\n",
       " ['bbb-2013b',\n",
       "  'west_midlands_region',\n",
       "  '0-35',\n",
       "  'lower_than_a_level',\n",
       "  'f',\n",
       "  'fail'],\n",
       " ['0-35', 'bbb-2013b', 'pass', 'south_region', 'm', 'a_level_or_equivalent'],\n",
       " ['bbb-2013b',\n",
       "  'withdrawn',\n",
       "  '0-35',\n",
       "  'lower_than_a_level',\n",
       "  'east_midlands_region',\n",
       "  'f'],\n",
       " ['north_western_region',\n",
       "  'pass',\n",
       "  '0-35',\n",
       "  'f',\n",
       "  'bbb-2013b',\n",
       "  'a_level_or_equivalent'],\n",
       " ['pass',\n",
       "  'a_level_or_equivalent',\n",
       "  '35-55',\n",
       "  'south_west_region',\n",
       "  'bbb-2013b',\n",
       "  'f'],\n",
       " ['lower_than_a_level',\n",
       "  'east_anglian_region',\n",
       "  'f',\n",
       "  'bbb-2013b',\n",
       "  'fail',\n",
       "  '0-35'],\n",
       " ['bbb-2013b',\n",
       "  'withdrawn',\n",
       "  'lower_than_a_level',\n",
       "  'north_western_region',\n",
       "  '0-35',\n",
       "  'f'],\n",
       " ['bbb-2013b', 'lower_than_a_level', '0-35', 'south_west_region', 'f', 'fail'],\n",
       " ['south_west_region',\n",
       "  '0-35',\n",
       "  'withdrawn',\n",
       "  'lower_than_a_level',\n",
       "  'bbb-2013b',\n",
       "  'f'],\n",
       " ['bbb-2013b',\n",
       "  '0-35',\n",
       "  'fail',\n",
       "  'south_west_region',\n",
       "  'a_level_or_equivalent',\n",
       "  'f'],\n",
       " ['fail', 'wales', 'f', 'bbb-2013b', 'lower_than_a_level', '0-35'],\n",
       " ['fail',\n",
       "  '0-35',\n",
       "  'south_east_region',\n",
       "  'bbb-2013b',\n",
       "  'a_level_or_equivalent',\n",
       "  'f'],\n",
       " ['fail',\n",
       "  'bbb-2013b',\n",
       "  'f',\n",
       "  '0-35',\n",
       "  'east_midlands_region',\n",
       "  'lower_than_a_level'],\n",
       " ['bbb-2013b', '0-35', 'f', 'pass', 'lower_than_a_level', 'scotland'],\n",
       " ['0-35',\n",
       "  'south_west_region',\n",
       "  'f',\n",
       "  'fail',\n",
       "  'bbb-2013b',\n",
       "  'a_level_or_equivalent'],\n",
       " ['a_level_or_equivalent',\n",
       "  '0-35',\n",
       "  'f',\n",
       "  'south_west_region',\n",
       "  'bbb-2013b',\n",
       "  'withdrawn'],\n",
       " ['pass',\n",
       "  'east_midlands_region',\n",
       "  'a_level_or_equivalent',\n",
       "  'bbb-2013b',\n",
       "  'f',\n",
       "  '0-35'],\n",
       " ['0-35',\n",
       "  'f',\n",
       "  'north_western_region',\n",
       "  'bbb-2013b',\n",
       "  'withdrawn',\n",
       "  'lower_than_a_level'],\n",
       " ['f', '0-35', 'withdrawn', 'bbb-2013b', 'ireland', 'he_qualification'],\n",
       " ['f',\n",
       "  'bbb-2013b',\n",
       "  'yorkshire_region',\n",
       "  'withdrawn',\n",
       "  'lower_than_a_level',\n",
       "  '0-35'],\n",
       " ['35-55',\n",
       "  'm',\n",
       "  'west_midlands_region',\n",
       "  'bbb-2013b',\n",
       "  'a_level_or_equivalent',\n",
       "  'withdrawn'],\n",
       " ['m', 'south_region', 'withdrawn', 'he_qualification', 'bbb-2013b', '0-35'],\n",
       " ['f', 'fail', 'wales', 'bbb-2013b', '0-35', 'lower_than_a_level'],\n",
       " ['bbb-2013b', 'withdrawn', 'm', 'lower_than_a_level', '0-35', 'south_region'],\n",
       " ['f', 'pass', 'bbb-2013b', 'a_level_or_equivalent', 'south_region', '0-35'],\n",
       " ['35-55', 'north_region', 'bbb-2013b', 'withdrawn', 'he_qualification', 'f'],\n",
       " ['f', 'fail', 'a_level_or_equivalent', 'bbb-2013b', '35-55', 'london_region'],\n",
       " ['lower_than_a_level', 'f', 'london_region', '0-35', 'fail', 'bbb-2013b'],\n",
       " ['bbb-2013b',\n",
       "  'east_midlands_region',\n",
       "  'lower_than_a_level',\n",
       "  'fail',\n",
       "  'm',\n",
       "  '35-55'],\n",
       " ['scotland', '0-35', 'f', 'bbb-2013b', 'pass', 'he_qualification'],\n",
       " ['lower_than_a_level',\n",
       "  'f',\n",
       "  '0-35',\n",
       "  'bbb-2013b',\n",
       "  'east_midlands_region',\n",
       "  'pass'],\n",
       " ['wales', '0-35', 'f', 'lower_than_a_level', 'fail', 'bbb-2013b'],\n",
       " ['0-35', 'f', 'ireland', 'bbb-2013b', 'withdrawn', 'lower_than_a_level'],\n",
       " ['a_level_or_equivalent',\n",
       "  'distinction',\n",
       "  'bbb-2013b',\n",
       "  'f',\n",
       "  '35-55',\n",
       "  'south_region'],\n",
       " ['35-55', 'f', 'pass', 'bbb-2013b', 'lower_than_a_level', 'wales'],\n",
       " ['35-55', 'scotland', 'fail', 'bbb-2013b', 'f', 'lower_than_a_level'],\n",
       " ['0-35',\n",
       "  'lower_than_a_level',\n",
       "  'withdrawn',\n",
       "  'north_western_region',\n",
       "  'bbb-2013b',\n",
       "  'f'],\n",
       " ['f',\n",
       "  'bbb-2013b',\n",
       "  'lower_than_a_level',\n",
       "  'north_western_region',\n",
       "  'fail',\n",
       "  '0-35'],\n",
       " ['lower_than_a_level',\n",
       "  '35-55',\n",
       "  'east_midlands_region',\n",
       "  'bbb-2013b',\n",
       "  'withdrawn',\n",
       "  'f'],\n",
       " ['east_midlands_region',\n",
       "  'f',\n",
       "  '0-35',\n",
       "  'bbb-2013b',\n",
       "  'lower_than_a_level',\n",
       "  'withdrawn'],\n",
       " ['bbb-2013b',\n",
       "  '35-55',\n",
       "  'f',\n",
       "  'yorkshire_region',\n",
       "  'withdrawn',\n",
       "  'a_level_or_equivalent'],\n",
       " ['bbb-2013b', 'f', '0-35', 'a_level_or_equivalent', 'fail', 'wales'],\n",
       " ['south_west_region',\n",
       "  'lower_than_a_level',\n",
       "  'bbb-2013b',\n",
       "  '35-55',\n",
       "  'withdrawn',\n",
       "  'f'],\n",
       " ['bbb-2013b', 'he_qualification', 'fail', 'f', '0-35', 'south_west_region'],\n",
       " ['a_level_or_equivalent', '0-35', 'f', 'wales', 'fail', 'bbb-2013b'],\n",
       " ['a_level_or_equivalent',\n",
       "  'withdrawn',\n",
       "  'bbb-2013b',\n",
       "  'yorkshire_region',\n",
       "  'f',\n",
       "  '0-35'],\n",
       " ['pass', '0-35', 'bbb-2013b', 'f', 'south_west_region', 'lower_than_a_level'],\n",
       " ['bbb-2013b',\n",
       "  'withdrawn',\n",
       "  'west_midlands_region',\n",
       "  'f',\n",
       "  '0-35',\n",
       "  'a_level_or_equivalent'],\n",
       " ['m', 'bbb-2013b', '0-35', 'pass', 'he_qualification', 'south_region'],\n",
       " ['bbb-2013b',\n",
       "  'north_western_region',\n",
       "  'a_level_or_equivalent',\n",
       "  'pass',\n",
       "  'm',\n",
       "  '0-35'],\n",
       " ...]"
      ]
     },
     "execution_count": 34,
     "metadata": {},
     "output_type": "execute_result"
    }
   ],
   "source": [
    "tokenized_data"
   ]
  },
  {
   "cell_type": "code",
   "execution_count": 35,
   "metadata": {},
   "outputs": [],
   "source": [
    "from gensim.models import Word2Vec\n",
    "\n",
    "# training the W2V model\n",
    "model = Word2Vec(sentences=tokenized_data, \n",
    "                 window=6,  \n",
    "                 workers=4)"
   ]
  },
  {
   "cell_type": "code",
   "execution_count": 6,
   "metadata": {},
   "outputs": [
    {
     "ename": "AttributeError",
     "evalue": "The vocab attribute was removed from KeyedVector in Gensim 4.0.0.\nUse KeyedVector's .key_to_index dict, .index_to_key list, and methods .get_vecattr(key, attr) and .set_vecattr(key, attr, new_val) instead.\nSee https://github.com/RaRe-Technologies/gensim/wiki/Migrating-from-Gensim-3.x-to-4",
     "output_type": "error",
     "traceback": [
      "\u001b[1;31m---------------------------------------------------------------------------\u001b[0m",
      "\u001b[1;31mAttributeError\u001b[0m                            Traceback (most recent call last)",
      "Cell \u001b[1;32mIn[6], line 1\u001b[0m\n\u001b[1;32m----> 1\u001b[0m model\u001b[39m.\u001b[39;49mwv\u001b[39m.\u001b[39;49mvocab\n",
      "File \u001b[1;32m~\\AppData\\Roaming\\Python\\Python310\\site-packages\\gensim\\models\\keyedvectors.py:734\u001b[0m, in \u001b[0;36mKeyedVectors.vocab\u001b[1;34m(self)\u001b[0m\n\u001b[0;32m    732\u001b[0m \u001b[39m@property\u001b[39m\n\u001b[0;32m    733\u001b[0m \u001b[39mdef\u001b[39;00m \u001b[39mvocab\u001b[39m(\u001b[39mself\u001b[39m):\n\u001b[1;32m--> 734\u001b[0m     \u001b[39mraise\u001b[39;00m \u001b[39mAttributeError\u001b[39;00m(\n\u001b[0;32m    735\u001b[0m         \u001b[39m\"\u001b[39m\u001b[39mThe vocab attribute was removed from KeyedVector in Gensim 4.0.0.\u001b[39m\u001b[39m\\n\u001b[39;00m\u001b[39m\"\u001b[39m\n\u001b[0;32m    736\u001b[0m         \u001b[39m\"\u001b[39m\u001b[39mUse KeyedVector\u001b[39m\u001b[39m'\u001b[39m\u001b[39ms .key_to_index dict, .index_to_key list, and methods \u001b[39m\u001b[39m\"\u001b[39m\n\u001b[0;32m    737\u001b[0m         \u001b[39m\"\u001b[39m\u001b[39m.get_vecattr(key, attr) and .set_vecattr(key, attr, new_val) instead.\u001b[39m\u001b[39m\\n\u001b[39;00m\u001b[39m\"\u001b[39m\n\u001b[0;32m    738\u001b[0m         \u001b[39m\"\u001b[39m\u001b[39mSee https://github.com/RaRe-Technologies/gensim/wiki/Migrating-from-Gensim-3.x-to-4\u001b[39m\u001b[39m\"\u001b[39m\n\u001b[0;32m    739\u001b[0m     )\n",
      "\u001b[1;31mAttributeError\u001b[0m: The vocab attribute was removed from KeyedVector in Gensim 4.0.0.\nUse KeyedVector's .key_to_index dict, .index_to_key list, and methods .get_vecattr(key, attr) and .set_vecattr(key, attr, new_val) instead.\nSee https://github.com/RaRe-Technologies/gensim/wiki/Migrating-from-Gensim-3.x-to-4"
     ]
    }
   ],
   "source": [
    "model.wv.vocab"
   ]
  },
  {
   "cell_type": "code",
   "execution_count": 16,
   "metadata": {},
   "outputs": [
    {
     "data": {
      "text/plain": [
       "array([-0.20265761, -0.10908913, -0.08092827,  0.1586296 , -0.11092087,\n",
       "        0.33824715,  0.24357334,  0.11952208, -0.04624688,  0.12267666,\n",
       "        0.05842875, -0.45914936,  0.1891472 , -0.08912212, -0.22631478,\n",
       "        0.3842131 ,  0.11815989,  0.11069455,  0.346603  ,  0.16007681,\n",
       "       -0.2465716 , -0.02859403, -0.1980105 , -0.09120297, -0.04466142,\n",
       "        0.24317683, -0.1539341 ,  0.16826394,  0.02397943,  0.4467001 ,\n",
       "       -0.01876432,  0.186951  ,  0.10746881, -0.27026746,  0.08960176,\n",
       "       -0.17487147,  0.03886316,  0.35629845, -0.11975746,  0.25188065,\n",
       "       -0.09824742, -0.12869164,  0.15852453,  0.19812694,  0.03289331,\n",
       "       -0.22570615, -0.00836561,  0.01651772,  0.23244518,  0.15981996,\n",
       "        0.27431366, -0.25502795, -0.08091743,  0.3301433 ,  0.04814356,\n",
       "       -0.01385736, -0.24035405, -0.05173782, -0.18649721,  0.12526031,\n",
       "        0.0788667 ,  0.01318084, -0.10916826,  0.11751871,  0.10020954,\n",
       "        0.14987335,  0.0735248 ,  0.06806912, -0.1701607 , -0.05153661,\n",
       "       -0.25256172,  0.10706152, -0.10466395,  0.2596925 ,  0.11653803,\n",
       "        0.08601185,  0.2535664 , -0.09766587,  0.18814282, -0.03021813,\n",
       "       -0.15389653,  0.18517584, -0.12222409, -0.10402416, -0.11682448,\n",
       "        0.26767963,  0.1735309 , -0.16320184,  0.14768331, -0.1248731 ,\n",
       "       -0.11282674, -0.00861871,  0.29192296,  0.3570404 ,  0.22229122,\n",
       "       -0.20003487, -0.11509517, -0.03729256, -0.04917394, -0.2963966 ],\n",
       "      dtype=float32)"
      ]
     },
     "execution_count": 16,
     "metadata": {},
     "output_type": "execute_result"
    }
   ],
   "source": [
    "model.wv['aaa-2013j']"
   ]
  },
  {
   "cell_type": "code",
   "execution_count": 17,
   "metadata": {},
   "outputs": [
    {
     "data": {
      "text/plain": [
       "[('0-35', 0.96917724609375),\n",
       " ('55-80', 0.7696031332015991),\n",
       " ('ireland', 0.16417425870895386),\n",
       " ('north_western_region', 0.1594262570142746),\n",
       " ('south_region', 0.153822660446167),\n",
       " ('north_region', 0.15025189518928528),\n",
       " ('london_region', 0.13649456202983856),\n",
       " ('scotland', 0.13348929584026337),\n",
       " ('east_anglian_region', 0.13279865682125092),\n",
       " ('west_midlands_region', 0.12036988139152527)]"
      ]
     },
     "execution_count": 17,
     "metadata": {},
     "output_type": "execute_result"
    }
   ],
   "source": [
    "model.wv.most_similar(['35-55'])"
   ]
  },
  {
   "cell_type": "code",
   "execution_count": 38,
   "metadata": {},
   "outputs": [
    {
     "data": {
      "application/vnd.plotly.v1+json": {
       "config": {
        "plotlyServerURL": "https://plot.ly"
       },
       "data": [
        {
         "mode": "markers",
         "text": [
          "0-35",
          "m",
          "f",
          "a_level_or_equivalent",
          "lower_than_a_level",
          "pass",
          "withdrawn",
          "35-55",
          "fail",
          "he_qualification",
          "scotland",
          "east_anglian_region",
          "london_region",
          "south_region",
          "distinction",
          "north_western_region",
          "west_midlands_region",
          "ccc-2014j",
          "south_west_region",
          "east_midlands_region",
          "fff-2014j",
          "bbb-2014j",
          "fff-2013j",
          "bbb-2013j",
          "south_east_region",
          "wales",
          "yorkshire_region",
          "ddd-2013j",
          "ccc-2014b",
          "north_region",
          "ddd-2014j",
          "bbb-2013b",
          "fff-2013b",
          "bbb-2014b",
          "fff-2014b",
          "ddd-2013b",
          "ddd-2014b",
          "eee-2014j",
          "ireland",
          "eee-2013j",
          "ggg-2013j",
          "ggg-2014b",
          "ggg-2014j",
          "eee-2014b",
          "aaa-2013j",
          "aaa-2014j",
          "no_formal_quals",
          "post_graduate_qualification",
          "55-80"
         ],
         "type": "scatter",
         "x": [
          -8.155478477478027,
          -10.593230247497559,
          -10.620390892028809,
          -7.65160608291626,
          -7.662987232208252,
          -9.244109153747559,
          -9.227592468261719,
          -8.198606491088867,
          -9.230107307434082,
          -7.700621128082275,
          -10.300139427185059,
          -9.979941368103027,
          -10.049042701721191,
          -10.099973678588867,
          -9.212529182434082,
          -9.838404655456543,
          -9.768508911132812,
          -9.484529495239258,
          -9.851372718811035,
          -9.80912971496582,
          -8.98841381072998,
          -8.64876937866211,
          -9.19133186340332,
          -8.566632270812988,
          -9.812429428100586,
          -10.006853103637695,
          -9.869085311889648,
          -8.810565948486328,
          -9.532363891601562,
          -10.116509437561035,
          -8.976353645324707,
          -8.434328079223633,
          -9.153109550476074,
          -8.430264472961426,
          -9.068190574645996,
          -8.971732139587402,
          -9.000625610351562,
          -9.425068855285645,
          -10.088726997375488,
          -9.330480575561523,
          -8.220479965209961,
          -8.271819114685059,
          -8.366680145263672,
          -9.266554832458496,
          -8.932588577270508,
          -8.77483081817627,
          -8.033089637756348,
          -8.01342487335205,
          -8.488171577453613
         ],
         "y": [
          19.232990264892578,
          20.6920108795166,
          20.700428009033203,
          20.347808837890625,
          20.35511016845703,
          20.183053970336914,
          20.184101104736328,
          19.257022857666016,
          20.17464828491211,
          20.34673500061035,
          18.62837028503418,
          18.485240936279297,
          18.489154815673828,
          18.740602493286133,
          20.184253692626953,
          18.54966926574707,
          18.61644172668457,
          22.476810455322266,
          18.55628776550293,
          18.575592041015625,
          22.737720489501953,
          22.698902130126953,
          22.62717056274414,
          22.680633544921875,
          18.772727966308594,
          18.780052185058594,
          18.738983154296875,
          22.101280212402344,
          22.2299861907959,
          18.774126052856445,
          22.289316177368164,
          22.5725154876709,
          22.604415893554688,
          22.272241592407227,
          22.62101936340332,
          22.05055809020996,
          22.037662506103516,
          22.26687240600586,
          18.677143096923828,
          22.038515090942383,
          22.526145935058594,
          22.43625831604004,
          22.23470115661621,
          21.984228134155273,
          21.76599884033203,
          21.913843154907227,
          20.274803161621094,
          20.289142608642578,
          19.805871963500977
         ]
        }
       ],
       "layout": {
        "template": {
         "data": {
          "bar": [
           {
            "error_x": {
             "color": "#2a3f5f"
            },
            "error_y": {
             "color": "#2a3f5f"
            },
            "marker": {
             "line": {
              "color": "#E5ECF6",
              "width": 0.5
             },
             "pattern": {
              "fillmode": "overlay",
              "size": 10,
              "solidity": 0.2
             }
            },
            "type": "bar"
           }
          ],
          "barpolar": [
           {
            "marker": {
             "line": {
              "color": "#E5ECF6",
              "width": 0.5
             },
             "pattern": {
              "fillmode": "overlay",
              "size": 10,
              "solidity": 0.2
             }
            },
            "type": "barpolar"
           }
          ],
          "carpet": [
           {
            "aaxis": {
             "endlinecolor": "#2a3f5f",
             "gridcolor": "white",
             "linecolor": "white",
             "minorgridcolor": "white",
             "startlinecolor": "#2a3f5f"
            },
            "baxis": {
             "endlinecolor": "#2a3f5f",
             "gridcolor": "white",
             "linecolor": "white",
             "minorgridcolor": "white",
             "startlinecolor": "#2a3f5f"
            },
            "type": "carpet"
           }
          ],
          "choropleth": [
           {
            "colorbar": {
             "outlinewidth": 0,
             "ticks": ""
            },
            "type": "choropleth"
           }
          ],
          "contour": [
           {
            "colorbar": {
             "outlinewidth": 0,
             "ticks": ""
            },
            "colorscale": [
             [
              0,
              "#0d0887"
             ],
             [
              0.1111111111111111,
              "#46039f"
             ],
             [
              0.2222222222222222,
              "#7201a8"
             ],
             [
              0.3333333333333333,
              "#9c179e"
             ],
             [
              0.4444444444444444,
              "#bd3786"
             ],
             [
              0.5555555555555556,
              "#d8576b"
             ],
             [
              0.6666666666666666,
              "#ed7953"
             ],
             [
              0.7777777777777778,
              "#fb9f3a"
             ],
             [
              0.8888888888888888,
              "#fdca26"
             ],
             [
              1,
              "#f0f921"
             ]
            ],
            "type": "contour"
           }
          ],
          "contourcarpet": [
           {
            "colorbar": {
             "outlinewidth": 0,
             "ticks": ""
            },
            "type": "contourcarpet"
           }
          ],
          "heatmap": [
           {
            "colorbar": {
             "outlinewidth": 0,
             "ticks": ""
            },
            "colorscale": [
             [
              0,
              "#0d0887"
             ],
             [
              0.1111111111111111,
              "#46039f"
             ],
             [
              0.2222222222222222,
              "#7201a8"
             ],
             [
              0.3333333333333333,
              "#9c179e"
             ],
             [
              0.4444444444444444,
              "#bd3786"
             ],
             [
              0.5555555555555556,
              "#d8576b"
             ],
             [
              0.6666666666666666,
              "#ed7953"
             ],
             [
              0.7777777777777778,
              "#fb9f3a"
             ],
             [
              0.8888888888888888,
              "#fdca26"
             ],
             [
              1,
              "#f0f921"
             ]
            ],
            "type": "heatmap"
           }
          ],
          "heatmapgl": [
           {
            "colorbar": {
             "outlinewidth": 0,
             "ticks": ""
            },
            "colorscale": [
             [
              0,
              "#0d0887"
             ],
             [
              0.1111111111111111,
              "#46039f"
             ],
             [
              0.2222222222222222,
              "#7201a8"
             ],
             [
              0.3333333333333333,
              "#9c179e"
             ],
             [
              0.4444444444444444,
              "#bd3786"
             ],
             [
              0.5555555555555556,
              "#d8576b"
             ],
             [
              0.6666666666666666,
              "#ed7953"
             ],
             [
              0.7777777777777778,
              "#fb9f3a"
             ],
             [
              0.8888888888888888,
              "#fdca26"
             ],
             [
              1,
              "#f0f921"
             ]
            ],
            "type": "heatmapgl"
           }
          ],
          "histogram": [
           {
            "marker": {
             "pattern": {
              "fillmode": "overlay",
              "size": 10,
              "solidity": 0.2
             }
            },
            "type": "histogram"
           }
          ],
          "histogram2d": [
           {
            "colorbar": {
             "outlinewidth": 0,
             "ticks": ""
            },
            "colorscale": [
             [
              0,
              "#0d0887"
             ],
             [
              0.1111111111111111,
              "#46039f"
             ],
             [
              0.2222222222222222,
              "#7201a8"
             ],
             [
              0.3333333333333333,
              "#9c179e"
             ],
             [
              0.4444444444444444,
              "#bd3786"
             ],
             [
              0.5555555555555556,
              "#d8576b"
             ],
             [
              0.6666666666666666,
              "#ed7953"
             ],
             [
              0.7777777777777778,
              "#fb9f3a"
             ],
             [
              0.8888888888888888,
              "#fdca26"
             ],
             [
              1,
              "#f0f921"
             ]
            ],
            "type": "histogram2d"
           }
          ],
          "histogram2dcontour": [
           {
            "colorbar": {
             "outlinewidth": 0,
             "ticks": ""
            },
            "colorscale": [
             [
              0,
              "#0d0887"
             ],
             [
              0.1111111111111111,
              "#46039f"
             ],
             [
              0.2222222222222222,
              "#7201a8"
             ],
             [
              0.3333333333333333,
              "#9c179e"
             ],
             [
              0.4444444444444444,
              "#bd3786"
             ],
             [
              0.5555555555555556,
              "#d8576b"
             ],
             [
              0.6666666666666666,
              "#ed7953"
             ],
             [
              0.7777777777777778,
              "#fb9f3a"
             ],
             [
              0.8888888888888888,
              "#fdca26"
             ],
             [
              1,
              "#f0f921"
             ]
            ],
            "type": "histogram2dcontour"
           }
          ],
          "mesh3d": [
           {
            "colorbar": {
             "outlinewidth": 0,
             "ticks": ""
            },
            "type": "mesh3d"
           }
          ],
          "parcoords": [
           {
            "line": {
             "colorbar": {
              "outlinewidth": 0,
              "ticks": ""
             }
            },
            "type": "parcoords"
           }
          ],
          "pie": [
           {
            "automargin": true,
            "type": "pie"
           }
          ],
          "scatter": [
           {
            "fillpattern": {
             "fillmode": "overlay",
             "size": 10,
             "solidity": 0.2
            },
            "type": "scatter"
           }
          ],
          "scatter3d": [
           {
            "line": {
             "colorbar": {
              "outlinewidth": 0,
              "ticks": ""
             }
            },
            "marker": {
             "colorbar": {
              "outlinewidth": 0,
              "ticks": ""
             }
            },
            "type": "scatter3d"
           }
          ],
          "scattercarpet": [
           {
            "marker": {
             "colorbar": {
              "outlinewidth": 0,
              "ticks": ""
             }
            },
            "type": "scattercarpet"
           }
          ],
          "scattergeo": [
           {
            "marker": {
             "colorbar": {
              "outlinewidth": 0,
              "ticks": ""
             }
            },
            "type": "scattergeo"
           }
          ],
          "scattergl": [
           {
            "marker": {
             "colorbar": {
              "outlinewidth": 0,
              "ticks": ""
             }
            },
            "type": "scattergl"
           }
          ],
          "scattermapbox": [
           {
            "marker": {
             "colorbar": {
              "outlinewidth": 0,
              "ticks": ""
             }
            },
            "type": "scattermapbox"
           }
          ],
          "scatterpolar": [
           {
            "marker": {
             "colorbar": {
              "outlinewidth": 0,
              "ticks": ""
             }
            },
            "type": "scatterpolar"
           }
          ],
          "scatterpolargl": [
           {
            "marker": {
             "colorbar": {
              "outlinewidth": 0,
              "ticks": ""
             }
            },
            "type": "scatterpolargl"
           }
          ],
          "scatterternary": [
           {
            "marker": {
             "colorbar": {
              "outlinewidth": 0,
              "ticks": ""
             }
            },
            "type": "scatterternary"
           }
          ],
          "surface": [
           {
            "colorbar": {
             "outlinewidth": 0,
             "ticks": ""
            },
            "colorscale": [
             [
              0,
              "#0d0887"
             ],
             [
              0.1111111111111111,
              "#46039f"
             ],
             [
              0.2222222222222222,
              "#7201a8"
             ],
             [
              0.3333333333333333,
              "#9c179e"
             ],
             [
              0.4444444444444444,
              "#bd3786"
             ],
             [
              0.5555555555555556,
              "#d8576b"
             ],
             [
              0.6666666666666666,
              "#ed7953"
             ],
             [
              0.7777777777777778,
              "#fb9f3a"
             ],
             [
              0.8888888888888888,
              "#fdca26"
             ],
             [
              1,
              "#f0f921"
             ]
            ],
            "type": "surface"
           }
          ],
          "table": [
           {
            "cells": {
             "fill": {
              "color": "#EBF0F8"
             },
             "line": {
              "color": "white"
             }
            },
            "header": {
             "fill": {
              "color": "#C8D4E3"
             },
             "line": {
              "color": "white"
             }
            },
            "type": "table"
           }
          ]
         },
         "layout": {
          "annotationdefaults": {
           "arrowcolor": "#2a3f5f",
           "arrowhead": 0,
           "arrowwidth": 1
          },
          "autotypenumbers": "strict",
          "coloraxis": {
           "colorbar": {
            "outlinewidth": 0,
            "ticks": ""
           }
          },
          "colorscale": {
           "diverging": [
            [
             0,
             "#8e0152"
            ],
            [
             0.1,
             "#c51b7d"
            ],
            [
             0.2,
             "#de77ae"
            ],
            [
             0.3,
             "#f1b6da"
            ],
            [
             0.4,
             "#fde0ef"
            ],
            [
             0.5,
             "#f7f7f7"
            ],
            [
             0.6,
             "#e6f5d0"
            ],
            [
             0.7,
             "#b8e186"
            ],
            [
             0.8,
             "#7fbc41"
            ],
            [
             0.9,
             "#4d9221"
            ],
            [
             1,
             "#276419"
            ]
           ],
           "sequential": [
            [
             0,
             "#0d0887"
            ],
            [
             0.1111111111111111,
             "#46039f"
            ],
            [
             0.2222222222222222,
             "#7201a8"
            ],
            [
             0.3333333333333333,
             "#9c179e"
            ],
            [
             0.4444444444444444,
             "#bd3786"
            ],
            [
             0.5555555555555556,
             "#d8576b"
            ],
            [
             0.6666666666666666,
             "#ed7953"
            ],
            [
             0.7777777777777778,
             "#fb9f3a"
            ],
            [
             0.8888888888888888,
             "#fdca26"
            ],
            [
             1,
             "#f0f921"
            ]
           ],
           "sequentialminus": [
            [
             0,
             "#0d0887"
            ],
            [
             0.1111111111111111,
             "#46039f"
            ],
            [
             0.2222222222222222,
             "#7201a8"
            ],
            [
             0.3333333333333333,
             "#9c179e"
            ],
            [
             0.4444444444444444,
             "#bd3786"
            ],
            [
             0.5555555555555556,
             "#d8576b"
            ],
            [
             0.6666666666666666,
             "#ed7953"
            ],
            [
             0.7777777777777778,
             "#fb9f3a"
            ],
            [
             0.8888888888888888,
             "#fdca26"
            ],
            [
             1,
             "#f0f921"
            ]
           ]
          },
          "colorway": [
           "#636efa",
           "#EF553B",
           "#00cc96",
           "#ab63fa",
           "#FFA15A",
           "#19d3f3",
           "#FF6692",
           "#B6E880",
           "#FF97FF",
           "#FECB52"
          ],
          "font": {
           "color": "#2a3f5f"
          },
          "geo": {
           "bgcolor": "white",
           "lakecolor": "white",
           "landcolor": "#E5ECF6",
           "showlakes": true,
           "showland": true,
           "subunitcolor": "white"
          },
          "hoverlabel": {
           "align": "left"
          },
          "hovermode": "closest",
          "mapbox": {
           "style": "light"
          },
          "paper_bgcolor": "white",
          "plot_bgcolor": "#E5ECF6",
          "polar": {
           "angularaxis": {
            "gridcolor": "white",
            "linecolor": "white",
            "ticks": ""
           },
           "bgcolor": "#E5ECF6",
           "radialaxis": {
            "gridcolor": "white",
            "linecolor": "white",
            "ticks": ""
           }
          },
          "scene": {
           "xaxis": {
            "backgroundcolor": "#E5ECF6",
            "gridcolor": "white",
            "gridwidth": 2,
            "linecolor": "white",
            "showbackground": true,
            "ticks": "",
            "zerolinecolor": "white"
           },
           "yaxis": {
            "backgroundcolor": "#E5ECF6",
            "gridcolor": "white",
            "gridwidth": 2,
            "linecolor": "white",
            "showbackground": true,
            "ticks": "",
            "zerolinecolor": "white"
           },
           "zaxis": {
            "backgroundcolor": "#E5ECF6",
            "gridcolor": "white",
            "gridwidth": 2,
            "linecolor": "white",
            "showbackground": true,
            "ticks": "",
            "zerolinecolor": "white"
           }
          },
          "shapedefaults": {
           "line": {
            "color": "#2a3f5f"
           }
          },
          "ternary": {
           "aaxis": {
            "gridcolor": "white",
            "linecolor": "white",
            "ticks": ""
           },
           "baxis": {
            "gridcolor": "white",
            "linecolor": "white",
            "ticks": ""
           },
           "bgcolor": "#E5ECF6",
           "caxis": {
            "gridcolor": "white",
            "linecolor": "white",
            "ticks": ""
           }
          },
          "title": {
           "x": 0.05
          },
          "xaxis": {
           "automargin": true,
           "gridcolor": "white",
           "linecolor": "white",
           "ticks": "",
           "title": {
            "standoff": 15
           },
           "zerolinecolor": "white",
           "zerolinewidth": 2
          },
          "yaxis": {
           "automargin": true,
           "gridcolor": "white",
           "linecolor": "white",
           "ticks": "",
           "title": {
            "standoff": 15
           },
           "zerolinecolor": "white",
           "zerolinewidth": 2
          }
         }
        },
        "title": {
         "text": "Word2Vec - Visualizzazione embedding con TSNE"
        }
       }
      }
     },
     "metadata": {},
     "output_type": "display_data"
    },
    {
     "data": {
      "application/vnd.plotly.v1+json": {
       "config": {
        "plotlyServerURL": "https://plot.ly"
       },
       "data": [
        {
         "mode": "markers",
         "text": [
          "0-35",
          "m",
          "f",
          "a_level_or_equivalent",
          "lower_than_a_level",
          "pass",
          "withdrawn",
          "35-55",
          "fail",
          "he_qualification",
          "scotland",
          "east_anglian_region",
          "london_region",
          "south_region",
          "distinction",
          "north_western_region",
          "west_midlands_region",
          "ccc-2014j",
          "south_west_region",
          "east_midlands_region",
          "fff-2014j",
          "bbb-2014j",
          "fff-2013j",
          "bbb-2013j",
          "south_east_region",
          "wales",
          "yorkshire_region",
          "ddd-2013j",
          "ccc-2014b",
          "north_region",
          "ddd-2014j",
          "bbb-2013b",
          "fff-2013b",
          "bbb-2014b",
          "fff-2014b",
          "ddd-2013b",
          "ddd-2014b",
          "eee-2014j",
          "ireland",
          "eee-2013j",
          "ggg-2013j",
          "ggg-2014b",
          "ggg-2014j",
          "eee-2014b",
          "aaa-2013j",
          "aaa-2014j",
          "no_formal_quals",
          "post_graduate_qualification",
          "55-80"
         ],
         "type": "scatter3d",
         "x": [
          -19.038244247436523,
          31.816457748413086,
          -24.59604263305664,
          103.92194366455078,
          -128.8835906982422,
          -4.924379348754883,
          128.7474365234375,
          24.718982696533203,
          43.7269172668457,
          34.943119049072266,
          -95.12507629394531,
          52.78768539428711,
          -9.609369277954102,
          -38.11669158935547,
          -2.398029327392578,
          -44.9810791015625,
          -50.92304611206055,
          4.773397445678711,
          4.945738315582275,
          -79.80845642089844,
          42.99769592285156,
          22.580856323242188,
          45.64482498168945,
          66.11837768554688,
          -27.138080596923828,
          -94.51322937011719,
          -82.63368225097656,
          62.17927169799805,
          30.888038635253906,
          94.64652252197266,
          65.77393341064453,
          -91.0079574584961,
          -3.52899432182312,
          5.544309616088867,
          68.67012023925781,
          92.20243072509766,
          106.82886505126953,
          104.01803588867188,
          -85.99873352050781,
          -9.63713264465332,
          -34.049949645996094,
          -35.931129455566406,
          -59.83103561401367,
          -56.496620178222656,
          -49.603458404541016,
          7.87611722946167,
          -120.06645202636719,
          -23.98592758178711,
          -38.5418701171875
         ],
         "y": [
          -138.8577880859375,
          68.87914276123047,
          -62.346405029296875,
          93.09197235107422,
          -4.149211406707764,
          -110.73406219482422,
          13.638222694396973,
          -119.59330749511719,
          109.64936065673828,
          -53.902767181396484,
          -73.08992004394531,
          74.21949768066406,
          80.49778747558594,
          -71.70075988769531,
          143.61903381347656,
          133.70718383789062,
          42.18891906738281,
          11.375279426574707,
          102.87355041503906,
          116.71263885498047,
          21.87616539001465,
          -54.43532943725586,
          -59.69261169433594,
          -33.247535705566406,
          81.2906265258789,
          81.3021011352539,
          82.2201919555664,
          2.526616334915161,
          0.48595234751701355,
          -79.08855438232422,
          -98.32888793945312,
          -71.16179656982422,
          -4.233865737915039,
          -108.57398986816406,
          45.986122131347656,
          -14.99849796295166,
          -50.699790954589844,
          14.87939453125,
          52.217491149902344,
          28.831911087036133,
          -73.5622787475586,
          -30.56483268737793,
          -29.183088302612305,
          1.0209627151489258,
          -17.091157913208008,
          -28.595705032348633,
          1.0397124290466309,
          15.913029670715332,
          64.67037200927734
         ],
         "z": [
          16.263574600219727,
          120.06275939941406,
          -120.7889633178711,
          1.0240614414215088,
          -38.33148193359375,
          104.8320541381836,
          54.920982360839844,
          32.65636444091797,
          -35.9340705871582,
          96.92753601074219,
          71.94811248779297,
          48.62199020385742,
          -83.82929229736328,
          45.91746139526367,
          -50.6717414855957,
          28.226125717163086,
          -59.80453872680664,
          78.85646057128906,
          30.412818908691406,
          -21.581199645996094,
          -9.93980598449707,
          -22.00244903564453,
          -81.27964782714844,
          12.777099609375,
          -17.392070770263672,
          -72.16120147705078,
          40.73639678955078,
          61.97047424316406,
          -83.86082458496094,
          61.95180130004883,
          -26.884563446044922,
          -10.491960525512695,
          -37.7360954284668,
          -59.833648681640625,
          -64.93031311035156,
          -77.2003402709961,
          -27.910751342773438,
          -16.390727996826172,
          -10.59962272644043,
          19.613861083984375,
          -33.08190155029297,
          111.65235900878906,
          -68.25552368164062,
          56.29358673095703,
          -2.094902515411377,
          28.977468490600586,
          24.661874771118164,
          -125.3840560913086,
          89.83850860595703
         ]
        }
       ],
       "layout": {
        "template": {
         "data": {
          "bar": [
           {
            "error_x": {
             "color": "#2a3f5f"
            },
            "error_y": {
             "color": "#2a3f5f"
            },
            "marker": {
             "line": {
              "color": "#E5ECF6",
              "width": 0.5
             },
             "pattern": {
              "fillmode": "overlay",
              "size": 10,
              "solidity": 0.2
             }
            },
            "type": "bar"
           }
          ],
          "barpolar": [
           {
            "marker": {
             "line": {
              "color": "#E5ECF6",
              "width": 0.5
             },
             "pattern": {
              "fillmode": "overlay",
              "size": 10,
              "solidity": 0.2
             }
            },
            "type": "barpolar"
           }
          ],
          "carpet": [
           {
            "aaxis": {
             "endlinecolor": "#2a3f5f",
             "gridcolor": "white",
             "linecolor": "white",
             "minorgridcolor": "white",
             "startlinecolor": "#2a3f5f"
            },
            "baxis": {
             "endlinecolor": "#2a3f5f",
             "gridcolor": "white",
             "linecolor": "white",
             "minorgridcolor": "white",
             "startlinecolor": "#2a3f5f"
            },
            "type": "carpet"
           }
          ],
          "choropleth": [
           {
            "colorbar": {
             "outlinewidth": 0,
             "ticks": ""
            },
            "type": "choropleth"
           }
          ],
          "contour": [
           {
            "colorbar": {
             "outlinewidth": 0,
             "ticks": ""
            },
            "colorscale": [
             [
              0,
              "#0d0887"
             ],
             [
              0.1111111111111111,
              "#46039f"
             ],
             [
              0.2222222222222222,
              "#7201a8"
             ],
             [
              0.3333333333333333,
              "#9c179e"
             ],
             [
              0.4444444444444444,
              "#bd3786"
             ],
             [
              0.5555555555555556,
              "#d8576b"
             ],
             [
              0.6666666666666666,
              "#ed7953"
             ],
             [
              0.7777777777777778,
              "#fb9f3a"
             ],
             [
              0.8888888888888888,
              "#fdca26"
             ],
             [
              1,
              "#f0f921"
             ]
            ],
            "type": "contour"
           }
          ],
          "contourcarpet": [
           {
            "colorbar": {
             "outlinewidth": 0,
             "ticks": ""
            },
            "type": "contourcarpet"
           }
          ],
          "heatmap": [
           {
            "colorbar": {
             "outlinewidth": 0,
             "ticks": ""
            },
            "colorscale": [
             [
              0,
              "#0d0887"
             ],
             [
              0.1111111111111111,
              "#46039f"
             ],
             [
              0.2222222222222222,
              "#7201a8"
             ],
             [
              0.3333333333333333,
              "#9c179e"
             ],
             [
              0.4444444444444444,
              "#bd3786"
             ],
             [
              0.5555555555555556,
              "#d8576b"
             ],
             [
              0.6666666666666666,
              "#ed7953"
             ],
             [
              0.7777777777777778,
              "#fb9f3a"
             ],
             [
              0.8888888888888888,
              "#fdca26"
             ],
             [
              1,
              "#f0f921"
             ]
            ],
            "type": "heatmap"
           }
          ],
          "heatmapgl": [
           {
            "colorbar": {
             "outlinewidth": 0,
             "ticks": ""
            },
            "colorscale": [
             [
              0,
              "#0d0887"
             ],
             [
              0.1111111111111111,
              "#46039f"
             ],
             [
              0.2222222222222222,
              "#7201a8"
             ],
             [
              0.3333333333333333,
              "#9c179e"
             ],
             [
              0.4444444444444444,
              "#bd3786"
             ],
             [
              0.5555555555555556,
              "#d8576b"
             ],
             [
              0.6666666666666666,
              "#ed7953"
             ],
             [
              0.7777777777777778,
              "#fb9f3a"
             ],
             [
              0.8888888888888888,
              "#fdca26"
             ],
             [
              1,
              "#f0f921"
             ]
            ],
            "type": "heatmapgl"
           }
          ],
          "histogram": [
           {
            "marker": {
             "pattern": {
              "fillmode": "overlay",
              "size": 10,
              "solidity": 0.2
             }
            },
            "type": "histogram"
           }
          ],
          "histogram2d": [
           {
            "colorbar": {
             "outlinewidth": 0,
             "ticks": ""
            },
            "colorscale": [
             [
              0,
              "#0d0887"
             ],
             [
              0.1111111111111111,
              "#46039f"
             ],
             [
              0.2222222222222222,
              "#7201a8"
             ],
             [
              0.3333333333333333,
              "#9c179e"
             ],
             [
              0.4444444444444444,
              "#bd3786"
             ],
             [
              0.5555555555555556,
              "#d8576b"
             ],
             [
              0.6666666666666666,
              "#ed7953"
             ],
             [
              0.7777777777777778,
              "#fb9f3a"
             ],
             [
              0.8888888888888888,
              "#fdca26"
             ],
             [
              1,
              "#f0f921"
             ]
            ],
            "type": "histogram2d"
           }
          ],
          "histogram2dcontour": [
           {
            "colorbar": {
             "outlinewidth": 0,
             "ticks": ""
            },
            "colorscale": [
             [
              0,
              "#0d0887"
             ],
             [
              0.1111111111111111,
              "#46039f"
             ],
             [
              0.2222222222222222,
              "#7201a8"
             ],
             [
              0.3333333333333333,
              "#9c179e"
             ],
             [
              0.4444444444444444,
              "#bd3786"
             ],
             [
              0.5555555555555556,
              "#d8576b"
             ],
             [
              0.6666666666666666,
              "#ed7953"
             ],
             [
              0.7777777777777778,
              "#fb9f3a"
             ],
             [
              0.8888888888888888,
              "#fdca26"
             ],
             [
              1,
              "#f0f921"
             ]
            ],
            "type": "histogram2dcontour"
           }
          ],
          "mesh3d": [
           {
            "colorbar": {
             "outlinewidth": 0,
             "ticks": ""
            },
            "type": "mesh3d"
           }
          ],
          "parcoords": [
           {
            "line": {
             "colorbar": {
              "outlinewidth": 0,
              "ticks": ""
             }
            },
            "type": "parcoords"
           }
          ],
          "pie": [
           {
            "automargin": true,
            "type": "pie"
           }
          ],
          "scatter": [
           {
            "fillpattern": {
             "fillmode": "overlay",
             "size": 10,
             "solidity": 0.2
            },
            "type": "scatter"
           }
          ],
          "scatter3d": [
           {
            "line": {
             "colorbar": {
              "outlinewidth": 0,
              "ticks": ""
             }
            },
            "marker": {
             "colorbar": {
              "outlinewidth": 0,
              "ticks": ""
             }
            },
            "type": "scatter3d"
           }
          ],
          "scattercarpet": [
           {
            "marker": {
             "colorbar": {
              "outlinewidth": 0,
              "ticks": ""
             }
            },
            "type": "scattercarpet"
           }
          ],
          "scattergeo": [
           {
            "marker": {
             "colorbar": {
              "outlinewidth": 0,
              "ticks": ""
             }
            },
            "type": "scattergeo"
           }
          ],
          "scattergl": [
           {
            "marker": {
             "colorbar": {
              "outlinewidth": 0,
              "ticks": ""
             }
            },
            "type": "scattergl"
           }
          ],
          "scattermapbox": [
           {
            "marker": {
             "colorbar": {
              "outlinewidth": 0,
              "ticks": ""
             }
            },
            "type": "scattermapbox"
           }
          ],
          "scatterpolar": [
           {
            "marker": {
             "colorbar": {
              "outlinewidth": 0,
              "ticks": ""
             }
            },
            "type": "scatterpolar"
           }
          ],
          "scatterpolargl": [
           {
            "marker": {
             "colorbar": {
              "outlinewidth": 0,
              "ticks": ""
             }
            },
            "type": "scatterpolargl"
           }
          ],
          "scatterternary": [
           {
            "marker": {
             "colorbar": {
              "outlinewidth": 0,
              "ticks": ""
             }
            },
            "type": "scatterternary"
           }
          ],
          "surface": [
           {
            "colorbar": {
             "outlinewidth": 0,
             "ticks": ""
            },
            "colorscale": [
             [
              0,
              "#0d0887"
             ],
             [
              0.1111111111111111,
              "#46039f"
             ],
             [
              0.2222222222222222,
              "#7201a8"
             ],
             [
              0.3333333333333333,
              "#9c179e"
             ],
             [
              0.4444444444444444,
              "#bd3786"
             ],
             [
              0.5555555555555556,
              "#d8576b"
             ],
             [
              0.6666666666666666,
              "#ed7953"
             ],
             [
              0.7777777777777778,
              "#fb9f3a"
             ],
             [
              0.8888888888888888,
              "#fdca26"
             ],
             [
              1,
              "#f0f921"
             ]
            ],
            "type": "surface"
           }
          ],
          "table": [
           {
            "cells": {
             "fill": {
              "color": "#EBF0F8"
             },
             "line": {
              "color": "white"
             }
            },
            "header": {
             "fill": {
              "color": "#C8D4E3"
             },
             "line": {
              "color": "white"
             }
            },
            "type": "table"
           }
          ]
         },
         "layout": {
          "annotationdefaults": {
           "arrowcolor": "#2a3f5f",
           "arrowhead": 0,
           "arrowwidth": 1
          },
          "autotypenumbers": "strict",
          "coloraxis": {
           "colorbar": {
            "outlinewidth": 0,
            "ticks": ""
           }
          },
          "colorscale": {
           "diverging": [
            [
             0,
             "#8e0152"
            ],
            [
             0.1,
             "#c51b7d"
            ],
            [
             0.2,
             "#de77ae"
            ],
            [
             0.3,
             "#f1b6da"
            ],
            [
             0.4,
             "#fde0ef"
            ],
            [
             0.5,
             "#f7f7f7"
            ],
            [
             0.6,
             "#e6f5d0"
            ],
            [
             0.7,
             "#b8e186"
            ],
            [
             0.8,
             "#7fbc41"
            ],
            [
             0.9,
             "#4d9221"
            ],
            [
             1,
             "#276419"
            ]
           ],
           "sequential": [
            [
             0,
             "#0d0887"
            ],
            [
             0.1111111111111111,
             "#46039f"
            ],
            [
             0.2222222222222222,
             "#7201a8"
            ],
            [
             0.3333333333333333,
             "#9c179e"
            ],
            [
             0.4444444444444444,
             "#bd3786"
            ],
            [
             0.5555555555555556,
             "#d8576b"
            ],
            [
             0.6666666666666666,
             "#ed7953"
            ],
            [
             0.7777777777777778,
             "#fb9f3a"
            ],
            [
             0.8888888888888888,
             "#fdca26"
            ],
            [
             1,
             "#f0f921"
            ]
           ],
           "sequentialminus": [
            [
             0,
             "#0d0887"
            ],
            [
             0.1111111111111111,
             "#46039f"
            ],
            [
             0.2222222222222222,
             "#7201a8"
            ],
            [
             0.3333333333333333,
             "#9c179e"
            ],
            [
             0.4444444444444444,
             "#bd3786"
            ],
            [
             0.5555555555555556,
             "#d8576b"
            ],
            [
             0.6666666666666666,
             "#ed7953"
            ],
            [
             0.7777777777777778,
             "#fb9f3a"
            ],
            [
             0.8888888888888888,
             "#fdca26"
            ],
            [
             1,
             "#f0f921"
            ]
           ]
          },
          "colorway": [
           "#636efa",
           "#EF553B",
           "#00cc96",
           "#ab63fa",
           "#FFA15A",
           "#19d3f3",
           "#FF6692",
           "#B6E880",
           "#FF97FF",
           "#FECB52"
          ],
          "font": {
           "color": "#2a3f5f"
          },
          "geo": {
           "bgcolor": "white",
           "lakecolor": "white",
           "landcolor": "#E5ECF6",
           "showlakes": true,
           "showland": true,
           "subunitcolor": "white"
          },
          "hoverlabel": {
           "align": "left"
          },
          "hovermode": "closest",
          "mapbox": {
           "style": "light"
          },
          "paper_bgcolor": "white",
          "plot_bgcolor": "#E5ECF6",
          "polar": {
           "angularaxis": {
            "gridcolor": "white",
            "linecolor": "white",
            "ticks": ""
           },
           "bgcolor": "#E5ECF6",
           "radialaxis": {
            "gridcolor": "white",
            "linecolor": "white",
            "ticks": ""
           }
          },
          "scene": {
           "xaxis": {
            "backgroundcolor": "#E5ECF6",
            "gridcolor": "white",
            "gridwidth": 2,
            "linecolor": "white",
            "showbackground": true,
            "ticks": "",
            "zerolinecolor": "white"
           },
           "yaxis": {
            "backgroundcolor": "#E5ECF6",
            "gridcolor": "white",
            "gridwidth": 2,
            "linecolor": "white",
            "showbackground": true,
            "ticks": "",
            "zerolinecolor": "white"
           },
           "zaxis": {
            "backgroundcolor": "#E5ECF6",
            "gridcolor": "white",
            "gridwidth": 2,
            "linecolor": "white",
            "showbackground": true,
            "ticks": "",
            "zerolinecolor": "white"
           }
          },
          "shapedefaults": {
           "line": {
            "color": "#2a3f5f"
           }
          },
          "ternary": {
           "aaxis": {
            "gridcolor": "white",
            "linecolor": "white",
            "ticks": ""
           },
           "baxis": {
            "gridcolor": "white",
            "linecolor": "white",
            "ticks": ""
           },
           "bgcolor": "#E5ECF6",
           "caxis": {
            "gridcolor": "white",
            "linecolor": "white",
            "ticks": ""
           }
          },
          "title": {
           "x": 0.05
          },
          "xaxis": {
           "automargin": true,
           "gridcolor": "white",
           "linecolor": "white",
           "ticks": "",
           "title": {
            "standoff": 15
           },
           "zerolinecolor": "white",
           "zerolinewidth": 2
          },
          "yaxis": {
           "automargin": true,
           "gridcolor": "white",
           "linecolor": "white",
           "ticks": "",
           "title": {
            "standoff": 15
           },
           "zerolinecolor": "white",
           "zerolinewidth": 2
          }
         }
        },
        "title": {
         "text": "Word2Vec - Visualizzazione embedding con TSNE 3D"
        }
       }
      }
     },
     "metadata": {},
     "output_type": "display_data"
    }
   ],
   "source": [
    "from sklearn.manifold import TSNE\n",
    "import numpy as np\n",
    "\n",
    "def reduce_dimensions(model):\n",
    "    num_components = 2 # number of dimensions to keep after compression\n",
    "    # extract vocabulary from model and vectors in order to associate them in t\n",
    "    vectors = np.asarray(model.wv.vectors)\n",
    "    labels = np.asarray(model.wv.index_to_key)\n",
    "    # apply TSNE\n",
    "    tsne = TSNE(n_components=num_components, random_state=0)\n",
    "    vectors = tsne.fit_transform(vectors)\n",
    "    x_vals = [v[0] for v in vectors]\n",
    "    y_vals = [v[1] for v in vectors]\n",
    "    return x_vals, y_vals, labels\n",
    "\n",
    "def reduce_dimensions3D(model):\n",
    "    num_components = 3 # number of dimensions to keep after compression\n",
    "    # extract vocabulary from model and vectors in order to associate them in t\n",
    "    vectors = np.asarray(model.wv.vectors)\n",
    "    labels = np.asarray(model.wv.index_to_key)\n",
    "    # apply TSNE\n",
    "    tsne = TSNE(n_components=num_components, random_state=0)\n",
    "    vectors = tsne.fit_transform(vectors)\n",
    "    x_vals = [v[0] for v in vectors]\n",
    "    y_vals = [v[1] for v in vectors]\n",
    "    z_vals = [v[2] for v in vectors]\n",
    "    return x_vals, y_vals,z_vals, labels\n",
    "\n",
    "def plot_embeddings(x_vals, y_vals, labels):\n",
    "    import plotly.graph_objs as go\n",
    "    fig = go.Figure()\n",
    "    trace = go.Scatter(x=x_vals, y=y_vals, mode='markers', text=labels)\n",
    "    fig.add_trace(trace)\n",
    "    fig.update_layout(title=\"Word2Vec - Visualizzazione embedding con TSNE\")\n",
    "    fig.show()\n",
    "    return fig\n",
    "\n",
    "x_vals, y_vals, labels = reduce_dimensions(model)\n",
    "plot = plot_embeddings(x_vals, y_vals, labels)\n",
    "\n",
    "def plot_embeddings3D(x_vals, y_vals,z_vals, labels):\n",
    "    import plotly.graph_objs as go\n",
    "    fig = go.Figure()\n",
    "    trace = go.Scatter3d(x=x_vals, y=y_vals, z=z_vals, mode='markers', text=labels)\n",
    "    fig.add_trace(trace)\n",
    "    fig.update_layout(title=\"Word2Vec - Visualizzazione embedding con TSNE 3D\")\n",
    "    fig.show()\n",
    "    return fig\n",
    "\n",
    "x_vals, y_vals,z_vals, labels = reduce_dimensions3D(model)\n",
    "plot3d = plot_embeddings3D(x_vals, y_vals,z_vals, labels)\n",
    "\n",
    "plot3d.write_html('tsne3d1.html')\n",
    "plot.write_html('tsne1.html')"
   ]
  },
  {
   "cell_type": "code",
   "execution_count": 39,
   "metadata": {},
   "outputs": [
    {
     "data": {
      "image/png": "[encoded data removed]",
      "text/plain": [
       "<Figure size 640x480 with 2 Axes>"
      ]
     },
     "metadata": {},
     "output_type": "display_data"
    },
    {
     "data": {
      "image/png": "[encoded data removed]",
      "text/plain": [
       "<Figure size 640x480 with 1 Axes>"
      ]
     },
     "metadata": {},
     "output_type": "display_data"
    }
   ],
   "source": [
    "from sklearn.manifold import TSNE\n",
    "from mpl_toolkits import mplot3d\n",
    "\n",
    "\n",
    "def run_tsne(data, num_dimensions=2, perplexity=30.0, learning_rate=200.0, num_iterations=1000):\n",
    "    # Create t-SNE object\n",
    "    tsne = TSNE(n_components=num_dimensions, perplexity=perplexity, learning_rate=learning_rate, n_iter=num_iterations)\n",
    "    \n",
    "    # Run t-SNE on the data\n",
    "    embedded_data = tsne.fit_transform(data)\n",
    "    \n",
    "    return embedded_data\n",
    "\n",
    "def run_tsne3D(data, num_dimensions=3, perplexity=30.0, learning_rate=200.0, num_iterations=1000):\n",
    "    # Create t-SNE object\n",
    "    tsne = TSNE(n_components=num_dimensions, perplexity=perplexity, learning_rate=learning_rate, n_iter=num_iterations)\n",
    "    \n",
    "    # Run t-SNE on the data\n",
    "    embedded_data = tsne.fit_transform(data)\n",
    "    \n",
    "    return embedded_data\n",
    "\n",
    "import matplotlib.pyplot as plt\n",
    "\n",
    "def plot_tsne(embedded_data):\n",
    "    # Create a scatter plot of the embedded data\n",
    "    plt.scatter(embedded_data[:, 0], embedded_data[:, 1])\n",
    "    plt.colorbar()\n",
    "    plt.show()\n",
    "\n",
    "    \n",
    "\n",
    "\n",
    "# Example usage\n",
    "import numpy as np\n",
    "\n",
    "# Generate random data\n",
    "data = np.asarray(model.wv.vectors)\n",
    "\n",
    "# Run t-SNE\n",
    "embedded_data = run_tsne(data)\n",
    "\n",
    "# Print the embedded data\n",
    "\n",
    "plt = plot_tsne(embedded_data)\n",
    "ax = plt.axes(projection =\"3d\")\n",
    "def plot_tsne3D(embedded_data):\n",
    "    # Create a scatter plot of the embedded data\n",
    "    ax.scatter3D(embedded_data[:, 0], embedded_data[:, 1], embedded_data[:, 2])\n",
    "\n",
    "    plt.show()\n",
    "    \n",
    "\n",
    "\n",
    "# Example usage\n",
    "import numpy as np\n",
    "\n",
    "# Generate random data\n",
    "data = np.asarray(model.wv.vectors)\n",
    "data3d = np.asarray(model.wv.vectors)\n",
    "\n",
    "\n",
    "# Run t-SNE\n",
    "embedded_data3d = run_tsne3D(data3d)\n",
    "\n",
    "# Print the embedded data\n",
    "\n",
    "plot_tsne3D(embedded_data3d)\n",
    "\n",
    "\n"
   ]
  },
  {
   "cell_type": "code",
   "execution_count": 41,
   "metadata": {},
   "outputs": [
    {
     "data": {
      "image/png": "[encoded data removed]",
      "text/plain": [
       "<Figure size 640x480 with 2 Axes>"
      ]
     },
     "metadata": {},
     "output_type": "display_data"
    }
   ],
   "source": [
    "kmeans = KMeans(n_clusters=4, init='k-means++', n_init=10, max_iter=300)\n",
    "kmeans.fit(embedded_data)\n",
    "\n",
    "\n",
    "  \n",
    "cluster_labels = kmeans.labels_\n",
    "fig, ax = plt.subplots()\n",
    "plt.scatter(embedded_data[:, 0], embedded_data[:, 1], c=cluster_labels)\n",
    "plt.colorbar()\n",
    "plt.show()\n",
    "\n",
    "\n",
    "# Convert the plot to an interactive HTML format\n",
    "html_graph = mpld3.fig_to_html(fig)\n",
    "    \n",
    "with open('kmeans1.html', 'w') as file:\n",
    "    file.write(html_graph)\n",
    "\n",
    "    "
   ]
  },
  {
   "cell_type": "code",
   "execution_count": 45,
   "metadata": {},
   "outputs": [
    {
     "data": {
      "application/vnd.plotly.v1+json": {
       "config": {
        "plotlyServerURL": "https://plot.ly"
       },
       "data": [
        {
         "mode": "markers",
         "type": "scatter3d",
         "x": [
          188.6385955810547,
          49.708778381347656,
          -27.84994888305664,
          -186.3531951904297,
          -177.77386474609375,
          181.7853546142578,
          -53.120243072509766,
          204.48399353027344,
          -87.73914337158203,
          -186.9775390625,
          -58.252010345458984,
          179.83912658691406,
          33.62153625488281,
          -40.1457633972168,
          197.1309814453125,
          -63.76703643798828,
          95.43399810791016,
          66.62422180175781,
          90.04420471191406,
          -10.092682838439941,
          -70.74175262451172,
          134.02503967285156,
          58.78462600708008,
          89.36383819580078,
          -215.99693298339844,
          21.519636154174805,
          -63.5626220703125,
          47.190635681152344,
          -91.69829559326172,
          100.22176361083984,
          -48.97470474243164,
          44.821144104003906,
          18.512237548828125,
          -5.286351203918457,
          -93.19425201416016,
          14.094583511352539,
          -41.12390899658203,
          40.309532165527344,
          83.54710388183594,
          51.1904296875,
          125.45498657226562,
          -146.62738037109375,
          -22.357542037963867,
          -143.21966552734375,
          4.536667823791504,
          31.31926727294922,
          -162.3104248046875,
          -106.39000701904297,
          -139.1894989013672
         ],
         "y": [
          -30.161317825317383,
          129.74876403808594,
          -219.64443969726562,
          -59.64389419555664,
          140.25143432617188,
          110.2743148803711,
          105.3109130859375,
          -70.41575622558594,
          54.98862838745117,
          -135.87315368652344,
          47.78993225097656,
          -39.398765563964844,
          1.3979681730270386,
          68.42517852783203,
          57.65869140625,
          206.9547576904297,
          45.601139068603516,
          -144.5370635986328,
          84.98809814453125,
          4.190455436706543,
          -2.2364423274993896,
          153.4684600830078,
          -240.3800048828125,
          -39.86280059814453,
          36.09447479248047,
          -93.58916473388672,
          -53.62287902832031,
          170.5399627685547,
          -131.70639038085938,
          -46.88225555419922,
          -30.74167251586914,
          204.7223663330078,
          -165.5829620361328,
          110.67759704589844,
          156.84532165527344,
          23.862701416015625,
          -152.72940063476562,
          -137.19236755371094,
          46.230995178222656,
          -64.70000457763672,
          -144.82225036621094,
          -33.85760498046875,
          -62.827640533447266,
          51.45414733886719,
          -62.41277313232422,
          110.53307342529297,
          64.83248901367188,
          -115.81546783447266,
          -38.85011291503906
         ],
         "z": [
          -111.8498764038086,
          189.79754638671875,
          60.027217864990234,
          74.09517669677734,
          -26.18519401550293,
          -75.49544525146484,
          -84.61528778076172,
          -38.847930908203125,
          -8.459080696105957,
          3.476807117462158,
          -199.13613891601562,
          83.10594177246094,
          185.0869140625,
          148.99874877929688,
          7.483553409576416,
          -22.225982666015625,
          -118.88394165039062,
          -6.551551342010498,
          -5.857122898101807,
          76.40753173828125,
          246.470703125,
          80.93997192382812,
          -42.51068115234375,
          -2.8596837520599365,
          13.191733360290527,
          88.94515228271484,
          142.91567993164062,
          -83.30164337158203,
          -140.98399353027344,
          133.89108276367188,
          -105.35801696777344,
          37.22462844848633,
          -137.93966674804688,
          35.44033432006836,
          87.14173889160156,
          -46.34980392456055,
          -50.68893814086914,
          188.2264862060547,
          95.3634033203125,
          -99.25238800048828,
          -106.48770904541016,
          -160.64254760742188,
          -8.618256568908691,
          104.68592071533203,
          -193.21839904785156,
          -179.49363708496094,
          -93.91523742675781,
          49.386871337890625,
          -35.94300842285156
         ]
        }
       ],
       "layout": {
        "height": 800,
        "margin": {
         "l": 0,
         "r": 0
        },
        "template": {
         "data": {
          "bar": [
           {
            "error_x": {
             "color": "#2a3f5f"
            },
            "error_y": {
             "color": "#2a3f5f"
            },
            "marker": {
             "line": {
              "color": "#E5ECF6",
              "width": 0.5
             },
             "pattern": {
              "fillmode": "overlay",
              "size": 10,
              "solidity": 0.2
             }
            },
            "type": "bar"
           }
          ],
          "barpolar": [
           {
            "marker": {
             "line": {
              "color": "#E5ECF6",
              "width": 0.5
             },
             "pattern": {
              "fillmode": "overlay",
              "size": 10,
              "solidity": 0.2
             }
            },
            "type": "barpolar"
           }
          ],
          "carpet": [
           {
            "aaxis": {
             "endlinecolor": "#2a3f5f",
             "gridcolor": "white",
             "linecolor": "white",
             "minorgridcolor": "white",
             "startlinecolor": "#2a3f5f"
            },
            "baxis": {
             "endlinecolor": "#2a3f5f",
             "gridcolor": "white",
             "linecolor": "white",
             "minorgridcolor": "white",
             "startlinecolor": "#2a3f5f"
            },
            "type": "carpet"
           }
          ],
          "choropleth": [
           {
            "colorbar": {
             "outlinewidth": 0,
             "ticks": ""
            },
            "type": "choropleth"
           }
          ],
          "contour": [
           {
            "colorbar": {
             "outlinewidth": 0,
             "ticks": ""
            },
            "colorscale": [
             [
              0,
              "#0d0887"
             ],
             [
              0.1111111111111111,
              "#46039f"
             ],
             [
              0.2222222222222222,
              "#7201a8"
             ],
             [
              0.3333333333333333,
              "#9c179e"
             ],
             [
              0.4444444444444444,
              "#bd3786"
             ],
             [
              0.5555555555555556,
              "#d8576b"
             ],
             [
              0.6666666666666666,
              "#ed7953"
             ],
             [
              0.7777777777777778,
              "#fb9f3a"
             ],
             [
              0.8888888888888888,
              "#fdca26"
             ],
             [
              1,
              "#f0f921"
             ]
            ],
            "type": "contour"
           }
          ],
          "contourcarpet": [
           {
            "colorbar": {
             "outlinewidth": 0,
             "ticks": ""
            },
            "type": "contourcarpet"
           }
          ],
          "heatmap": [
           {
            "colorbar": {
             "outlinewidth": 0,
             "ticks": ""
            },
            "colorscale": [
             [
              0,
              "#0d0887"
             ],
             [
              0.1111111111111111,
              "#46039f"
             ],
             [
              0.2222222222222222,
              "#7201a8"
             ],
             [
              0.3333333333333333,
              "#9c179e"
             ],
             [
              0.4444444444444444,
              "#bd3786"
             ],
             [
              0.5555555555555556,
              "#d8576b"
             ],
             [
              0.6666666666666666,
              "#ed7953"
             ],
             [
              0.7777777777777778,
              "#fb9f3a"
             ],
             [
              0.8888888888888888,
              "#fdca26"
             ],
             [
              1,
              "#f0f921"
             ]
            ],
            "type": "heatmap"
           }
          ],
          "heatmapgl": [
           {
            "colorbar": {
             "outlinewidth": 0,
             "ticks": ""
            },
            "colorscale": [
             [
              0,
              "#0d0887"
             ],
             [
              0.1111111111111111,
              "#46039f"
             ],
             [
              0.2222222222222222,
              "#7201a8"
             ],
             [
              0.3333333333333333,
              "#9c179e"
             ],
             [
              0.4444444444444444,
              "#bd3786"
             ],
             [
              0.5555555555555556,
              "#d8576b"
             ],
             [
              0.6666666666666666,
              "#ed7953"
             ],
             [
              0.7777777777777778,
              "#fb9f3a"
             ],
             [
              0.8888888888888888,
              "#fdca26"
             ],
             [
              1,
              "#f0f921"
             ]
            ],
            "type": "heatmapgl"
           }
          ],
          "histogram": [
           {
            "marker": {
             "pattern": {
              "fillmode": "overlay",
              "size": 10,
              "solidity": 0.2
             }
            },
            "type": "histogram"
           }
          ],
          "histogram2d": [
           {
            "colorbar": {
             "outlinewidth": 0,
             "ticks": ""
            },
            "colorscale": [
             [
              0,
              "#0d0887"
             ],
             [
              0.1111111111111111,
              "#46039f"
             ],
             [
              0.2222222222222222,
              "#7201a8"
             ],
             [
              0.3333333333333333,
              "#9c179e"
             ],
             [
              0.4444444444444444,
              "#bd3786"
             ],
             [
              0.5555555555555556,
              "#d8576b"
             ],
             [
              0.6666666666666666,
              "#ed7953"
             ],
             [
              0.7777777777777778,
              "#fb9f3a"
             ],
             [
              0.8888888888888888,
              "#fdca26"
             ],
             [
              1,
              "#f0f921"
             ]
            ],
            "type": "histogram2d"
           }
          ],
          "histogram2dcontour": [
           {
            "colorbar": {
             "outlinewidth": 0,
             "ticks": ""
            },
            "colorscale": [
             [
              0,
              "#0d0887"
             ],
             [
              0.1111111111111111,
              "#46039f"
             ],
             [
              0.2222222222222222,
              "#7201a8"
             ],
             [
              0.3333333333333333,
              "#9c179e"
             ],
             [
              0.4444444444444444,
              "#bd3786"
             ],
             [
              0.5555555555555556,
              "#d8576b"
             ],
             [
              0.6666666666666666,
              "#ed7953"
             ],
             [
              0.7777777777777778,
              "#fb9f3a"
             ],
             [
              0.8888888888888888,
              "#fdca26"
             ],
             [
              1,
              "#f0f921"
             ]
            ],
            "type": "histogram2dcontour"
           }
          ],
          "mesh3d": [
           {
            "colorbar": {
             "outlinewidth": 0,
             "ticks": ""
            },
            "type": "mesh3d"
           }
          ],
          "parcoords": [
           {
            "line": {
             "colorbar": {
              "outlinewidth": 0,
              "ticks": ""
             }
            },
            "type": "parcoords"
           }
          ],
          "pie": [
           {
            "automargin": true,
            "type": "pie"
           }
          ],
          "scatter": [
           {
            "fillpattern": {
             "fillmode": "overlay",
             "size": 10,
             "solidity": 0.2
            },
            "type": "scatter"
           }
          ],
          "scatter3d": [
           {
            "line": {
             "colorbar": {
              "outlinewidth": 0,
              "ticks": ""
             }
            },
            "marker": {
             "colorbar": {
              "outlinewidth": 0,
              "ticks": ""
             }
            },
            "type": "scatter3d"
           }
          ],
          "scattercarpet": [
           {
            "marker": {
             "colorbar": {
              "outlinewidth": 0,
              "ticks": ""
             }
            },
            "type": "scattercarpet"
           }
          ],
          "scattergeo": [
           {
            "marker": {
             "colorbar": {
              "outlinewidth": 0,
              "ticks": ""
             }
            },
            "type": "scattergeo"
           }
          ],
          "scattergl": [
           {
            "marker": {
             "colorbar": {
              "outlinewidth": 0,
              "ticks": ""
             }
            },
            "type": "scattergl"
           }
          ],
          "scattermapbox": [
           {
            "marker": {
             "colorbar": {
              "outlinewidth": 0,
              "ticks": ""
             }
            },
            "type": "scattermapbox"
           }
          ],
          "scatterpolar": [
           {
            "marker": {
             "colorbar": {
              "outlinewidth": 0,
              "ticks": ""
             }
            },
            "type": "scatterpolar"
           }
          ],
          "scatterpolargl": [
           {
            "marker": {
             "colorbar": {
              "outlinewidth": 0,
              "ticks": ""
             }
            },
            "type": "scatterpolargl"
           }
          ],
          "scatterternary": [
           {
            "marker": {
             "colorbar": {
              "outlinewidth": 0,
              "ticks": ""
             }
            },
            "type": "scatterternary"
           }
          ],
          "surface": [
           {
            "colorbar": {
             "outlinewidth": 0,
             "ticks": ""
            },
            "colorscale": [
             [
              0,
              "#0d0887"
             ],
             [
              0.1111111111111111,
              "#46039f"
             ],
             [
              0.2222222222222222,
              "#7201a8"
             ],
             [
              0.3333333333333333,
              "#9c179e"
             ],
             [
              0.4444444444444444,
              "#bd3786"
             ],
             [
              0.5555555555555556,
              "#d8576b"
             ],
             [
              0.6666666666666666,
              "#ed7953"
             ],
             [
              0.7777777777777778,
              "#fb9f3a"
             ],
             [
              0.8888888888888888,
              "#fdca26"
             ],
             [
              1,
              "#f0f921"
             ]
            ],
            "type": "surface"
           }
          ],
          "table": [
           {
            "cells": {
             "fill": {
              "color": "#EBF0F8"
             },
             "line": {
              "color": "white"
             }
            },
            "header": {
             "fill": {
              "color": "#C8D4E3"
             },
             "line": {
              "color": "white"
             }
            },
            "type": "table"
           }
          ]
         },
         "layout": {
          "annotationdefaults": {
           "arrowcolor": "#2a3f5f",
           "arrowhead": 0,
           "arrowwidth": 1
          },
          "autotypenumbers": "strict",
          "coloraxis": {
           "colorbar": {
            "outlinewidth": 0,
            "ticks": ""
           }
          },
          "colorscale": {
           "diverging": [
            [
             0,
             "#8e0152"
            ],
            [
             0.1,
             "#c51b7d"
            ],
            [
             0.2,
             "#de77ae"
            ],
            [
             0.3,
             "#f1b6da"
            ],
            [
             0.4,
             "#fde0ef"
            ],
            [
             0.5,
             "#f7f7f7"
            ],
            [
             0.6,
             "#e6f5d0"
            ],
            [
             0.7,
             "#b8e186"
            ],
            [
             0.8,
             "#7fbc41"
            ],
            [
             0.9,
             "#4d9221"
            ],
            [
             1,
             "#276419"
            ]
           ],
           "sequential": [
            [
             0,
             "#0d0887"
            ],
            [
             0.1111111111111111,
             "#46039f"
            ],
            [
             0.2222222222222222,
             "#7201a8"
            ],
            [
             0.3333333333333333,
             "#9c179e"
            ],
            [
             0.4444444444444444,
             "#bd3786"
            ],
            [
             0.5555555555555556,
             "#d8576b"
            ],
            [
             0.6666666666666666,
             "#ed7953"
            ],
            [
             0.7777777777777778,
             "#fb9f3a"
            ],
            [
             0.8888888888888888,
             "#fdca26"
            ],
            [
             1,
             "#f0f921"
            ]
           ],
           "sequentialminus": [
            [
             0,
             "#0d0887"
            ],
            [
             0.1111111111111111,
             "#46039f"
            ],
            [
             0.2222222222222222,
             "#7201a8"
            ],
            [
             0.3333333333333333,
             "#9c179e"
            ],
            [
             0.4444444444444444,
             "#bd3786"
            ],
            [
             0.5555555555555556,
             "#d8576b"
            ],
            [
             0.6666666666666666,
             "#ed7953"
            ],
            [
             0.7777777777777778,
             "#fb9f3a"
            ],
            [
             0.8888888888888888,
             "#fdca26"
            ],
            [
             1,
             "#f0f921"
            ]
           ]
          },
          "colorway": [
           "#636efa",
           "#EF553B",
           "#00cc96",
           "#ab63fa",
           "#FFA15A",
           "#19d3f3",
           "#FF6692",
           "#B6E880",
           "#FF97FF",
           "#FECB52"
          ],
          "font": {
           "color": "#2a3f5f"
          },
          "geo": {
           "bgcolor": "white",
           "lakecolor": "white",
           "landcolor": "#E5ECF6",
           "showlakes": true,
           "showland": true,
           "subunitcolor": "white"
          },
          "hoverlabel": {
           "align": "left"
          },
          "hovermode": "closest",
          "mapbox": {
           "style": "light"
          },
          "paper_bgcolor": "white",
          "plot_bgcolor": "#E5ECF6",
          "polar": {
           "angularaxis": {
            "gridcolor": "white",
            "linecolor": "white",
            "ticks": ""
           },
           "bgcolor": "#E5ECF6",
           "radialaxis": {
            "gridcolor": "white",
            "linecolor": "white",
            "ticks": ""
           }
          },
          "scene": {
           "xaxis": {
            "backgroundcolor": "#E5ECF6",
            "gridcolor": "white",
            "gridwidth": 2,
            "linecolor": "white",
            "showbackground": true,
            "ticks": "",
            "zerolinecolor": "white"
           },
           "yaxis": {
            "backgroundcolor": "#E5ECF6",
            "gridcolor": "white",
            "gridwidth": 2,
            "linecolor": "white",
            "showbackground": true,
            "ticks": "",
            "zerolinecolor": "white"
           },
           "zaxis": {
            "backgroundcolor": "#E5ECF6",
            "gridcolor": "white",
            "gridwidth": 2,
            "linecolor": "white",
            "showbackground": true,
            "ticks": "",
            "zerolinecolor": "white"
           }
          },
          "shapedefaults": {
           "line": {
            "color": "#2a3f5f"
           }
          },
          "ternary": {
           "aaxis": {
            "gridcolor": "white",
            "linecolor": "white",
            "ticks": ""
           },
           "baxis": {
            "gridcolor": "white",
            "linecolor": "white",
            "ticks": ""
           },
           "bgcolor": "#E5ECF6",
           "caxis": {
            "gridcolor": "white",
            "linecolor": "white",
            "ticks": ""
           }
          },
          "title": {
           "x": 0.05
          },
          "xaxis": {
           "automargin": true,
           "gridcolor": "white",
           "linecolor": "white",
           "ticks": "",
           "title": {
            "standoff": 15
           },
           "zerolinecolor": "white",
           "zerolinewidth": 2
          },
          "yaxis": {
           "automargin": true,
           "gridcolor": "white",
           "linecolor": "white",
           "ticks": "",
           "title": {
            "standoff": 15
           },
           "zerolinecolor": "white",
           "zerolinewidth": 2
          }
         }
        },
        "width": 800
       }
      }
     },
     "metadata": {},
     "output_type": "display_data"
    }
   ],
   "source": [
    "import matplotlib.pyplot as plt\n",
    "from mpl_toolkits.mplot3d import Axes3D\n",
    "\n",
    "\n",
    "kmeans2 = KMeans(n_clusters=4, init='k-means++', n_init=10, max_iter=300)    \n",
    "kmeans2.fit(embedded_data3d)\n",
    "trace = go.Scatter3d(x=embedded_data3d[:, 0], y=embedded_data3d[:, 1], z=embedded_data3d[:, 2], mode='markers')\n",
    "layout = go.Layout(margin=dict(l=0,r=0),height = 800,width = 800)\n",
    "data = [trace]\n",
    "fig2 = go.Figure(data = data, layout = layout)\n",
    "fig2.show()\n",
    "\n",
    "\n",
    "    \n",
    "fig2.write_html('kmeans3d1.html')\n"
   ]
  }
 ],
 "metadata": {
  "kernelspec": {
   "display_name": "tez",
   "language": "python",
   "name": "python3"
  },
  "language_info": {
   "codemirror_mode": {
    "name": "ipython",
    "version": 3
   },
   "file_extension": ".py",
   "mimetype": "text/x-python",
   "name": "python",
   "nbconvert_exporter": "python",
   "pygments_lexer": "ipython3",
   "version": "3.10.11"
  },
  "orig_nbformat": 4
 },
 "nbformat": 4,
 "nbformat_minor": 2
}
