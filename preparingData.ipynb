{
 "cells": [
  {
   "cell_type": "code",
   "execution_count": 15,
   "metadata": {},
   "outputs": [
    {
     "name": "stdout",
     "output_type": "stream",
     "text": [
      "aaa 2013j 11391 m east anglian region he qualification 90-100% 55<= 0 240 n pass\n"
     ]
    }
   ],
   "source": [
    "import pandas as pd\n",
    "from gensim.parsing.preprocessing import strip_tags, strip_punctuation, strip_multiple_whitespaces, strip_numeric, remove_stopwords\n",
    "from gensim.models import Word2Vec\n",
    "\n",
    "def simple_preprocess(text):\n",
    "\n",
    "    # Convert to lowercase\n",
    "    text = text.lower()\n",
    "  \n",
    "    return text\n",
    "# Load data\n",
    "df = pd.read_csv('cleanedData.csv')\n",
    "df['cleaned'] = df.apply(lambda row: ''.join(simple_preprocess(' '.join(row.astype(str)))), axis=1)\n",
    "\n",
    "# Concatenate text values from each row\n",
    "\n",
    "texts = df.cleaned.tolist()\n",
    "\n",
    "model = Word2Vec(sentences=texts)\n",
    "\n",
    "\n"
   ]
  }
 ],
 "metadata": {
  "kernelspec": {
   "display_name": "myenv",
   "language": "python",
   "name": "python3"
  },
  "language_info": {
   "codemirror_mode": {
    "name": "ipython",
    "version": 3
   },
   "file_extension": ".py",
   "mimetype": "text/x-python",
   "name": "python",
   "nbconvert_exporter": "python",
   "pygments_lexer": "ipython3",
   "version": "3.10.11"
  },
  "orig_nbformat": 4
 },
 "nbformat": 4,
 "nbformat_minor": 2
}
