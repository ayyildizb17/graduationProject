{
 "cells": [
  {
   "cell_type": "code",
   "execution_count": 13,
   "metadata": {},
   "outputs": [
    {
     "data": {
      "application/vnd.plotly.v1+json": {
       "config": {
        "plotlyServerURL": "https://plot.ly"
       },
       "data": [
        {
         "mode": "markers",
         "text": [
          "%",
          "0-35",
          "m",
          "f",
          "a_level_or_equivalent",
          "lower_than_a_level",
          "pass",
          "withdrawn",
          "35-55",
          "fail",
          "he_qualification",
          "20-30",
          "30-40",
          "10-20",
          "scotland",
          "east_anglian_region",
          "0-10",
          "40-50",
          "london_region",
          "50-60",
          "south_region",
          "distinction",
          "north_western_region",
          "60-70",
          "70-80",
          "80-90",
          "west_midlands_region",
          "90-100",
          "south_west_region",
          "east_midlands_region",
          "south_east_region",
          "wales",
          "yorkshire_region",
          "north_region",
          "ireland",
          "29-39",
          "no_formal_quals",
          "post_graduate_qualification",
          "41-51",
          "55",
          "<",
          "=",
          "59-69",
          "33-43",
          "46-56",
          "45-55"
         ],
         "type": "scatter",
         "x": [
          9.5697021484375,
          11.376066207885742,
          10.848888397216797,
          11.114893913269043,
          10.540422439575195,
          10.647969245910645,
          10.583704948425293,
          10.597679138183594,
          11.419028282165527,
          10.855184555053711,
          9.916677474975586,
          10.166267395019531,
          10.287689208984375,
          10.332813262939453,
          8.454788208007812,
          8.527009010314941,
          10.529637336730957,
          10.385514259338379,
          8.51701831817627,
          10.152762413024902,
          8.558677673339844,
          10.471468925476074,
          8.343013763427734,
          10.405817985534668,
          10.234861373901367,
          10.100951194763184,
          8.621191024780273,
          10.10155963897705,
          8.609578132629395,
          8.544748306274414,
          8.57663345336914,
          8.570270538330078,
          8.657422065734863,
          7.966701984405518,
          8.318747520446777,
          9.691116333007812,
          10.171225547790527,
          9.249045372009277,
          9.420233726501465,
          8.475695610046387,
          8.469754219055176,
          8.471755027770996,
          9.855463027954102,
          9.968304634094238,
          9.795882225036621,
          9.776116371154785
         ],
         "y": [
          -1.0501607656478882,
          -0.994750440120697,
          -1.0727336406707764,
          -0.41982245445251465,
          -0.9323909282684326,
          -0.8820514678955078,
          -1.822314739227295,
          -1.6755969524383545,
          -0.9495336413383484,
          -1.7039742469787598,
          -1.5466487407684326,
          0.43896833062171936,
          0.44365254044532776,
          0.46745064854621887,
          -0.9822578430175781,
          -0.3675782084465027,
          0.5708421468734741,
          0.3354364335536957,
          -0.28056901693344116,
          0.3927912712097168,
          -0.8352649211883545,
          -1.6889187097549438,
          -0.23591472208499908,
          0.20143842697143555,
          0.0768355056643486,
          0.19022227823734283,
          -0.3855621814727783,
          -0.02299327962100506,
          -0.5027561783790588,
          -0.2959556579589844,
          -0.6149384379386902,
          -0.46839654445648193,
          -0.3720359206199646,
          -1.7759476900100708,
          -1.6546531915664673,
          -2.6848442554473877,
          -0.7958541512489319,
          -1.9906502962112427,
          -1.9470361471176147,
          -3.266677141189575,
          -3.269606351852417,
          -3.2685225009918213,
          -0.7210662364959717,
          -0.7783111929893494,
          -0.8417401909828186,
          -0.8150692582130432
         ]
        }
       ],
       "layout": {
        "template": {
         "data": {
          "bar": [
           {
            "error_x": {
             "color": "#2a3f5f"
            },
            "error_y": {
             "color": "#2a3f5f"
            },
            "marker": {
             "line": {
              "color": "#E5ECF6",
              "width": 0.5
             },
             "pattern": {
              "fillmode": "overlay",
              "size": 10,
              "solidity": 0.2
             }
            },
            "type": "bar"
           }
          ],
          "barpolar": [
           {
            "marker": {
             "line": {
              "color": "#E5ECF6",
              "width": 0.5
             },
             "pattern": {
              "fillmode": "overlay",
              "size": 10,
              "solidity": 0.2
             }
            },
            "type": "barpolar"
           }
          ],
          "carpet": [
           {
            "aaxis": {
             "endlinecolor": "#2a3f5f",
             "gridcolor": "white",
             "linecolor": "white",
             "minorgridcolor": "white",
             "startlinecolor": "#2a3f5f"
            },
            "baxis": {
             "endlinecolor": "#2a3f5f",
             "gridcolor": "white",
             "linecolor": "white",
             "minorgridcolor": "white",
             "startlinecolor": "#2a3f5f"
            },
            "type": "carpet"
           }
          ],
          "choropleth": [
           {
            "colorbar": {
             "outlinewidth": 0,
             "ticks": ""
            },
            "type": "choropleth"
           }
          ],
          "contour": [
           {
            "colorbar": {
             "outlinewidth": 0,
             "ticks": ""
            },
            "colorscale": [
             [
              0,
              "#0d0887"
             ],
             [
              0.1111111111111111,
              "#46039f"
             ],
             [
              0.2222222222222222,
              "#7201a8"
             ],
             [
              0.3333333333333333,
              "#9c179e"
             ],
             [
              0.4444444444444444,
              "#bd3786"
             ],
             [
              0.5555555555555556,
              "#d8576b"
             ],
             [
              0.6666666666666666,
              "#ed7953"
             ],
             [
              0.7777777777777778,
              "#fb9f3a"
             ],
             [
              0.8888888888888888,
              "#fdca26"
             ],
             [
              1,
              "#f0f921"
             ]
            ],
            "type": "contour"
           }
          ],
          "contourcarpet": [
           {
            "colorbar": {
             "outlinewidth": 0,
             "ticks": ""
            },
            "type": "contourcarpet"
           }
          ],
          "heatmap": [
           {
            "colorbar": {
             "outlinewidth": 0,
             "ticks": ""
            },
            "colorscale": [
             [
              0,
              "#0d0887"
             ],
             [
              0.1111111111111111,
              "#46039f"
             ],
             [
              0.2222222222222222,
              "#7201a8"
             ],
             [
              0.3333333333333333,
              "#9c179e"
             ],
             [
              0.4444444444444444,
              "#bd3786"
             ],
             [
              0.5555555555555556,
              "#d8576b"
             ],
             [
              0.6666666666666666,
              "#ed7953"
             ],
             [
              0.7777777777777778,
              "#fb9f3a"
             ],
             [
              0.8888888888888888,
              "#fdca26"
             ],
             [
              1,
              "#f0f921"
             ]
            ],
            "type": "heatmap"
           }
          ],
          "heatmapgl": [
           {
            "colorbar": {
             "outlinewidth": 0,
             "ticks": ""
            },
            "colorscale": [
             [
              0,
              "#0d0887"
             ],
             [
              0.1111111111111111,
              "#46039f"
             ],
             [
              0.2222222222222222,
              "#7201a8"
             ],
             [
              0.3333333333333333,
              "#9c179e"
             ],
             [
              0.4444444444444444,
              "#bd3786"
             ],
             [
              0.5555555555555556,
              "#d8576b"
             ],
             [
              0.6666666666666666,
              "#ed7953"
             ],
             [
              0.7777777777777778,
              "#fb9f3a"
             ],
             [
              0.8888888888888888,
              "#fdca26"
             ],
             [
              1,
              "#f0f921"
             ]
            ],
            "type": "heatmapgl"
           }
          ],
          "histogram": [
           {
            "marker": {
             "pattern": {
              "fillmode": "overlay",
              "size": 10,
              "solidity": 0.2
             }
            },
            "type": "histogram"
           }
          ],
          "histogram2d": [
           {
            "colorbar": {
             "outlinewidth": 0,
             "ticks": ""
            },
            "colorscale": [
             [
              0,
              "#0d0887"
             ],
             [
              0.1111111111111111,
              "#46039f"
             ],
             [
              0.2222222222222222,
              "#7201a8"
             ],
             [
              0.3333333333333333,
              "#9c179e"
             ],
             [
              0.4444444444444444,
              "#bd3786"
             ],
             [
              0.5555555555555556,
              "#d8576b"
             ],
             [
              0.6666666666666666,
              "#ed7953"
             ],
             [
              0.7777777777777778,
              "#fb9f3a"
             ],
             [
              0.8888888888888888,
              "#fdca26"
             ],
             [
              1,
              "#f0f921"
             ]
            ],
            "type": "histogram2d"
           }
          ],
          "histogram2dcontour": [
           {
            "colorbar": {
             "outlinewidth": 0,
             "ticks": ""
            },
            "colorscale": [
             [
              0,
              "#0d0887"
             ],
             [
              0.1111111111111111,
              "#46039f"
             ],
             [
              0.2222222222222222,
              "#7201a8"
             ],
             [
              0.3333333333333333,
              "#9c179e"
             ],
             [
              0.4444444444444444,
              "#bd3786"
             ],
             [
              0.5555555555555556,
              "#d8576b"
             ],
             [
              0.6666666666666666,
              "#ed7953"
             ],
             [
              0.7777777777777778,
              "#fb9f3a"
             ],
             [
              0.8888888888888888,
              "#fdca26"
             ],
             [
              1,
              "#f0f921"
             ]
            ],
            "type": "histogram2dcontour"
           }
          ],
          "mesh3d": [
           {
            "colorbar": {
             "outlinewidth": 0,
             "ticks": ""
            },
            "type": "mesh3d"
           }
          ],
          "parcoords": [
           {
            "line": {
             "colorbar": {
              "outlinewidth": 0,
              "ticks": ""
             }
            },
            "type": "parcoords"
           }
          ],
          "pie": [
           {
            "automargin": true,
            "type": "pie"
           }
          ],
          "scatter": [
           {
            "fillpattern": {
             "fillmode": "overlay",
             "size": 10,
             "solidity": 0.2
            },
            "type": "scatter"
           }
          ],
          "scatter3d": [
           {
            "line": {
             "colorbar": {
              "outlinewidth": 0,
              "ticks": ""
             }
            },
            "marker": {
             "colorbar": {
              "outlinewidth": 0,
              "ticks": ""
             }
            },
            "type": "scatter3d"
           }
          ],
          "scattercarpet": [
           {
            "marker": {
             "colorbar": {
              "outlinewidth": 0,
              "ticks": ""
             }
            },
            "type": "scattercarpet"
           }
          ],
          "scattergeo": [
           {
            "marker": {
             "colorbar": {
              "outlinewidth": 0,
              "ticks": ""
             }
            },
            "type": "scattergeo"
           }
          ],
          "scattergl": [
           {
            "marker": {
             "colorbar": {
              "outlinewidth": 0,
              "ticks": ""
             }
            },
            "type": "scattergl"
           }
          ],
          "scattermapbox": [
           {
            "marker": {
             "colorbar": {
              "outlinewidth": 0,
              "ticks": ""
             }
            },
            "type": "scattermapbox"
           }
          ],
          "scatterpolar": [
           {
            "marker": {
             "colorbar": {
              "outlinewidth": 0,
              "ticks": ""
             }
            },
            "type": "scatterpolar"
           }
          ],
          "scatterpolargl": [
           {
            "marker": {
             "colorbar": {
              "outlinewidth": 0,
              "ticks": ""
             }
            },
            "type": "scatterpolargl"
           }
          ],
          "scatterternary": [
           {
            "marker": {
             "colorbar": {
              "outlinewidth": 0,
              "ticks": ""
             }
            },
            "type": "scatterternary"
           }
          ],
          "surface": [
           {
            "colorbar": {
             "outlinewidth": 0,
             "ticks": ""
            },
            "colorscale": [
             [
              0,
              "#0d0887"
             ],
             [
              0.1111111111111111,
              "#46039f"
             ],
             [
              0.2222222222222222,
              "#7201a8"
             ],
             [
              0.3333333333333333,
              "#9c179e"
             ],
             [
              0.4444444444444444,
              "#bd3786"
             ],
             [
              0.5555555555555556,
              "#d8576b"
             ],
             [
              0.6666666666666666,
              "#ed7953"
             ],
             [
              0.7777777777777778,
              "#fb9f3a"
             ],
             [
              0.8888888888888888,
              "#fdca26"
             ],
             [
              1,
              "#f0f921"
             ]
            ],
            "type": "surface"
           }
          ],
          "table": [
           {
            "cells": {
             "fill": {
              "color": "#EBF0F8"
             },
             "line": {
              "color": "white"
             }
            },
            "header": {
             "fill": {
              "color": "#C8D4E3"
             },
             "line": {
              "color": "white"
             }
            },
            "type": "table"
           }
          ]
         },
         "layout": {
          "annotationdefaults": {
           "arrowcolor": "#2a3f5f",
           "arrowhead": 0,
           "arrowwidth": 1
          },
          "autotypenumbers": "strict",
          "coloraxis": {
           "colorbar": {
            "outlinewidth": 0,
            "ticks": ""
           }
          },
          "colorscale": {
           "diverging": [
            [
             0,
             "#8e0152"
            ],
            [
             0.1,
             "#c51b7d"
            ],
            [
             0.2,
             "#de77ae"
            ],
            [
             0.3,
             "#f1b6da"
            ],
            [
             0.4,
             "#fde0ef"
            ],
            [
             0.5,
             "#f7f7f7"
            ],
            [
             0.6,
             "#e6f5d0"
            ],
            [
             0.7,
             "#b8e186"
            ],
            [
             0.8,
             "#7fbc41"
            ],
            [
             0.9,
             "#4d9221"
            ],
            [
             1,
             "#276419"
            ]
           ],
           "sequential": [
            [
             0,
             "#0d0887"
            ],
            [
             0.1111111111111111,
             "#46039f"
            ],
            [
             0.2222222222222222,
             "#7201a8"
            ],
            [
             0.3333333333333333,
             "#9c179e"
            ],
            [
             0.4444444444444444,
             "#bd3786"
            ],
            [
             0.5555555555555556,
             "#d8576b"
            ],
            [
             0.6666666666666666,
             "#ed7953"
            ],
            [
             0.7777777777777778,
             "#fb9f3a"
            ],
            [
             0.8888888888888888,
             "#fdca26"
            ],
            [
             1,
             "#f0f921"
            ]
           ],
           "sequentialminus": [
            [
             0,
             "#0d0887"
            ],
            [
             0.1111111111111111,
             "#46039f"
            ],
            [
             0.2222222222222222,
             "#7201a8"
            ],
            [
             0.3333333333333333,
             "#9c179e"
            ],
            [
             0.4444444444444444,
             "#bd3786"
            ],
            [
             0.5555555555555556,
             "#d8576b"
            ],
            [
             0.6666666666666666,
             "#ed7953"
            ],
            [
             0.7777777777777778,
             "#fb9f3a"
            ],
            [
             0.8888888888888888,
             "#fdca26"
            ],
            [
             1,
             "#f0f921"
            ]
           ]
          },
          "colorway": [
           "#636efa",
           "#EF553B",
           "#00cc96",
           "#ab63fa",
           "#FFA15A",
           "#19d3f3",
           "#FF6692",
           "#B6E880",
           "#FF97FF",
           "#FECB52"
          ],
          "font": {
           "color": "#2a3f5f"
          },
          "geo": {
           "bgcolor": "white",
           "lakecolor": "white",
           "landcolor": "#E5ECF6",
           "showlakes": true,
           "showland": true,
           "subunitcolor": "white"
          },
          "hoverlabel": {
           "align": "left"
          },
          "hovermode": "closest",
          "mapbox": {
           "style": "light"
          },
          "paper_bgcolor": "white",
          "plot_bgcolor": "#E5ECF6",
          "polar": {
           "angularaxis": {
            "gridcolor": "white",
            "linecolor": "white",
            "ticks": ""
           },
           "bgcolor": "#E5ECF6",
           "radialaxis": {
            "gridcolor": "white",
            "linecolor": "white",
            "ticks": ""
           }
          },
          "scene": {
           "xaxis": {
            "backgroundcolor": "#E5ECF6",
            "gridcolor": "white",
            "gridwidth": 2,
            "linecolor": "white",
            "showbackground": true,
            "ticks": "",
            "zerolinecolor": "white"
           },
           "yaxis": {
            "backgroundcolor": "#E5ECF6",
            "gridcolor": "white",
            "gridwidth": 2,
            "linecolor": "white",
            "showbackground": true,
            "ticks": "",
            "zerolinecolor": "white"
           },
           "zaxis": {
            "backgroundcolor": "#E5ECF6",
            "gridcolor": "white",
            "gridwidth": 2,
            "linecolor": "white",
            "showbackground": true,
            "ticks": "",
            "zerolinecolor": "white"
           }
          },
          "shapedefaults": {
           "line": {
            "color": "#2a3f5f"
           }
          },
          "ternary": {
           "aaxis": {
            "gridcolor": "white",
            "linecolor": "white",
            "ticks": ""
           },
           "baxis": {
            "gridcolor": "white",
            "linecolor": "white",
            "ticks": ""
           },
           "bgcolor": "#E5ECF6",
           "caxis": {
            "gridcolor": "white",
            "linecolor": "white",
            "ticks": ""
           }
          },
          "title": {
           "x": 0.05
          },
          "xaxis": {
           "automargin": true,
           "gridcolor": "white",
           "linecolor": "white",
           "ticks": "",
           "title": {
            "standoff": 15
           },
           "zerolinecolor": "white",
           "zerolinewidth": 2
          },
          "yaxis": {
           "automargin": true,
           "gridcolor": "white",
           "linecolor": "white",
           "ticks": "",
           "title": {
            "standoff": 15
           },
           "zerolinecolor": "white",
           "zerolinewidth": 2
          }
         }
        },
        "title": {
         "text": "Word2Vec - Visualizzazione embedding con TSNE"
        }
       }
      }
     },
     "metadata": {},
     "output_type": "display_data"
    },
    {
     "name": "stderr",
     "output_type": "stream",
     "text": [
      "C:\\Users\\buse_\\AppData\\Roaming\\Python\\Python310\\site-packages\\sklearn\\cluster\\_kmeans.py:870: FutureWarning:\n",
      "\n",
      "The default value of `n_init` will change from 10 to 'auto' in 1.4. Set the value of `n_init` explicitly to suppress the warning\n",
      "\n"
     ]
    },
    {
     "data": {
      "image/png": "[encoded data removed]",
      "text/plain": [
       "<Figure size 640x480 with 2 Axes>"
      ]
     },
     "metadata": {},
     "output_type": "display_data"
    }
   ],
   "source": [
    "import pandas as pd\n",
    "import nltk\n",
    "from random import shuffle\n",
    "from gensim.models import Word2Vec\n",
    "from sklearn.manifold import TSNE\n",
    "import numpy as np\n",
    "import matplotlib.pyplot as plt\n",
    "import plotly.graph_objs as go\n",
    "from sklearn.cluster import KMeans\n",
    "\n",
    "data = pd.read_csv(\"cleanedData.csv\")\n",
    "\n",
    "data['courses'] = data[['code_module', 'code_presentation']].apply('-'.join, axis=1)\n",
    "data = data.replace(' ', '_', regex=True)\n",
    "\n",
    "# keep only relevant columns in our dataset\n",
    "data = data[['courses', 'id_student','gender','region',\n",
    "        'highest_education','imd_band', 'age_band',\n",
    "        'studied_credits', 'final_result']]\n",
    "\n",
    "\n",
    "tokenized_data = []\n",
    "aaa_2013j = ' '\n",
    "concatenatedAaa2013j = ' '\n",
    "aaa_2014j = ' '\n",
    "concatenatedAaa2014j = ' '\n",
    "bbb_2013b = ' '\n",
    "concatenatedBbb2013b = ' '\n",
    "bbb_2013j = ' '\n",
    "concatenatedBbb2013j = ' '\n",
    "bbb_2014b = ' '\n",
    "concatenatedBbb2014b = ' '\n",
    "bbb_2014j = ' '\n",
    "concatenatedBbb2014j = ' '\n",
    "ccc_2014b = ' '\n",
    "concatenatedCcc2014b = ' '\n",
    "ccc_2014j = ' '\n",
    "concatenatedCcc2014j = ' '\n",
    "ddd_2013b = ' '\n",
    "concatenatedDdd2013b = ' '\n",
    "ddd_2013j = ' '\n",
    "concatenatedDdd2013j = ' '\n",
    "ddd_2014b = ' '\n",
    "concatenatedDdd2014b = ' '\n",
    "ddd_2014j = ' '\n",
    "concatenatedDdd2014j = ' '\n",
    "eee_2013j = ' '\n",
    "concatenatedEee2013j = ' '\n",
    "eee_2014b = ' '\n",
    "concatenatedEee2014b = ' '\n",
    "eee_2014j = ' '\n",
    "concatenatedEee2014j = ' '\n",
    "fff_2013b = ' '\n",
    "concatenatedFff2013b = ' '\n",
    "fff_2013j = ' '\n",
    "concatenatedFff2013j = ' '\n",
    "fff_2014b = ' '\n",
    "concatenatedFff2014b = ' '\n",
    "fff_2014j = ' '\n",
    "concatenatedFff2014j = ' '\n",
    "ggg_2013j = ' '\n",
    "concatenatedGgg2013j = ' '\n",
    "ggg_2014b = ' '\n",
    "concatenatedGgg2014b = ' '\n",
    "ggg_2014j = ' '\n",
    "concatenatedGgg2014j = ' '\n",
    "for i in data.index:\n",
    "        if data['courses'][i] == 'AAA-2013J':\n",
    "                aaa_2013j = str(data['gender'][i] + ' ') + str(data['region'][i] + ' ') + str(data['highest_education'][i] + ' ') + str(data['imd_band'][i] + ' ') + str(data['age_band'][i] + ' ') + str(data['final_result'][i] + ' ')\n",
    "                aaa_2013j = aaa_2013j.lower()\n",
    "                split = aaa_2013j.split()\n",
    "                shuffle(split) \n",
    "                aaa_2013j = ' '.join(split) # Turn the list back into a string\n",
    "                concatenatedAaa2013j =' ' + aaa_2013j + concatenatedAaa2013j \n",
    "        elif data['courses'][i] == 'AAA-2014J':\n",
    "                aaa_2014j = str(data['gender'][i] + ' ') + str(data['region'][i] + ' ') + str(data['highest_education'][i] + ' ') + str(data['imd_band'][i] + ' ') + str(data['age_band'][i] + ' ') + str(data['final_result'][i] + ' ')\n",
    "                aaa_2014j = aaa_2014j.lower()\n",
    "                split = aaa_2014j.split()\n",
    "                shuffle(split)\n",
    "                aaa_2014j = ' '.join(split) # Turn the list back into a string \n",
    "                concatenatedAaa2014j =' ' + aaa_2014j + concatenatedAaa2014j\n",
    "        elif data['courses'][i] == 'BBB-2013B':\n",
    "                bbb_2013b = str(data['gender'][i] + ' ') + str(data['region'][i] + ' ') + str(data['highest_education'][i] + ' ') + str(data['imd_band'][i] + ' ') + str(data['age_band'][i] + ' ') + str(data['final_result'][i] + ' ')\n",
    "                bbb_2013b = bbb_2013b.lower()\n",
    "                split = bbb_2013b.split()\n",
    "                shuffle(split)\n",
    "                bbb_2013b = ' '.join(split) # Turn the list back into a string\n",
    "                concatenatedBbb2013b =' ' + bbb_2013b + concatenatedBbb2013b\n",
    "        elif data['courses'][i] == 'BBB-2013J':\n",
    "                bbb_2013j = str(data['gender'][i] + ' ') + str(data['region'][i] + ' ') + str(data['highest_education'][i] + ' ') + str(data['imd_band'][i] + ' ') + str(data['age_band'][i] + ' ') + str(data['final_result'][i] + ' ')\n",
    "                bbb_2013j = bbb_2013j.lower()\n",
    "                split = bbb_2013j.split()\n",
    "                shuffle(split)\n",
    "                bbb_2013j = ' '.join(split) # Turn the list back into a string\n",
    "                concatenatedBbb2013j =' ' + bbb_2013j + concatenatedBbb2013j\n",
    "        elif data['courses'][i] == 'BBB-2014B':\n",
    "                bbb_2014b = str(data['gender'][i] + ' ') + str(data['region'][i] + ' ') + str(data['highest_education'][i] + ' ') + str(data['imd_band'][i] + ' ') + str(data['age_band'][i] + ' ') + str(data['final_result'][i] + ' ')\n",
    "                bbb_2014b = bbb_2014b.lower()\n",
    "                split = bbb_2014b.split()\n",
    "                shuffle(split)\n",
    "                bbb_2014b = ' '.join(split) # Turn the list back into a string\n",
    "                concatenatedBbb2014b =' ' + bbb_2014b + concatenatedBbb2014b\n",
    "        elif data['courses'][i] == 'BBB-2014J':\n",
    "                bbb_2014j = str(data['gender'][i] + ' ') + str(data['region'][i] + ' ') + str(data['highest_education'][i] + ' ') + str(data['imd_band'][i] + ' ') + str(data['age_band'][i] + ' ') + str(data['final_result'][i] + ' ')\n",
    "                bbb_2014j = bbb_2014j.lower()\n",
    "                split = bbb_2014j.split()\n",
    "                shuffle(split)\n",
    "                bbb_2014j = ' '.join(split) # Turn the list back into a string\n",
    "                concatenatedBbb2014j =' ' + bbb_2014j + concatenatedBbb2014j\n",
    "        elif data['courses'][i] == 'CCC-2014B':\n",
    "                ccc_2014b = str(data['gender'][i] + ' ') + str(data['region'][i] + ' ') + str(data['highest_education'][i] + ' ') + str(data['imd_band'][i] + ' ') + str(data['age_band'][i] + ' ') + str(data['final_result'][i] + ' ')\n",
    "                ccc_2014b = ccc_2014b.lower()\n",
    "                split = ccc_2014b.split()\n",
    "                shuffle(split)\n",
    "                ccc_2014b = ' '.join(split) # Turn the list back into a string\n",
    "                concatenatedCcc2014b =' ' + ccc_2014b + concatenatedCcc2014b\n",
    "        elif data['courses'][i] == 'CCC-2014J':\n",
    "                ccc_2014j = str(data['gender'][i] + ' ') + str(data['region'][i] + ' ') + str(data['highest_education'][i] + ' ') + str(data['imd_band'][i] + ' ') + str(data['age_band'][i] + ' ') + str(data['final_result'][i] + ' ')\n",
    "                ccc_2014j = ccc_2014j.lower()\n",
    "                split = ccc_2014j.split()\n",
    "                shuffle(split)\n",
    "                ccc_2014j = ' '.join(split) # Turn the list back into a string\n",
    "                concatenatedCcc2014j =' ' + ccc_2014j + concatenatedCcc2014j\n",
    "        elif data['courses'][i] == 'DDD-2013B':\n",
    "                ddd_2013b = str(data['gender'][i] + ' ') + str(data['region'][i] + ' ') + str(data['highest_education'][i] + ' ') + str(data['imd_band'][i] + ' ') + str(data['age_band'][i] + ' ') + str(data['final_result'][i] + ' ')\n",
    "                ddd_2013b = ddd_2013b.lower()\n",
    "                split = ddd_2013b.split()\n",
    "                shuffle(split)\n",
    "                ddd_2013b = ' '.join(split) # Turn the list back into a string\n",
    "                concatenatedDdd2013b =' ' + ddd_2013b + concatenatedDdd2013b\n",
    "        elif data['courses'][i] == 'DDD-2013J':\n",
    "                ddd_2013j = str(data['gender'][i] + ' ') + str(data['region'][i] + ' ') + str(data['highest_education'][i] + ' ') + str(data['imd_band'][i] + ' ') + str(data['age_band'][i] + ' ') + str(data['final_result'][i] + ' ')\n",
    "                ddd_2013j = ddd_2013j.lower()\n",
    "                split = ddd_2013j.split()\n",
    "                shuffle(split)\n",
    "                ddd_2013j = ' '.join(split) # Turn the list back into a string\n",
    "                concatenatedDdd2013j =' ' + ddd_2013j + concatenatedDdd2013j\n",
    "        elif data['courses'][i] == 'DDD-2014B':\n",
    "                ddd_2014b = str(data['gender'][i] + ' ') + str(data['region'][i] + ' ') + str(data['highest_education'][i] + ' ') + str(data['imd_band'][i] + ' ') + str(data['age_band'][i] + ' ') + str(data['final_result'][i] + ' ')\n",
    "                ddd_2014b = ddd_2014b.lower()\n",
    "                split = ddd_2014b.split()\n",
    "                shuffle(split)\n",
    "                ddd_2014b = ' '.join(split) # Turn the list back into a string\n",
    "                concatenatedDdd2014b =' ' + ddd_2014b + concatenatedDdd2014b\n",
    "        elif data['courses'][i] == 'DDD-2014J':\n",
    "                ddd_2014j = str(data['gender'][i] + ' ') + str(data['region'][i] + ' ') + str(data['highest_education'][i] + ' ') + str(data['imd_band'][i] + ' ') + str(data['age_band'][i] + ' ') + str(data['final_result'][i] + ' ')\n",
    "                ddd_2014j = ddd_2014j.lower()\n",
    "                split = ddd_2014j.split()\n",
    "                shuffle(split)\n",
    "                ddd_2014j = ' '.join(split) # Turn the list back into a string\n",
    "                concatenatedDdd2014j =' ' + ddd_2014j + concatenatedDdd2014j\n",
    "        elif data['courses'][i] == 'EEE-2013J':\n",
    "                eee_2013j = str(data['gender'][i] + ' ') + str(data['region'][i] + ' ') + str(data['highest_education'][i] + ' ') + str(data['imd_band'][i] + ' ') + str(data['age_band'][i] + ' ') + str(data['final_result'][i] + ' ')\n",
    "                eee_2013j = eee_2013j.lower()\n",
    "                split = eee_2013j.split()\n",
    "                shuffle(split)\n",
    "                eee_2013j = ' '.join(split) # Turn the list back into a string\n",
    "                concatenatedEee2013j =' ' + eee_2013j + concatenatedEee2013j                                                                           \n",
    "        elif data['courses'][i] == 'EEE-2014B':\n",
    "                eee_2014b = str(data['gender'][i] + ' ') + str(data['region'][i] + ' ') + str(data['highest_education'][i] + ' ') + str(data['imd_band'][i] + ' ') + str(data['age_band'][i] + ' ') + str(data['final_result'][i] + ' ')\n",
    "                eee_2014b = eee_2014b.lower()\n",
    "                split = eee_2014b.split()\n",
    "                shuffle(split)\n",
    "                eee_2014b = ' '.join(split) # Turn the list back into a string\n",
    "                concatenatedEee2014b =' ' + eee_2014b + concatenatedEee2014b\n",
    "        elif data['courses'][i] == 'EEE-2014J':\n",
    "                eee_2014j = str(data['gender'][i] + ' ') + str(data['region'][i] + ' ') + str(data['highest_education'][i] + ' ') + str(data['imd_band'][i] + ' ') + str(data['age_band'][i] + ' ') + str(data['final_result'][i] + ' ')\n",
    "                eee_2014j = eee_2014j.lower()\n",
    "                split = eee_2014j.split()\n",
    "                shuffle(split)\n",
    "                eee_2014j = ' '.join(split) # Turn the list back into a string\n",
    "                concatenatedEee2014j =' ' + eee_2014j + concatenatedEee2014j\n",
    "        elif data['courses'][i] == 'FFF-2013B':\n",
    "                fff_2013b = str(data['gender'][i] + ' ') + str(data['region'][i] + ' ') + str(data['highest_education'][i] + ' ') + str(data['imd_band'][i] + ' ') + str(data['age_band'][i] + ' ') + str(data['final_result'][i] + ' ')\n",
    "                fff_2013b = fff_2013b.lower()\n",
    "                split = fff_2013b.split()\n",
    "                shuffle(split)\n",
    "                fff_2013b = ' '.join(split) # Turn the list back into a string\n",
    "                concatenatedFff2013b =' ' + fff_2013b + concatenatedFff2013b\n",
    "        elif data['courses'][i] == 'FFF-2013J':\n",
    "                fff_2013j = str(data['gender'][i] + ' ') + str(data['region'][i] + ' ') + str(data['highest_education'][i] + ' ') + str(data['imd_band'][i] + ' ') + str(data['age_band'][i] + ' ') + str(data['final_result'][i] + ' ')\n",
    "                fff_2013j = fff_2013j.lower()\n",
    "                split = fff_2013j.split()\n",
    "                shuffle(split)\n",
    "                fff_2013j = ' '.join(split) # Turn the list back into a string\n",
    "                concatenatedFff2013j =' ' + fff_2013j + concatenatedFff2013j\n",
    "        elif data['courses'][i] == 'FFF-2014B':\n",
    "                fff_2014b = str(data['gender'][i] + ' ') + str(data['region'][i] + ' ') + str(data['highest_education'][i] + ' ') + str(data['imd_band'][i] + ' ') + str(data['age_band'][i] + ' ') + str(data['final_result'][i] + ' ')\n",
    "                fff_2014b = fff_2014b.lower()\n",
    "                split = fff_2014b.split()\n",
    "                shuffle(split)\n",
    "                fff_2014b = ' '.join(split) # Turn the list back into a string\n",
    "                concatenatedFff2014b =' ' + fff_2014b + concatenatedFff2014b\n",
    "        elif data['courses'][i] == 'FFF-2014J':\n",
    "                fff_2014j = str(data['gender'][i] + ' ') + str(data['region'][i] + ' ') + str(data['highest_education'][i] + ' ') + str(data['imd_band'][i] + ' ') + str(data['age_band'][i] + ' ') + str(data['final_result'][i] + ' ')\n",
    "                fff_2014j = fff_2014j.lower()\n",
    "                split = fff_2014j.split()\n",
    "                shuffle(split)\n",
    "                fff_2014j = ' '.join(split) # Turn the list back into a string\n",
    "                concatenatedFff2014j =' ' + fff_2014j + concatenatedFff2014j\n",
    "        elif data['courses'][i] == 'GGG-2013J':\n",
    "                ggg_2013j = str(data['gender'][i] + ' ') + str(data['region'][i] + ' ') + str(data['highest_education'][i] + ' ') + str(data['imd_band'][i] + ' ') + str(data['age_band'][i] + ' ') + str(data['final_result'][i] + ' ')\n",
    "                ggg_2013j = ggg_2013j.lower()\n",
    "                split = ggg_2013j.split()\n",
    "                shuffle(split)\n",
    "                ggg_2013j = ' '.join(split) # Turn the list back into a string\n",
    "                concatenatedGgg2013j =' ' + ggg_2013j + concatenatedGgg2013j\n",
    "        elif data['courses'][i] == 'GGG-2014B':\n",
    "                ggg_2014b = str(data['gender'][i] + ' ') + str(data['region'][i] + ' ') + str(data['highest_education'][i] + ' ') + str(data['imd_band'][i] + ' ') + str(data['age_band'][i] + ' ') + str(data['final_result'][i] + ' ')\n",
    "                ggg_2014b = ggg_2014b.lower()\n",
    "                split = ggg_2014b.split()\n",
    "                shuffle(split)\n",
    "                ggg_2014b = ' '.join(split) # Turn the list back into a string\n",
    "                concatenatedGgg2014b =' ' + ggg_2014b + concatenatedGgg2014b\n",
    "        elif data['courses'][i] == 'GGG-2014J':\n",
    "                ggg_2014j = str(data['gender'][i] + ' ') + str(data['region'][i] + ' ') + str(data['highest_education'][i] + ' ') + str(data['imd_band'][i] + ' ') + str(data['age_band'][i] + ' ') + str(data['final_result'][i] + ' ')\n",
    "                ggg_2014j = ggg_2014j.lower()\n",
    "                split = ggg_2014j.split()\n",
    "                shuffle(split)\n",
    "                ggg_2014j = ' '.join(split) # Turn the list back into a string\n",
    "                concatenatedGgg2014j =' ' + ggg_2014j + concatenatedGgg2014j\n",
    "                                                                                \n",
    "tokenized_data.append(nltk.word_tokenize(concatenatedAaa2013j))\n",
    "tokenized_data.append(nltk.word_tokenize(concatenatedAaa2014j))\n",
    "tokenized_data.append(nltk.word_tokenize(concatenatedBbb2013b))\n",
    "tokenized_data.append(nltk.word_tokenize(concatenatedBbb2013j))\n",
    "tokenized_data.append(nltk.word_tokenize(concatenatedBbb2014b))\n",
    "tokenized_data.append(nltk.word_tokenize(concatenatedBbb2014j))\n",
    "tokenized_data.append(nltk.word_tokenize(concatenatedCcc2014b))\n",
    "tokenized_data.append(nltk.word_tokenize(concatenatedCcc2014j))\n",
    "tokenized_data.append(nltk.word_tokenize(concatenatedDdd2013b))\n",
    "tokenized_data.append(nltk.word_tokenize(concatenatedDdd2013j))\n",
    "tokenized_data.append(nltk.word_tokenize(concatenatedDdd2014b))\n",
    "tokenized_data.append(nltk.word_tokenize(concatenatedDdd2014j))\n",
    "tokenized_data.append(nltk.word_tokenize(concatenatedEee2013j))\n",
    "tokenized_data.append(nltk.word_tokenize(concatenatedEee2014b))\n",
    "tokenized_data.append(nltk.word_tokenize(concatenatedEee2014j))\n",
    "tokenized_data.append(nltk.word_tokenize(concatenatedFff2013b))\n",
    "tokenized_data.append(nltk.word_tokenize(concatenatedFff2013j))\n",
    "tokenized_data.append(nltk.word_tokenize(concatenatedFff2014b))\n",
    "tokenized_data.append(nltk.word_tokenize(concatenatedFff2014j))\n",
    "tokenized_data.append(nltk.word_tokenize(concatenatedGgg2013j))\n",
    "tokenized_data.append(nltk.word_tokenize(concatenatedGgg2014b))\n",
    "tokenized_data.append(nltk.word_tokenize(concatenatedGgg2014j))\n",
    "\n",
    "\n",
    "\n",
    "\n",
    "             \n",
    "\n",
    "# training the W2V model\n",
    "model = Word2Vec(sentences=tokenized_data, \n",
    "                 window=6,  \n",
    "                 workers=4)\n",
    "\n",
    "\n",
    "def reduce_dimensions(model):\n",
    "    num_components = 2 # number of dimensions to keep after compression\n",
    "    # extract vocabulary from model and vectors in order to associate them in t\n",
    "    vectors = np.asarray(model.wv.vectors)\n",
    "    labels = np.asarray(model.wv.index_to_key)\n",
    "    # apply TSNE\n",
    "    tsne = TSNE(n_components=num_components, random_state=0)\n",
    "    vectors = tsne.fit_transform(vectors)\n",
    "    x_vals = [v[0] for v in vectors]\n",
    "    y_vals = [v[1] for v in vectors]\n",
    "    return x_vals, y_vals, labels\n",
    "\n",
    "def plot_embeddings(x_vals, y_vals, labels):\n",
    " \n",
    "    fig = go.Figure()\n",
    "    trace = go.Scatter(x=x_vals, y=y_vals, mode='markers', text=labels)\n",
    "    fig.add_trace(trace)\n",
    "    fig.update_layout(title=\"Word2Vec - Visualizzazione embedding con TSNE\")\n",
    "    fig.show()\n",
    "    return fig\n",
    "\n",
    "x_vals, y_vals, labels = reduce_dimensions(model)\n",
    "plot = plot_embeddings(x_vals, y_vals, labels)\n",
    "\n",
    "def run_tsne(data, num_dimensions=2, perplexity=30.0, learning_rate=200.0, num_iterations=1000):\n",
    "        # Create t-SNE object\n",
    "        tsne = TSNE(n_components=num_dimensions, perplexity=perplexity, learning_rate=learning_rate, n_iter=num_iterations)\n",
    "\n",
    "        # Run t-SNE on the data\n",
    "        embedded_data = tsne.fit_transform(data)\n",
    "    \n",
    "        return embedded_data\n",
    "\n",
    "\n",
    "def plot_tsne(embedded_data):\n",
    "        # Create a scatter plot of the embedded data\n",
    "        plt.scatter(embedded_data[:, 0], embedded_data[:, 1])\n",
    "        plt.colorbar()\n",
    "        plt.show()\n",
    "\n",
    "\n",
    "\n",
    "\n",
    "# Generate random data\n",
    "data = np.asarray(model.wv.vectors)\n",
    "\n",
    "# Run t-SNE\n",
    "embedded_data = run_tsne(data)\n",
    "\n",
    "\n",
    "\n",
    "\n",
    "\n",
    "kmeans = KMeans()  \n",
    "kmeans.fit(embedded_data)\n",
    "\n",
    "\n",
    "cluster_labels = kmeans.labels_\n",
    "\n",
    "\n",
    "plt.scatter(embedded_data[:, 0], embedded_data[:, 1], c=cluster_labels)\n",
    "plt.colorbar()\n",
    "plt.show()\n",
    "  "
   ]
  }
 ],
 "metadata": {
  "kernelspec": {
   "display_name": "myenv",
   "language": "python",
   "name": "python3"
  },
  "language_info": {
   "codemirror_mode": {
    "name": "ipython",
    "version": 3
   },
   "file_extension": ".py",
   "mimetype": "text/x-python",
   "name": "python",
   "nbconvert_exporter": "python",
   "pygments_lexer": "ipython3",
   "version": "3.10.11"
  },
  "orig_nbformat": 4
 },
 "nbformat": 4,
 "nbformat_minor": 2
}
